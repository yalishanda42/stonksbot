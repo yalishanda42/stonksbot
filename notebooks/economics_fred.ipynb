{
 "cells": [
  {
   "cell_type": "code",
   "execution_count": null,
   "metadata": {},
   "outputs": [],
   "source": [
    "!pip install fredapi==0.5.2"
   ]
  },
  {
   "cell_type": "code",
   "execution_count": 1,
   "metadata": {},
   "outputs": [],
   "source": [
    "from fredapi import Fred"
   ]
  },
  {
   "cell_type": "code",
   "execution_count": 2,
   "metadata": {},
   "outputs": [
    {
     "data": {
      "text/plain": [
       "True"
      ]
     },
     "execution_count": 2,
     "metadata": {},
     "output_type": "execute_result"
    }
   ],
   "source": [
    "import dotenv\n",
    "dotenv.load_dotenv()"
   ]
  },
  {
   "cell_type": "code",
   "execution_count": 4,
   "metadata": {},
   "outputs": [],
   "source": [
    "import os"
   ]
  },
  {
   "cell_type": "code",
   "execution_count": 5,
   "metadata": {},
   "outputs": [],
   "source": [
    "FRED_API_KEY = os.getenv(\"FRED_API_KEY\")"
   ]
  },
  {
   "cell_type": "code",
   "execution_count": 6,
   "metadata": {},
   "outputs": [],
   "source": [
    "fred = Fred(api_key=FRED_API_KEY)"
   ]
  },
  {
   "cell_type": "code",
   "execution_count": 15,
   "metadata": {},
   "outputs": [
    {
     "data": {
      "text/html": [
       "<div>\n",
       "<style scoped>\n",
       "    .dataframe tbody tr th:only-of-type {\n",
       "        vertical-align: middle;\n",
       "    }\n",
       "\n",
       "    .dataframe tbody tr th {\n",
       "        vertical-align: top;\n",
       "    }\n",
       "\n",
       "    .dataframe thead th {\n",
       "        text-align: right;\n",
       "    }\n",
       "</style>\n",
       "<table border=\"1\" class=\"dataframe\">\n",
       "  <thead>\n",
       "    <tr style=\"text-align: right;\">\n",
       "      <th></th>\n",
       "      <th>id</th>\n",
       "      <th>realtime_start</th>\n",
       "      <th>realtime_end</th>\n",
       "      <th>title</th>\n",
       "      <th>observation_start</th>\n",
       "      <th>observation_end</th>\n",
       "      <th>frequency</th>\n",
       "      <th>frequency_short</th>\n",
       "      <th>units</th>\n",
       "      <th>units_short</th>\n",
       "      <th>seasonal_adjustment</th>\n",
       "      <th>seasonal_adjustment_short</th>\n",
       "      <th>last_updated</th>\n",
       "      <th>popularity</th>\n",
       "      <th>notes</th>\n",
       "    </tr>\n",
       "    <tr>\n",
       "      <th>series id</th>\n",
       "      <th></th>\n",
       "      <th></th>\n",
       "      <th></th>\n",
       "      <th></th>\n",
       "      <th></th>\n",
       "      <th></th>\n",
       "      <th></th>\n",
       "      <th></th>\n",
       "      <th></th>\n",
       "      <th></th>\n",
       "      <th></th>\n",
       "      <th></th>\n",
       "      <th></th>\n",
       "      <th></th>\n",
       "      <th></th>\n",
       "    </tr>\n",
       "  </thead>\n",
       "  <tbody>\n",
       "    <tr>\n",
       "      <th>GDP</th>\n",
       "      <td>GDP</td>\n",
       "      <td>2024-05-29</td>\n",
       "      <td>2024-05-29</td>\n",
       "      <td>Gross Domestic Product</td>\n",
       "      <td>1947-01-01</td>\n",
       "      <td>2024-01-01</td>\n",
       "      <td>Quarterly</td>\n",
       "      <td>Q</td>\n",
       "      <td>Billions of Dollars</td>\n",
       "      <td>Bil. of $</td>\n",
       "      <td>Seasonally Adjusted Annual Rate</td>\n",
       "      <td>SAAR</td>\n",
       "      <td>2024-04-25 07:57:02-05:00</td>\n",
       "      <td>93</td>\n",
       "      <td>BEA Account Code: A191RC  Gross domestic produ...</td>\n",
       "    </tr>\n",
       "    <tr>\n",
       "      <th>GDPC1</th>\n",
       "      <td>GDPC1</td>\n",
       "      <td>2024-05-29</td>\n",
       "      <td>2024-05-29</td>\n",
       "      <td>Real Gross Domestic Product</td>\n",
       "      <td>1947-01-01</td>\n",
       "      <td>2024-01-01</td>\n",
       "      <td>Quarterly</td>\n",
       "      <td>Q</td>\n",
       "      <td>Billions of Chained 2017 Dollars</td>\n",
       "      <td>Bil. of Chn. 2017 $</td>\n",
       "      <td>Seasonally Adjusted Annual Rate</td>\n",
       "      <td>SAAR</td>\n",
       "      <td>2024-04-25 07:57:03-05:00</td>\n",
       "      <td>92</td>\n",
       "      <td>BEA Account Code: A191RX  Real gross domestic ...</td>\n",
       "    </tr>\n",
       "    <tr>\n",
       "      <th>CANGDPRQPSMEI</th>\n",
       "      <td>CANGDPRQPSMEI</td>\n",
       "      <td>2024-05-29</td>\n",
       "      <td>2024-05-29</td>\n",
       "      <td>National Accounts: GDP by Expenditure: Constan...</td>\n",
       "      <td>1962-01-01</td>\n",
       "      <td>2024-01-01</td>\n",
       "      <td>Quarterly</td>\n",
       "      <td>Q</td>\n",
       "      <td>Growth rate same period previous year</td>\n",
       "      <td>Growth rate same period previous Yr.</td>\n",
       "      <td>Seasonally Adjusted</td>\n",
       "      <td>SA</td>\n",
       "      <td>2024-05-15 14:10:06-05:00</td>\n",
       "      <td>9</td>\n",
       "      <td>OECD Data Filters:  REF_AREA: CAN MEASURE: B1G...</td>\n",
       "    </tr>\n",
       "  </tbody>\n",
       "</table>\n",
       "</div>"
      ],
      "text/plain": [
       "                          id realtime_start realtime_end  \\\n",
       "series id                                                  \n",
       "GDP                      GDP     2024-05-29   2024-05-29   \n",
       "GDPC1                  GDPC1     2024-05-29   2024-05-29   \n",
       "CANGDPRQPSMEI  CANGDPRQPSMEI     2024-05-29   2024-05-29   \n",
       "\n",
       "                                                           title  \\\n",
       "series id                                                          \n",
       "GDP                                       Gross Domestic Product   \n",
       "GDPC1                                Real Gross Domestic Product   \n",
       "CANGDPRQPSMEI  National Accounts: GDP by Expenditure: Constan...   \n",
       "\n",
       "              observation_start observation_end  frequency frequency_short  \\\n",
       "series id                                                                    \n",
       "GDP                  1947-01-01      2024-01-01  Quarterly               Q   \n",
       "GDPC1                1947-01-01      2024-01-01  Quarterly               Q   \n",
       "CANGDPRQPSMEI        1962-01-01      2024-01-01  Quarterly               Q   \n",
       "\n",
       "                                               units  \\\n",
       "series id                                              \n",
       "GDP                              Billions of Dollars   \n",
       "GDPC1               Billions of Chained 2017 Dollars   \n",
       "CANGDPRQPSMEI  Growth rate same period previous year   \n",
       "\n",
       "                                        units_short  \\\n",
       "series id                                             \n",
       "GDP                                       Bil. of $   \n",
       "GDPC1                           Bil. of Chn. 2017 $   \n",
       "CANGDPRQPSMEI  Growth rate same period previous Yr.   \n",
       "\n",
       "                           seasonal_adjustment seasonal_adjustment_short  \\\n",
       "series id                                                                  \n",
       "GDP            Seasonally Adjusted Annual Rate                      SAAR   \n",
       "GDPC1          Seasonally Adjusted Annual Rate                      SAAR   \n",
       "CANGDPRQPSMEI              Seasonally Adjusted                        SA   \n",
       "\n",
       "                            last_updated popularity  \\\n",
       "series id                                             \n",
       "GDP            2024-04-25 07:57:02-05:00         93   \n",
       "GDPC1          2024-04-25 07:57:03-05:00         92   \n",
       "CANGDPRQPSMEI  2024-05-15 14:10:06-05:00          9   \n",
       "\n",
       "                                                           notes  \n",
       "series id                                                         \n",
       "GDP            BEA Account Code: A191RC  Gross domestic produ...  \n",
       "GDPC1          BEA Account Code: A191RX  Real gross domestic ...  \n",
       "CANGDPRQPSMEI  OECD Data Filters:  REF_AREA: CAN MEASURE: B1G...  "
      ]
     },
     "execution_count": 15,
     "metadata": {},
     "output_type": "execute_result"
    }
   ],
   "source": [
    "fred.search(\"GDP\").sort_values(\"popularity\", ascending=False).head(3)"
   ]
  },
  {
   "cell_type": "code",
   "execution_count": 16,
   "metadata": {},
   "outputs": [
    {
     "name": "stderr",
     "output_type": "stream",
     "text": [
      "c:\\Users\\Owner\\Documents\\stonksbot\\venv\\Lib\\site-packages\\pandas\\core\\indexes\\base.py:7588: FutureWarning: Dtype inference on a pandas object (Series, Index, ExtensionArray) is deprecated. The Index constructor will keep the original dtype in the future. Call `infer_objects` on the result to get the old behavior.\n",
      "  return Index(sequences[0], name=names)\n"
     ]
    },
    {
     "data": {
      "text/plain": [
       "date\n",
       "1946-01-01        199.7\n",
       "1946-04-01        207.7\n",
       "1946-07-01        217.9\n",
       "1946-10-01        222.2\n",
       "1947-01-01        226.7\n",
       "                ...    \n",
       "2023-01-01    26465.865\n",
       "2023-04-01    26834.953\n",
       "2023-07-01    27623.543\n",
       "2023-10-01    27938.831\n",
       "2024-01-01    28284.498\n",
       "Name: value, Length: 313, dtype: object"
      ]
     },
     "execution_count": 16,
     "metadata": {},
     "output_type": "execute_result"
    }
   ],
   "source": [
    "fred.get_series_first_release(\"GDP\")"
   ]
  },
  {
   "cell_type": "code",
   "execution_count": 17,
   "metadata": {},
   "outputs": [
    {
     "data": {
      "text/html": [
       "<div>\n",
       "<style scoped>\n",
       "    .dataframe tbody tr th:only-of-type {\n",
       "        vertical-align: middle;\n",
       "    }\n",
       "\n",
       "    .dataframe tbody tr th {\n",
       "        vertical-align: top;\n",
       "    }\n",
       "\n",
       "    .dataframe thead th {\n",
       "        text-align: right;\n",
       "    }\n",
       "</style>\n",
       "<table border=\"1\" class=\"dataframe\">\n",
       "  <thead>\n",
       "    <tr style=\"text-align: right;\">\n",
       "      <th></th>\n",
       "      <th>realtime_start</th>\n",
       "      <th>date</th>\n",
       "      <th>value</th>\n",
       "    </tr>\n",
       "  </thead>\n",
       "  <tbody>\n",
       "    <tr>\n",
       "      <th>0</th>\n",
       "      <td>1992-12-22 00:00:00</td>\n",
       "      <td>1946-01-01 00:00:00</td>\n",
       "      <td>199.7</td>\n",
       "    </tr>\n",
       "    <tr>\n",
       "      <th>1</th>\n",
       "      <td>1996-01-19 00:00:00</td>\n",
       "      <td>1946-01-01 00:00:00</td>\n",
       "      <td>NaT</td>\n",
       "    </tr>\n",
       "    <tr>\n",
       "      <th>2</th>\n",
       "      <td>1997-05-07 00:00:00</td>\n",
       "      <td>1946-01-01 00:00:00</td>\n",
       "      <td>210.4</td>\n",
       "    </tr>\n",
       "    <tr>\n",
       "      <th>3</th>\n",
       "      <td>1999-10-28 00:00:00</td>\n",
       "      <td>1946-01-01 00:00:00</td>\n",
       "      <td>NaT</td>\n",
       "    </tr>\n",
       "    <tr>\n",
       "      <th>4</th>\n",
       "      <td>1992-12-22 00:00:00</td>\n",
       "      <td>1946-04-01 00:00:00</td>\n",
       "      <td>207.7</td>\n",
       "    </tr>\n",
       "    <tr>\n",
       "      <th>...</th>\n",
       "      <td>...</td>\n",
       "      <td>...</td>\n",
       "      <td>...</td>\n",
       "    </tr>\n",
       "    <tr>\n",
       "      <th>3167</th>\n",
       "      <td>2023-12-21 00:00:00</td>\n",
       "      <td>2023-07-01 00:00:00</td>\n",
       "      <td>27610.128</td>\n",
       "    </tr>\n",
       "    <tr>\n",
       "      <th>3168</th>\n",
       "      <td>2024-01-25 00:00:00</td>\n",
       "      <td>2023-10-01 00:00:00</td>\n",
       "      <td>27938.831</td>\n",
       "    </tr>\n",
       "    <tr>\n",
       "      <th>3169</th>\n",
       "      <td>2024-02-28 00:00:00</td>\n",
       "      <td>2023-10-01 00:00:00</td>\n",
       "      <td>27944.627</td>\n",
       "    </tr>\n",
       "    <tr>\n",
       "      <th>3170</th>\n",
       "      <td>2024-03-28 00:00:00</td>\n",
       "      <td>2023-10-01 00:00:00</td>\n",
       "      <td>27956.998</td>\n",
       "    </tr>\n",
       "    <tr>\n",
       "      <th>3171</th>\n",
       "      <td>2024-04-25 00:00:00</td>\n",
       "      <td>2024-01-01 00:00:00</td>\n",
       "      <td>28284.498</td>\n",
       "    </tr>\n",
       "  </tbody>\n",
       "</table>\n",
       "<p>3172 rows × 3 columns</p>\n",
       "</div>"
      ],
      "text/plain": [
       "           realtime_start                 date      value\n",
       "0     1992-12-22 00:00:00  1946-01-01 00:00:00      199.7\n",
       "1     1996-01-19 00:00:00  1946-01-01 00:00:00        NaT\n",
       "2     1997-05-07 00:00:00  1946-01-01 00:00:00      210.4\n",
       "3     1999-10-28 00:00:00  1946-01-01 00:00:00        NaT\n",
       "4     1992-12-22 00:00:00  1946-04-01 00:00:00      207.7\n",
       "...                   ...                  ...        ...\n",
       "3167  2023-12-21 00:00:00  2023-07-01 00:00:00  27610.128\n",
       "3168  2024-01-25 00:00:00  2023-10-01 00:00:00  27938.831\n",
       "3169  2024-02-28 00:00:00  2023-10-01 00:00:00  27944.627\n",
       "3170  2024-03-28 00:00:00  2023-10-01 00:00:00  27956.998\n",
       "3171  2024-04-25 00:00:00  2024-01-01 00:00:00  28284.498\n",
       "\n",
       "[3172 rows x 3 columns]"
      ]
     },
     "execution_count": 17,
     "metadata": {},
     "output_type": "execute_result"
    }
   ],
   "source": [
    "fred.get_series_as_of_date(\"GDP\", \"2024-05-01\")"
   ]
  },
  {
   "cell_type": "code",
   "execution_count": null,
   "metadata": {},
   "outputs": [],
   "source": []
  }
 ],
 "metadata": {
  "kernelspec": {
   "display_name": "venv",
   "language": "python",
   "name": "python3"
  },
  "language_info": {
   "codemirror_mode": {
    "name": "ipython",
    "version": 3
   },
   "file_extension": ".py",
   "mimetype": "text/x-python",
   "name": "python",
   "nbconvert_exporter": "python",
   "pygments_lexer": "ipython3",
   "version": "3.11.9"
  }
 },
 "nbformat": 4,
 "nbformat_minor": 2
}
