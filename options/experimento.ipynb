{
 "cells": [
  {
   "cell_type": "code",
   "execution_count": 2,
   "metadata": {},
   "outputs": [
    {
     "name": "stdout",
     "output_type": "stream",
     "text": [
      "Requirement already satisfied: matplotlib in c:\\users\\owner\\documents\\stonksbot\\venv\\lib\\site-packages (3.9.0)\n",
      "Requirement already satisfied: pandas in c:\\users\\owner\\documents\\stonksbot\\venv\\lib\\site-packages (2.2.2)\n",
      "Requirement already satisfied: seaborn in c:\\users\\owner\\documents\\stonksbot\\venv\\lib\\site-packages (0.13.2)\n",
      "Requirement already satisfied: numpy in c:\\users\\owner\\documents\\stonksbot\\venv\\lib\\site-packages (1.26.4)\n",
      "Requirement already satisfied: contourpy>=1.0.1 in c:\\users\\owner\\documents\\stonksbot\\venv\\lib\\site-packages (from matplotlib) (1.2.1)\n",
      "Requirement already satisfied: cycler>=0.10 in c:\\users\\owner\\documents\\stonksbot\\venv\\lib\\site-packages (from matplotlib) (0.12.1)\n",
      "Requirement already satisfied: fonttools>=4.22.0 in c:\\users\\owner\\documents\\stonksbot\\venv\\lib\\site-packages (from matplotlib) (4.52.4)\n",
      "Requirement already satisfied: kiwisolver>=1.3.1 in c:\\users\\owner\\documents\\stonksbot\\venv\\lib\\site-packages (from matplotlib) (1.4.5)\n",
      "Requirement already satisfied: packaging>=20.0 in c:\\users\\owner\\documents\\stonksbot\\venv\\lib\\site-packages (from matplotlib) (24.0)\n",
      "Requirement already satisfied: pillow>=8 in c:\\users\\owner\\documents\\stonksbot\\venv\\lib\\site-packages (from matplotlib) (10.3.0)\n",
      "Requirement already satisfied: pyparsing>=2.3.1 in c:\\users\\owner\\documents\\stonksbot\\venv\\lib\\site-packages (from matplotlib) (3.1.2)\n",
      "Requirement already satisfied: python-dateutil>=2.7 in c:\\users\\owner\\documents\\stonksbot\\venv\\lib\\site-packages (from matplotlib) (2.9.0.post0)\n",
      "Requirement already satisfied: pytz>=2020.1 in c:\\users\\owner\\documents\\stonksbot\\venv\\lib\\site-packages (from pandas) (2024.1)\n",
      "Requirement already satisfied: tzdata>=2022.7 in c:\\users\\owner\\documents\\stonksbot\\venv\\lib\\site-packages (from pandas) (2024.1)\n",
      "Requirement already satisfied: six>=1.5 in c:\\users\\owner\\documents\\stonksbot\\venv\\lib\\site-packages (from python-dateutil>=2.7->matplotlib) (1.16.0)\n",
      "Note: you may need to restart the kernel to use updated packages.\n"
     ]
    },
    {
     "name": "stderr",
     "output_type": "stream",
     "text": [
      "\n",
      "[notice] A new release of pip is available: 24.0 -> 24.3.1\n",
      "[notice] To update, run: python.exe -m pip install --upgrade pip\n"
     ]
    }
   ],
   "source": [
    "%pip install matplotlib pandas seaborn numpy"
   ]
  },
  {
   "cell_type": "code",
   "execution_count": 3,
   "metadata": {},
   "outputs": [],
   "source": [
    "import numpy as np\n",
    "import matplotlib.pyplot as plt\n",
    "import pandas as pd\n",
    "import seaborn as sns"
   ]
  },
  {
   "cell_type": "code",
   "execution_count": 4,
   "metadata": {},
   "outputs": [],
   "source": [
    "from numpy.typing import NDArray"
   ]
  },
  {
   "cell_type": "code",
   "execution_count": 5,
   "metadata": {},
   "outputs": [
    {
     "name": "stdout",
     "output_type": "stream",
     "text": [
      "Requirement already satisfied: alpaca-py in c:\\users\\owner\\documents\\stonksbot\\venv\\lib\\site-packages (0.35.0)\n",
      "Requirement already satisfied: msgpack<2.0.0,>=1.0.3 in c:\\users\\owner\\documents\\stonksbot\\venv\\lib\\site-packages (from alpaca-py) (1.1.0)\n",
      "Requirement already satisfied: pandas>=1.5.3 in c:\\users\\owner\\documents\\stonksbot\\venv\\lib\\site-packages (from alpaca-py) (2.2.2)\n",
      "Requirement already satisfied: pydantic<3.0.0,>=2.0.3 in c:\\users\\owner\\documents\\stonksbot\\venv\\lib\\site-packages (from alpaca-py) (2.7.1)\n",
      "Requirement already satisfied: requests<3.0.0,>=2.30.0 in c:\\users\\owner\\documents\\stonksbot\\venv\\lib\\site-packages (from alpaca-py) (2.32.2)\n",
      "Requirement already satisfied: sseclient-py<2.0.0,>=1.7.2 in c:\\users\\owner\\documents\\stonksbot\\venv\\lib\\site-packages (from alpaca-py) (1.8.0)\n",
      "Requirement already satisfied: websockets>=10.4 in c:\\users\\owner\\documents\\stonksbot\\venv\\lib\\site-packages (from alpaca-py) (14.1)\n",
      "Requirement already satisfied: numpy>=1.23.2 in c:\\users\\owner\\documents\\stonksbot\\venv\\lib\\site-packages (from pandas>=1.5.3->alpaca-py) (1.26.4)\n",
      "Requirement already satisfied: python-dateutil>=2.8.2 in c:\\users\\owner\\documents\\stonksbot\\venv\\lib\\site-packages (from pandas>=1.5.3->alpaca-py) (2.9.0.post0)\n",
      "Requirement already satisfied: pytz>=2020.1 in c:\\users\\owner\\documents\\stonksbot\\venv\\lib\\site-packages (from pandas>=1.5.3->alpaca-py) (2024.1)\n",
      "Requirement already satisfied: tzdata>=2022.7 in c:\\users\\owner\\documents\\stonksbot\\venv\\lib\\site-packages (from pandas>=1.5.3->alpaca-py) (2024.1)\n",
      "Requirement already satisfied: annotated-types>=0.4.0 in c:\\users\\owner\\documents\\stonksbot\\venv\\lib\\site-packages (from pydantic<3.0.0,>=2.0.3->alpaca-py) (0.7.0)\n",
      "Requirement already satisfied: pydantic-core==2.18.2 in c:\\users\\owner\\documents\\stonksbot\\venv\\lib\\site-packages (from pydantic<3.0.0,>=2.0.3->alpaca-py) (2.18.2)\n",
      "Requirement already satisfied: typing-extensions>=4.6.1 in c:\\users\\owner\\documents\\stonksbot\\venv\\lib\\site-packages (from pydantic<3.0.0,>=2.0.3->alpaca-py) (4.12.0)\n",
      "Requirement already satisfied: charset-normalizer<4,>=2 in c:\\users\\owner\\documents\\stonksbot\\venv\\lib\\site-packages (from requests<3.0.0,>=2.30.0->alpaca-py) (3.3.2)\n",
      "Requirement already satisfied: idna<4,>=2.5 in c:\\users\\owner\\documents\\stonksbot\\venv\\lib\\site-packages (from requests<3.0.0,>=2.30.0->alpaca-py) (3.7)\n",
      "Requirement already satisfied: urllib3<3,>=1.21.1 in c:\\users\\owner\\documents\\stonksbot\\venv\\lib\\site-packages (from requests<3.0.0,>=2.30.0->alpaca-py) (2.2.1)\n",
      "Requirement already satisfied: certifi>=2017.4.17 in c:\\users\\owner\\documents\\stonksbot\\venv\\lib\\site-packages (from requests<3.0.0,>=2.30.0->alpaca-py) (2024.2.2)\n",
      "Requirement already satisfied: six>=1.5 in c:\\users\\owner\\documents\\stonksbot\\venv\\lib\\site-packages (from python-dateutil>=2.8.2->pandas>=1.5.3->alpaca-py) (1.16.0)\n",
      "Note: you may need to restart the kernel to use updated packages.\n"
     ]
    },
    {
     "name": "stderr",
     "output_type": "stream",
     "text": [
      "\n",
      "[notice] A new release of pip is available: 24.0 -> 24.3.1\n",
      "[notice] To update, run: python.exe -m pip install --upgrade pip\n"
     ]
    }
   ],
   "source": [
    "%pip install alpaca-py"
   ]
  },
  {
   "cell_type": "code",
   "execution_count": 6,
   "metadata": {},
   "outputs": [
    {
     "name": "stdout",
     "output_type": "stream",
     "text": [
      "Requirement already satisfied: plotly in c:\\users\\owner\\documents\\stonksbot\\venv\\lib\\site-packages (5.24.1)\n",
      "Requirement already satisfied: tenacity>=6.2.0 in c:\\users\\owner\\documents\\stonksbot\\venv\\lib\\site-packages (from plotly) (8.3.0)\n",
      "Requirement already satisfied: packaging in c:\\users\\owner\\documents\\stonksbot\\venv\\lib\\site-packages (from plotly) (24.0)\n",
      "Note: you may need to restart the kernel to use updated packages.\n"
     ]
    },
    {
     "name": "stderr",
     "output_type": "stream",
     "text": [
      "\n",
      "[notice] A new release of pip is available: 24.0 -> 24.3.1\n",
      "[notice] To update, run: python.exe -m pip install --upgrade pip\n"
     ]
    }
   ],
   "source": [
    "%pip install plotly"
   ]
  },
  {
   "cell_type": "code",
   "execution_count": 7,
   "metadata": {},
   "outputs": [],
   "source": [
    "import plotly.graph_objects as go\n",
    "\n",
    "\n",
    "def plot_candles_OHLC(data, title):\n",
    "    \"\"\"`data` should be an ndarray of shape (days, 4);\n",
    "    second axis has open, high, low and closing prices resp.\"\"\"\n",
    "    fig = go.Figure(data=[go.Candlestick(\n",
    "        x=list(range(len(data))),\n",
    "        open=data[:, 0],\n",
    "        high=data[:, 1],\n",
    "        low=data[:, 2],\n",
    "        close=data[:, 3],\n",
    "    )])\n",
    "\n",
    "    fig.update_layout(title=title)\n",
    "    fig.show()\n",
    "\n",
    "    return fig"
   ]
  },
  {
   "cell_type": "code",
   "execution_count": 8,
   "metadata": {},
   "outputs": [],
   "source": [
    "from alpaca.data.historical import OptionHistoricalDataClient, StockHistoricalDataClient\n",
    "from alpaca.data.requests import OptionBarsRequest, StockBarsRequest\n",
    "from alpaca.data.timeframe import TimeFrame"
   ]
  },
  {
   "cell_type": "code",
   "execution_count": 9,
   "metadata": {},
   "outputs": [
    {
     "data": {
      "text/plain": [
       "True"
      ]
     },
     "execution_count": 9,
     "metadata": {},
     "output_type": "execute_result"
    }
   ],
   "source": [
    "import dotenv\n",
    "dotenv.load_dotenv()"
   ]
  },
  {
   "cell_type": "code",
   "execution_count": 10,
   "metadata": {},
   "outputs": [],
   "source": [
    "import os"
   ]
  },
  {
   "cell_type": "code",
   "execution_count": 11,
   "metadata": {},
   "outputs": [],
   "source": [
    "ALPACA_PAPER_API_KEY = os.getenv(\"ALPACA_PAPER_API_KEY\")\n",
    "ALPACA_PAPER_SECRET_KEY = os.getenv(\"ALPACA_PAPER_SECRET_KEY\")\n",
    "\n",
    "if ALPACA_PAPER_API_KEY is None or ALPACA_PAPER_SECRET_KEY is None:\n",
    "    raise ValueError(\"API keys not found in environment variables.\")"
   ]
  },
  {
   "cell_type": "code",
   "execution_count": 12,
   "metadata": {},
   "outputs": [],
   "source": [
    "options_client = OptionHistoricalDataClient(ALPACA_PAPER_API_KEY, ALPACA_PAPER_SECRET_KEY)\n",
    "stocks_client = StockHistoricalDataClient(ALPACA_PAPER_API_KEY, ALPACA_PAPER_SECRET_KEY)"
   ]
  },
  {
   "cell_type": "code",
   "execution_count": 13,
   "metadata": {},
   "outputs": [],
   "source": [
    "from datetime import datetime, timedelta"
   ]
  },
  {
   "cell_type": "markdown",
   "metadata": {},
   "source": [
    "## Setting up and research"
   ]
  },
  {
   "cell_type": "code",
   "execution_count": 14,
   "metadata": {},
   "outputs": [],
   "source": [
    "start_date = datetime(2024, 2, 5)  # Monday\n",
    "asset = \"SPY\"  # S&P 500 ETF"
   ]
  },
  {
   "cell_type": "markdown",
   "metadata": {},
   "source": [
    "### Getting asset prices"
   ]
  },
  {
   "cell_type": "code",
   "execution_count": 15,
   "metadata": {},
   "outputs": [
    {
     "data": {
      "text/plain": [
       "{   'data': {   'SPY': [   {   'close': 492.55,\n",
       "                               'high': 494.3778,\n",
       "                               'low': 490.23,\n",
       "                               'open': 493.695,\n",
       "                               'symbol': 'SPY',\n",
       "                               'timestamp': datetime.datetime(2024, 2, 5, 5, 0, tzinfo=TzInfo(UTC)),\n",
       "                               'trade_count': 537117.0,\n",
       "                               'volume': 75685102.0,\n",
       "                               'vwap': 492.614541},\n",
       "                           {   'close': 493.98,\n",
       "                               'high': 494.32,\n",
       "                               'low': 492.05,\n",
       "                               'open': 493.52,\n",
       "                               'symbol': 'SPY',\n",
       "                               'timestamp': datetime.datetime(2024, 2, 6, 5, 0, tzinfo=TzInfo(UTC)),\n",
       "                               'trade_count': 456773.0,\n",
       "                               'volume': 55918602.0,\n",
       "                               'vwap': 493.014563},\n",
       "                           {   'close': 498.1,\n",
       "                               'high': 498.53,\n",
       "                               'low': 495.36,\n",
       "                               'open': 496.29,\n",
       "                               'symbol': 'SPY',\n",
       "                               'timestamp': datetime.datetime(2024, 2, 7, 5, 0, tzinfo=TzInfo(UTC)),\n",
       "                               'trade_count': 501857.0,\n",
       "                               'volume': 70556506.0,\n",
       "                               'vwap': 497.442779},\n",
       "                           {   'close': 498.32,\n",
       "                               'high': 498.71,\n",
       "                               'low': 497.26,\n",
       "                               'open': 498.1,\n",
       "                               'symbol': 'SPY',\n",
       "                               'timestamp': datetime.datetime(2024, 2, 8, 5, 0, tzinfo=TzInfo(UTC)),\n",
       "                               'trade_count': 406775.0,\n",
       "                               'volume': 52343636.0,\n",
       "                               'vwap': 498.025515},\n",
       "                           {   'close': 501.2,\n",
       "                               'high': 501.65,\n",
       "                               'low': 498.49,\n",
       "                               'open': 498.84,\n",
       "                               'symbol': 'SPY',\n",
       "                               'timestamp': datetime.datetime(2024, 2, 9, 5, 0, tzinfo=TzInfo(UTC)),\n",
       "                               'trade_count': 467171.0,\n",
       "                               'volume': 63979375.0,\n",
       "                               'vwap': 500.320019},\n",
       "                           {   'close': 500.98,\n",
       "                               'high': 503.5,\n",
       "                               'low': 500.24,\n",
       "                               'open': 501.17,\n",
       "                               'symbol': 'SPY',\n",
       "                               'timestamp': datetime.datetime(2024, 2, 12, 5, 0, tzinfo=TzInfo(UTC)),\n",
       "                               'trade_count': 437189.0,\n",
       "                               'volume': 56502283.0,\n",
       "                               'vwap': 501.687018},\n",
       "                           {   'close': 494.08,\n",
       "                               'high': 497.09,\n",
       "                               'low': 490.715,\n",
       "                               'open': 494.53,\n",
       "                               'symbol': 'SPY',\n",
       "                               'timestamp': datetime.datetime(2024, 2, 13, 5, 0, tzinfo=TzInfo(UTC)),\n",
       "                               'trade_count': 779480.0,\n",
       "                               'volume': 113099199.0,\n",
       "                               'vwap': 493.567626},\n",
       "                           {   'close': 498.57,\n",
       "                               'high': 499.07,\n",
       "                               'low': 494.4,\n",
       "                               'open': 496.79,\n",
       "                               'symbol': 'SPY',\n",
       "                               'timestamp': datetime.datetime(2024, 2, 14, 5, 0, tzinfo=TzInfo(UTC)),\n",
       "                               'trade_count': 536843.0,\n",
       "                               'volume': 68387827.0,\n",
       "                               'vwap': 496.826687},\n",
       "                           {   'close': 502.01,\n",
       "                               'high': 502.2,\n",
       "                               'low': 498.795,\n",
       "                               'open': 499.29,\n",
       "                               'symbol': 'SPY',\n",
       "                               'timestamp': datetime.datetime(2024, 2, 15, 5, 0, tzinfo=TzInfo(UTC)),\n",
       "                               'trade_count': 516093.0,\n",
       "                               'volume': 61682960.0,\n",
       "                               'vwap': 500.787683},\n",
       "                           {   'close': 499.51,\n",
       "                               'high': 502.87,\n",
       "                               'low': 498.75,\n",
       "                               'open': 501.7,\n",
       "                               'symbol': 'SPY',\n",
       "                               'timestamp': datetime.datetime(2024, 2, 16, 5, 0, tzinfo=TzInfo(UTC)),\n",
       "                               'trade_count': 532752.0,\n",
       "                               'volume': 75532928.0,\n",
       "                               'vwap': 500.930692},\n",
       "                           {   'close': 496.76,\n",
       "                               'high': 498.41,\n",
       "                               'low': 494.45,\n",
       "                               'open': 497.72,\n",
       "                               'symbol': 'SPY',\n",
       "                               'timestamp': datetime.datetime(2024, 2, 20, 5, 0, tzinfo=TzInfo(UTC)),\n",
       "                               'trade_count': 595486.0,\n",
       "                               'volume': 71736740.0,\n",
       "                               'vwap': 496.139855},\n",
       "                           {   'close': 497.21,\n",
       "                               'high': 497.37,\n",
       "                               'low': 493.56,\n",
       "                               'open': 495.42,\n",
       "                               'symbol': 'SPY',\n",
       "                               'timestamp': datetime.datetime(2024, 2, 21, 5, 0, tzinfo=TzInfo(UTC)),\n",
       "                               'trade_count': 499405.0,\n",
       "                               'volume': 59603771.0,\n",
       "                               'vwap': 495.496013},\n",
       "                           {   'close': 507.5,\n",
       "                               'high': 508.49,\n",
       "                               'low': 503.02,\n",
       "                               'open': 504.01,\n",
       "                               'symbol': 'SPY',\n",
       "                               'timestamp': datetime.datetime(2024, 2, 22, 5, 0, tzinfo=TzInfo(UTC)),\n",
       "                               'trade_count': 613961.0,\n",
       "                               'volume': 76402535.0,\n",
       "                               'vwap': 506.255652},\n",
       "                           {   'close': 507.85,\n",
       "                               'high': 510.13,\n",
       "                               'low': 507.1,\n",
       "                               'open': 509.27,\n",
       "                               'symbol': 'SPY',\n",
       "                               'timestamp': datetime.datetime(2024, 2, 23, 5, 0, tzinfo=TzInfo(UTC)),\n",
       "                               'trade_count': 489694.0,\n",
       "                               'volume': 61321818.0,\n",
       "                               'vwap': 508.555832},\n",
       "                           {   'close': 505.99,\n",
       "                               'high': 508.75,\n",
       "                               'low': 505.86,\n",
       "                               'open': 508.3,\n",
       "                               'symbol': 'SPY',\n",
       "                               'timestamp': datetime.datetime(2024, 2, 26, 5, 0, tzinfo=TzInfo(UTC)),\n",
       "                               'trade_count': 434429.0,\n",
       "                               'volume': 50386738.0,\n",
       "                               'vwap': 507.147762},\n",
       "                           {   'close': 506.93,\n",
       "                               'high': 507.16,\n",
       "                               'low': 504.75,\n",
       "                               'open': 506.7,\n",
       "                               'symbol': 'SPY',\n",
       "                               'timestamp': datetime.datetime(2024, 2, 27, 5, 0, tzinfo=TzInfo(UTC)),\n",
       "                               'trade_count': 400260.0,\n",
       "                               'volume': 48831828.0,\n",
       "                               'vwap': 506.164792},\n",
       "                           {   'close': 506.26,\n",
       "                               'high': 506.855,\n",
       "                               'low': 504.96,\n",
       "                               'open': 505.33,\n",
       "                               'symbol': 'SPY',\n",
       "                               'timestamp': datetime.datetime(2024, 2, 28, 5, 0, tzinfo=TzInfo(UTC)),\n",
       "                               'trade_count': 420488.0,\n",
       "                               'volume': 56506634.0,\n",
       "                               'vwap': 505.970735},\n",
       "                           {   'close': 508.08,\n",
       "                               'high': 509.74,\n",
       "                               'low': 505.35,\n",
       "                               'open': 508.07,\n",
       "                               'symbol': 'SPY',\n",
       "                               'timestamp': datetime.datetime(2024, 2, 29, 5, 0, tzinfo=TzInfo(UTC)),\n",
       "                               'trade_count': 547845.0,\n",
       "                               'volume': 83924795.0,\n",
       "                               'vwap': 508.027166},\n",
       "                           {   'close': 512.85,\n",
       "                               'high': 513.29,\n",
       "                               'low': 508.56,\n",
       "                               'open': 508.98,\n",
       "                               'symbol': 'SPY',\n",
       "                               'timestamp': datetime.datetime(2024, 3, 1, 5, 0, tzinfo=TzInfo(UTC)),\n",
       "                               'trade_count': 544943.0,\n",
       "                               'volume': 76844844.0,\n",
       "                               'vwap': 511.576233},\n",
       "                           {   'close': 512.3,\n",
       "                               'high': 514.2,\n",
       "                               'low': 512.0,\n",
       "                               'open': 512.03,\n",
       "                               'symbol': 'SPY',\n",
       "                               'timestamp': datetime.datetime(2024, 3, 4, 5, 0, tzinfo=TzInfo(UTC)),\n",
       "                               'trade_count': 466601.0,\n",
       "                               'volume': 49799257.0,\n",
       "                               'vwap': 512.776634},\n",
       "                           {   'close': 507.18,\n",
       "                               'high': 510.7,\n",
       "                               'low': 504.91,\n",
       "                               'open': 510.24,\n",
       "                               'symbol': 'SPY',\n",
       "                               'timestamp': datetime.datetime(2024, 3, 5, 5, 0, tzinfo=TzInfo(UTC)),\n",
       "                               'trade_count': 593892.0,\n",
       "                               'volume': 73320623.0,\n",
       "                               'vwap': 507.450575},\n",
       "                           {   'close': 509.75,\n",
       "                               'high': 512.069,\n",
       "                               'low': 508.42,\n",
       "                               'open': 510.55,\n",
       "                               'symbol': 'SPY',\n",
       "                               'timestamp': datetime.datetime(2024, 3, 6, 5, 0, tzinfo=TzInfo(UTC)),\n",
       "                               'trade_count': 603738.0,\n",
       "                               'volume': 68392367.0,\n",
       "                               'vwap': 510.133504},\n",
       "                           {   'close': 514.81,\n",
       "                               'high': 515.89,\n",
       "                               'low': 509.8053,\n",
       "                               'open': 513.14,\n",
       "                               'symbol': 'SPY',\n",
       "                               'timestamp': datetime.datetime(2024, 3, 7, 5, 0, tzinfo=TzInfo(UTC)),\n",
       "                               'trade_count': 526279.0,\n",
       "                               'volume': 58652085.0,\n",
       "                               'vwap': 514.502448},\n",
       "                           {   'close': 511.72,\n",
       "                               'high': 518.2201,\n",
       "                               'low': 511.13,\n",
       "                               'open': 515.46,\n",
       "                               'symbol': 'SPY',\n",
       "                               'timestamp': datetime.datetime(2024, 3, 8, 5, 0, tzinfo=TzInfo(UTC)),\n",
       "                               'trade_count': 737848.0,\n",
       "                               'volume': 86532535.0,\n",
       "                               'vwap': 514.213562},\n",
       "                           {   'close': 511.28,\n",
       "                               'high': 511.88,\n",
       "                               'low': 508.5,\n",
       "                               'open': 510.48,\n",
       "                               'symbol': 'SPY',\n",
       "                               'timestamp': datetime.datetime(2024, 3, 11, 4, 0, tzinfo=TzInfo(UTC)),\n",
       "                               'trade_count': 573251.0,\n",
       "                               'volume': 62557183.0,\n",
       "                               'vwap': 510.488944},\n",
       "                           {   'close': 516.78,\n",
       "                               'high': 517.38,\n",
       "                               'low': 510.86,\n",
       "                               'open': 513.45,\n",
       "                               'symbol': 'SPY',\n",
       "                               'timestamp': datetime.datetime(2024, 3, 12, 4, 0, tzinfo=TzInfo(UTC)),\n",
       "                               'trade_count': 602906.0,\n",
       "                               'volume': 73694439.0,\n",
       "                               'vwap': 515.220994},\n",
       "                           {   'close': 515.97,\n",
       "                               'high': 517.29,\n",
       "                               'low': 514.49,\n",
       "                               'open': 517.11,\n",
       "                               'symbol': 'SPY',\n",
       "                               'timestamp': datetime.datetime(2024, 3, 13, 4, 0, tzinfo=TzInfo(UTC)),\n",
       "                               'trade_count': 471659.0,\n",
       "                               'volume': 55104088.0,\n",
       "                               'vwap': 516.289015},\n",
       "                           {   'close': 514.95,\n",
       "                               'high': 517.125,\n",
       "                               'low': 511.82,\n",
       "                               'open': 516.97,\n",
       "                               'symbol': 'SPY',\n",
       "                               'timestamp': datetime.datetime(2024, 3, 14, 4, 0, tzinfo=TzInfo(UTC)),\n",
       "                               'trade_count': 729546.0,\n",
       "                               'volume': 110171820.0,\n",
       "                               'vwap': 514.232417},\n",
       "                           {   'close': 509.83,\n",
       "                               'high': 511.7,\n",
       "                               'low': 508.122,\n",
       "                               'open': 510.21,\n",
       "                               'symbol': 'SPY',\n",
       "                               'timestamp': datetime.datetime(2024, 3, 15, 4, 0, tzinfo=TzInfo(UTC)),\n",
       "                               'trade_count': 694373.0,\n",
       "                               'volume': 107646297.0,\n",
       "                               'vwap': 509.878053},\n",
       "                           {   'close': 512.86,\n",
       "                               'high': 515.48,\n",
       "                               'low': 512.44,\n",
       "                               'open': 514.0,\n",
       "                               'symbol': 'SPY',\n",
       "                               'timestamp': datetime.datetime(2024, 3, 18, 4, 0, tzinfo=TzInfo(UTC)),\n",
       "                               'trade_count': 568827.0,\n",
       "                               'volume': 88893331.0,\n",
       "                               'vwap': 513.866925},\n",
       "                           {   'close': 515.71,\n",
       "                               'high': 515.995,\n",
       "                               'low': 511.12,\n",
       "                               'open': 512.15,\n",
       "                               'symbol': 'SPY',\n",
       "                               'timestamp': datetime.datetime(2024, 3, 19, 4, 0, tzinfo=TzInfo(UTC)),\n",
       "                               'trade_count': 489558.0,\n",
       "                               'volume': 60755263.0,\n",
       "                               'vwap': 513.975803},\n",
       "                           {   'close': 520.48,\n",
       "                               'high': 520.62,\n",
       "                               'low': 515.08,\n",
       "                               'open': 515.77,\n",
       "                               'symbol': 'SPY',\n",
       "                               'timestamp': datetime.datetime(2024, 3, 20, 4, 0, tzinfo=TzInfo(UTC)),\n",
       "                               'trade_count': 566876.0,\n",
       "                               'volume': 69594574.0,\n",
       "                               'vwap': 517.810639},\n",
       "                           {   'close': 522.2,\n",
       "                               'high': 524.11,\n",
       "                               'low': 521.91,\n",
       "                               'open': 523.39,\n",
       "                               'symbol': 'SPY',\n",
       "                               'timestamp': datetime.datetime(2024, 3, 21, 4, 0, tzinfo=TzInfo(UTC)),\n",
       "                               'trade_count': 506364.0,\n",
       "                               'volume': 60256112.0,\n",
       "                               'vwap': 523.115718},\n",
       "                           {   'close': 521.21,\n",
       "                               'high': 522.605,\n",
       "                               'low': 520.97,\n",
       "                               'open': 522.11,\n",
       "                               'symbol': 'SPY',\n",
       "                               'timestamp': datetime.datetime(2024, 3, 22, 4, 0, tzinfo=TzInfo(UTC)),\n",
       "                               'trade_count': 467269.0,\n",
       "                               'volume': 79070842.0,\n",
       "                               'vwap': 521.804855},\n",
       "                           {   'close': 519.77,\n",
       "                               'high': 520.95,\n",
       "                               'low': 519.61,\n",
       "                               'open': 519.8,\n",
       "                               'symbol': 'SPY',\n",
       "                               'timestamp': datetime.datetime(2024, 3, 25, 4, 0, tzinfo=TzInfo(UTC)),\n",
       "                               'trade_count': 413060.0,\n",
       "                               'volume': 48512108.0,\n",
       "                               'vwap': 520.310505},\n",
       "                           {   'close': 518.81,\n",
       "                               'high': 521.58,\n",
       "                               'low': 518.4,\n",
       "                               'open': 521.23,\n",
       "                               'symbol': 'SPY',\n",
       "                               'timestamp': datetime.datetime(2024, 3, 26, 4, 0, tzinfo=TzInfo(UTC)),\n",
       "                               'trade_count': 427328.0,\n",
       "                               'volume': 65463744.0,\n",
       "                               'vwap': 520.103613},\n",
       "                           {   'close': 523.17,\n",
       "                               'high': 523.21,\n",
       "                               'low': 519.485,\n",
       "                               'open': 521.71,\n",
       "                               'symbol': 'SPY',\n",
       "                               'timestamp': datetime.datetime(2024, 3, 27, 4, 0, tzinfo=TzInfo(UTC)),\n",
       "                               'trade_count': 518970.0,\n",
       "                               'volume': 82999777.0,\n",
       "                               'vwap': 521.199867},\n",
       "                           {   'close': 523.07,\n",
       "                               'high': 524.61,\n",
       "                               'low': 522.78,\n",
       "                               'open': 523.21,\n",
       "                               'symbol': 'SPY',\n",
       "                               'timestamp': datetime.datetime(2024, 3, 28, 4, 0, tzinfo=TzInfo(UTC)),\n",
       "                               'trade_count': 495562.0,\n",
       "                               'volume': 96294886.0,\n",
       "                               'vwap': 523.585937},\n",
       "                           {   'close': 522.16,\n",
       "                               'high': 524.38,\n",
       "                               'low': 520.97,\n",
       "                               'open': 523.83,\n",
       "                               'symbol': 'SPY',\n",
       "                               'timestamp': datetime.datetime(2024, 4, 1, 4, 0, tzinfo=TzInfo(UTC)),\n",
       "                               'trade_count': 449575.0,\n",
       "                               'volume': 62477540.0,\n",
       "                               'vwap': 522.37037},\n",
       "                           {   'close': 518.84,\n",
       "                               'high': 518.98,\n",
       "                               'low': 516.48,\n",
       "                               'open': 518.24,\n",
       "                               'symbol': 'SPY',\n",
       "                               'timestamp': datetime.datetime(2024, 4, 2, 4, 0, tzinfo=TzInfo(UTC)),\n",
       "                               'trade_count': 570884.0,\n",
       "                               'volume': 74230308.0,\n",
       "                               'vwap': 517.893925},\n",
       "                           {   'close': 519.41,\n",
       "                               'high': 520.95,\n",
       "                               'low': 517.665,\n",
       "                               'open': 517.72,\n",
       "                               'symbol': 'SPY',\n",
       "                               'timestamp': datetime.datetime(2024, 4, 3, 4, 0, tzinfo=TzInfo(UTC)),\n",
       "                               'trade_count': 486600.0,\n",
       "                               'volume': 59155759.0,\n",
       "                               'vwap': 519.744621},\n",
       "                           {   'close': 513.07,\n",
       "                               'high': 523.8674,\n",
       "                               'low': 512.755,\n",
       "                               'open': 523.52,\n",
       "                               'symbol': 'SPY',\n",
       "                               'timestamp': datetime.datetime(2024, 4, 4, 4, 0, tzinfo=TzInfo(UTC)),\n",
       "                               'trade_count': 772269.0,\n",
       "                               'volume': 96908074.0,\n",
       "                               'vwap': 517.902986},\n",
       "                           {   'close': 518.43,\n",
       "                               'high': 520.44,\n",
       "                               'low': 514.01,\n",
       "                               'open': 514.46,\n",
       "                               'symbol': 'SPY',\n",
       "                               'timestamp': datetime.datetime(2024, 4, 5, 4, 0, tzinfo=TzInfo(UTC)),\n",
       "                               'trade_count': 669740.0,\n",
       "                               'volume': 74546483.0,\n",
       "                               'vwap': 517.820377},\n",
       "                           {   'close': 518.72,\n",
       "                               'high': 520.18,\n",
       "                               'low': 517.89,\n",
       "                               'open': 519.15,\n",
       "                               'symbol': 'SPY',\n",
       "                               'timestamp': datetime.datetime(2024, 4, 8, 4, 0, tzinfo=TzInfo(UTC)),\n",
       "                               'trade_count': 443840.0,\n",
       "                               'volume': 48401702.0,\n",
       "                               'vwap': 518.94321},\n",
       "                           {   'close': 519.32,\n",
       "                               'high': 520.75,\n",
       "                               'low': 514.35,\n",
       "                               'open': 520.5,\n",
       "                               'symbol': 'SPY',\n",
       "                               'timestamp': datetime.datetime(2024, 4, 9, 4, 0, tzinfo=TzInfo(UTC)),\n",
       "                               'trade_count': 532493.0,\n",
       "                               'volume': 68124385.0,\n",
       "                               'vwap': 517.391628},\n",
       "                           {   'close': 514.12,\n",
       "                               'high': 516.16,\n",
       "                               'low': 512.09,\n",
       "                               'open': 513.48,\n",
       "                               'symbol': 'SPY',\n",
       "                               'timestamp': datetime.datetime(2024, 4, 10, 4, 0, tzinfo=TzInfo(UTC)),\n",
       "                               'trade_count': 753675.0,\n",
       "                               'volume': 82652806.0,\n",
       "                               'vwap': 513.895741},\n",
       "                           {   'close': 518.0,\n",
       "                               'high': 519.48,\n",
       "                               'low': 512.08,\n",
       "                               'open': 515.68,\n",
       "                               'symbol': 'SPY',\n",
       "                               'timestamp': datetime.datetime(2024, 4, 11, 4, 0, tzinfo=TzInfo(UTC)),\n",
       "                               'trade_count': 582634.0,\n",
       "                               'volume': 70099007.0,\n",
       "                               'vwap': 516.326992},\n",
       "                           {   'close': 510.85,\n",
       "                               'high': 515.815,\n",
       "                               'low': 509.08,\n",
       "                               'open': 514.37,\n",
       "                               'symbol': 'SPY',\n",
       "                               'timestamp': datetime.datetime(2024, 4, 12, 4, 0, tzinfo=TzInfo(UTC)),\n",
       "                               'trade_count': 767726.0,\n",
       "                               'volume': 92486785.0,\n",
       "                               'vwap': 511.756783},\n",
       "                           {   'close': 504.45,\n",
       "                               'high': 515.3,\n",
       "                               'low': 503.58,\n",
       "                               'open': 515.13,\n",
       "                               'symbol': 'SPY',\n",
       "                               'timestamp': datetime.datetime(2024, 4, 15, 4, 0, tzinfo=TzInfo(UTC)),\n",
       "                               'trade_count': 841318.0,\n",
       "                               'volume': 92101447.0,\n",
       "                               'vwap': 508.554344},\n",
       "                           {   'close': 503.53,\n",
       "                               'high': 506.5,\n",
       "                               'low': 502.21,\n",
       "                               'open': 504.94,\n",
       "                               'symbol': 'SPY',\n",
       "                               'timestamp': datetime.datetime(2024, 4, 16, 4, 0, tzinfo=TzInfo(UTC)),\n",
       "                               'trade_count': 689033.0,\n",
       "                               'volume': 73484020.0,\n",
       "                               'vwap': 504.154817},\n",
       "                           {   'close': 500.55,\n",
       "                               'high': 506.22,\n",
       "                               'low': 499.12,\n",
       "                               'open': 506.05,\n",
       "                               'symbol': 'SPY',\n",
       "                               'timestamp': datetime.datetime(2024, 4, 17, 4, 0, tzinfo=TzInfo(UTC)),\n",
       "                               'trade_count': 704743.0,\n",
       "                               'volume': 75910305.0,\n",
       "                               'vwap': 502.08167},\n",
       "                           {   'close': 499.52,\n",
       "                               'high': 504.13,\n",
       "                               'low': 498.56,\n",
       "                               'open': 501.98,\n",
       "                               'symbol': 'SPY',\n",
       "                               'timestamp': datetime.datetime(2024, 4, 18, 4, 0, tzinfo=TzInfo(UTC)),\n",
       "                               'trade_count': 627452.0,\n",
       "                               'volume': 74548085.0,\n",
       "                               'vwap': 500.798291},\n",
       "                           {   'close': 495.16,\n",
       "                               'high': 500.455,\n",
       "                               'low': 493.86,\n",
       "                               'open': 499.44,\n",
       "                               'symbol': 'SPY',\n",
       "                               'timestamp': datetime.datetime(2024, 4, 19, 4, 0, tzinfo=TzInfo(UTC)),\n",
       "                               'trade_count': 756686.0,\n",
       "                               'volume': 102212587.0,\n",
       "                               'vwap': 496.609293},\n",
       "                           {   'close': 499.72,\n",
       "                               'high': 502.38,\n",
       "                               'low': 495.43,\n",
       "                               'open': 497.83,\n",
       "                               'symbol': 'SPY',\n",
       "                               'timestamp': datetime.datetime(2024, 4, 22, 4, 0, tzinfo=TzInfo(UTC)),\n",
       "                               'trade_count': 601783.0,\n",
       "                               'volume': 67962998.0,\n",
       "                               'vwap': 498.90643},\n",
       "                           {   'close': 505.65,\n",
       "                               'high': 506.09,\n",
       "                               'low': 499.5328,\n",
       "                               'open': 501.78,\n",
       "                               'symbol': 'SPY',\n",
       "                               'timestamp': datetime.datetime(2024, 4, 23, 4, 0, tzinfo=TzInfo(UTC)),\n",
       "                               'trade_count': 527370.0,\n",
       "                               'volume': 64633620.0,\n",
       "                               'vwap': 504.681709},\n",
       "                           {   'close': 505.41,\n",
       "                               'high': 507.37,\n",
       "                               'low': 503.13,\n",
       "                               'open': 506.56,\n",
       "                               'symbol': 'SPY',\n",
       "                               'timestamp': datetime.datetime(2024, 4, 24, 4, 0, tzinfo=TzInfo(UTC)),\n",
       "                               'trade_count': 495174.0,\n",
       "                               'volume': 55928076.0,\n",
       "                               'vwap': 505.352357},\n",
       "                           {   'close': 503.49,\n",
       "                               'high': 504.27,\n",
       "                               'low': 497.49,\n",
       "                               'open': 499.18,\n",
       "                               'symbol': 'SPY',\n",
       "                               'timestamp': datetime.datetime(2024, 4, 25, 4, 0, tzinfo=TzInfo(UTC)),\n",
       "                               'trade_count': 625039.0,\n",
       "                               'volume': 69122368.0,\n",
       "                               'vwap': 500.945618},\n",
       "                           {   'close': 508.26,\n",
       "                               'high': 509.88,\n",
       "                               'low': 505.7,\n",
       "                               'open': 506.35,\n",
       "                               'symbol': 'SPY',\n",
       "                               'timestamp': datetime.datetime(2024, 4, 26, 4, 0, tzinfo=TzInfo(UTC)),\n",
       "                               'trade_count': 491759.0,\n",
       "                               'volume': 64306118.0,\n",
       "                               'vwap': 508.514625},\n",
       "                           {   'close': 510.06,\n",
       "                               'high': 510.75,\n",
       "                               'low': 507.25,\n",
       "                               'open': 510.09,\n",
       "                               'symbol': 'SPY',\n",
       "                               'timestamp': datetime.datetime(2024, 4, 29, 4, 0, tzinfo=TzInfo(UTC)),\n",
       "                               'trade_count': 440177.0,\n",
       "                               'volume': 46415449.0,\n",
       "                               'vwap': 509.541004},\n",
       "                           {   'close': 501.98,\n",
       "                               'high': 509.56,\n",
       "                               'low': 501.98,\n",
       "                               'open': 508.56,\n",
       "                               'symbol': 'SPY',\n",
       "                               'timestamp': datetime.datetime(2024, 4, 30, 4, 0, tzinfo=TzInfo(UTC)),\n",
       "                               'trade_count': 575798.0,\n",
       "                               'volume': 77483566.0,\n",
       "                               'vwap': 505.601383},\n",
       "                           {   'close': 500.35,\n",
       "                               'high': 508.19,\n",
       "                               'low': 499.865,\n",
       "                               'open': 501.38,\n",
       "                               'symbol': 'SPY',\n",
       "                               'timestamp': datetime.datetime(2024, 5, 1, 4, 0, tzinfo=TzInfo(UTC)),\n",
       "                               'trade_count': 733935.0,\n",
       "                               'volume': 80242839.0,\n",
       "                               'vwap': 502.791341},\n",
       "                           {   'close': 505.03,\n",
       "                               'high': 505.89,\n",
       "                               'low': 499.55,\n",
       "                               'open': 504.15,\n",
       "                               'symbol': 'SPY',\n",
       "                               'timestamp': datetime.datetime(2024, 5, 2, 4, 0, tzinfo=TzInfo(UTC)),\n",
       "                               'trade_count': 532686.0,\n",
       "                               'volume': 62685179.0,\n",
       "                               'vwap': 503.349546},\n",
       "                           {   'close': 511.29,\n",
       "                               'high': 512.55,\n",
       "                               'low': 508.56,\n",
       "                               'open': 511.16,\n",
       "                               'symbol': 'SPY',\n",
       "                               'timestamp': datetime.datetime(2024, 5, 3, 4, 0, tzinfo=TzInfo(UTC)),\n",
       "                               'trade_count': 579112.0,\n",
       "                               'volume': 72838709.0,\n",
       "                               'vwap': 510.75989},\n",
       "                           {   'close': 516.57,\n",
       "                               'high': 516.61,\n",
       "                               'low': 513.3,\n",
       "                               'open': 513.75,\n",
       "                               'symbol': 'SPY',\n",
       "                               'timestamp': datetime.datetime(2024, 5, 6, 4, 0, tzinfo=TzInfo(UTC)),\n",
       "                               'trade_count': 444751.0,\n",
       "                               'volume': 47264703.0,\n",
       "                               'vwap': 514.887471},\n",
       "                           {   'close': 517.14,\n",
       "                               'high': 518.57,\n",
       "                               'low': 516.45,\n",
       "                               'open': 517.56,\n",
       "                               'symbol': 'SPY',\n",
       "                               'timestamp': datetime.datetime(2024, 5, 7, 4, 0, tzinfo=TzInfo(UTC)),\n",
       "                               'trade_count': 432297.0,\n",
       "                               'volume': 52561299.0,\n",
       "                               'vwap': 517.525469},\n",
       "                           {   'close': 517.19,\n",
       "                               'high': 517.74,\n",
       "                               'low': 515.14,\n",
       "                               'open': 515.26,\n",
       "                               'symbol': 'SPY',\n",
       "                               'timestamp': datetime.datetime(2024, 5, 8, 4, 0, tzinfo=TzInfo(UTC)),\n",
       "                               'trade_count': 369156.0,\n",
       "                               'volume': 42047214.0,\n",
       "                               'vwap': 516.898349},\n",
       "                           {   'close': 520.17,\n",
       "                               'high': 520.2074,\n",
       "                               'low': 516.705,\n",
       "                               'open': 517.38,\n",
       "                               'symbol': 'SPY',\n",
       "                               'timestamp': datetime.datetime(2024, 5, 9, 4, 0, tzinfo=TzInfo(UTC)),\n",
       "                               'trade_count': 399521.0,\n",
       "                               'volume': 43643668.0,\n",
       "                               'vwap': 519.105998},\n",
       "                           {   'close': 520.84,\n",
       "                               'high': 522.635,\n",
       "                               'low': 519.59,\n",
       "                               'open': 521.81,\n",
       "                               'symbol': 'SPY',\n",
       "                               'timestamp': datetime.datetime(2024, 5, 10, 4, 0, tzinfo=TzInfo(UTC)),\n",
       "                               'trade_count': 428544.0,\n",
       "                               'volume': 52233171.0,\n",
       "                               'vwap': 520.934119},\n",
       "                           {   'close': 520.91,\n",
       "                               'high': 522.67,\n",
       "                               'low': 519.74,\n",
       "                               'open': 522.56,\n",
       "                               'symbol': 'SPY',\n",
       "                               'timestamp': datetime.datetime(2024, 5, 13, 4, 0, tzinfo=TzInfo(UTC)),\n",
       "                               'trade_count': 360851.0,\n",
       "                               'volume': 36716361.0,\n",
       "                               'vwap': 521.07114},\n",
       "                           {   'close': 523.3,\n",
       "                               'high': 523.83,\n",
       "                               'low': 520.56,\n",
       "                               'open': 521.11,\n",
       "                               'symbol': 'SPY',\n",
       "                               'timestamp': datetime.datetime(2024, 5, 14, 4, 0, tzinfo=TzInfo(UTC)),\n",
       "                               'trade_count': 417237.0,\n",
       "                               'volume': 57535867.0,\n",
       "                               'vwap': 522.360835},\n",
       "                           {   'close': 529.78,\n",
       "                               'high': 530.08,\n",
       "                               'low': 525.18,\n",
       "                               'open': 525.83,\n",
       "                               'symbol': 'SPY',\n",
       "                               'timestamp': datetime.datetime(2024, 5, 15, 4, 0, tzinfo=TzInfo(UTC)),\n",
       "                               'trade_count': 510553.0,\n",
       "                               'volume': 59504897.0,\n",
       "                               'vwap': 528.191025},\n",
       "                           {   'close': 528.69,\n",
       "                               'high': 531.5218,\n",
       "                               'low': 528.54,\n",
       "                               'open': 529.88,\n",
       "                               'symbol': 'SPY',\n",
       "                               'timestamp': datetime.datetime(2024, 5, 16, 4, 0, tzinfo=TzInfo(UTC)),\n",
       "                               'trade_count': 436763.0,\n",
       "                               'volume': 50244827.0,\n",
       "                               'vwap': 529.991819},\n",
       "                           {   'close': 529.45,\n",
       "                               'high': 529.52,\n",
       "                               'low': 527.32,\n",
       "                               'open': 528.81,\n",
       "                               'symbol': 'SPY',\n",
       "                               'timestamp': datetime.datetime(2024, 5, 17, 4, 0, tzinfo=TzInfo(UTC)),\n",
       "                               'trade_count': 372347.0,\n",
       "                               'volume': 59187585.0,\n",
       "                               'vwap': 528.791168},\n",
       "                           {   'close': 530.06,\n",
       "                               'high': 531.5601,\n",
       "                               'low': 529.17,\n",
       "                               'open': 529.57,\n",
       "                               'symbol': 'SPY',\n",
       "                               'timestamp': datetime.datetime(2024, 5, 20, 4, 0, tzinfo=TzInfo(UTC)),\n",
       "                               'trade_count': 331754.0,\n",
       "                               'volume': 37764206.0,\n",
       "                               'vwap': 530.385364},\n",
       "                           {   'close': 531.36,\n",
       "                               'high': 531.52,\n",
       "                               'low': 529.07,\n",
       "                               'open': 529.28,\n",
       "                               'symbol': 'SPY',\n",
       "                               'timestamp': datetime.datetime(2024, 5, 21, 4, 0, tzinfo=TzInfo(UTC)),\n",
       "                               'trade_count': 306615.0,\n",
       "                               'volume': 33437001.0,\n",
       "                               'vwap': 530.495412},\n",
       "                           {   'close': 529.83,\n",
       "                               'high': 531.38,\n",
       "                               'low': 527.6,\n",
       "                               'open': 530.65,\n",
       "                               'symbol': 'SPY',\n",
       "                               'timestamp': datetime.datetime(2024, 5, 22, 4, 0, tzinfo=TzInfo(UTC)),\n",
       "                               'trade_count': 340286.0,\n",
       "                               'volume': 48389968.0,\n",
       "                               'vwap': 529.583635},\n",
       "                           {   'close': 525.96,\n",
       "                               'high': 533.07,\n",
       "                               'low': 524.72,\n",
       "                               'open': 532.96,\n",
       "                               'symbol': 'SPY',\n",
       "                               'timestamp': datetime.datetime(2024, 5, 23, 4, 0, tzinfo=TzInfo(UTC)),\n",
       "                               'trade_count': 440800.0,\n",
       "                               'volume': 57211197.0,\n",
       "                               'vwap': 528.067408},\n",
       "                           {   'close': 529.44,\n",
       "                               'high': 530.27,\n",
       "                               'low': 526.881,\n",
       "                               'open': 527.85,\n",
       "                               'symbol': 'SPY',\n",
       "                               'timestamp': datetime.datetime(2024, 5, 24, 4, 0, tzinfo=TzInfo(UTC)),\n",
       "                               'trade_count': 328934.0,\n",
       "                               'volume': 41331076.0,\n",
       "                               'vwap': 528.970509},\n",
       "                           {   'close': 529.81,\n",
       "                               'high': 530.51,\n",
       "                               'low': 527.11,\n",
       "                               'open': 530.27,\n",
       "                               'symbol': 'SPY',\n",
       "                               'timestamp': datetime.datetime(2024, 5, 28, 4, 0, tzinfo=TzInfo(UTC)),\n",
       "                               'trade_count': 343542.0,\n",
       "                               'volume': 36269602.0,\n",
       "                               'vwap': 529.221141},\n",
       "                           {   'close': 526.1,\n",
       "                               'high': 527.31,\n",
       "                               'low': 525.37,\n",
       "                               'open': 525.68,\n",
       "                               'symbol': 'SPY',\n",
       "                               'timestamp': datetime.datetime(2024, 5, 29, 4, 0, tzinfo=TzInfo(UTC)),\n",
       "                               'trade_count': 359207.0,\n",
       "                               'volume': 45190323.0,\n",
       "                               'vwap': 526.368017},\n",
       "                           {   'close': 522.61,\n",
       "                               'high': 525.2,\n",
       "                               'low': 521.33,\n",
       "                               'open': 524.52,\n",
       "                               'symbol': 'SPY',\n",
       "                               'timestamp': datetime.datetime(2024, 5, 30, 4, 0, tzinfo=TzInfo(UTC)),\n",
       "                               'trade_count': 385210.0,\n",
       "                               'volume': 46468510.0,\n",
       "                               'vwap': 523.604962},\n",
       "                           {   'close': 527.37,\n",
       "                               'high': 527.5,\n",
       "                               'low': 518.36,\n",
       "                               'open': 523.59,\n",
       "                               'symbol': 'SPY',\n",
       "                               'timestamp': datetime.datetime(2024, 5, 31, 4, 0, tzinfo=TzInfo(UTC)),\n",
       "                               'trade_count': 530032.0,\n",
       "                               'volume': 90785855.0,\n",
       "                               'vwap': 523.136369},\n",
       "                           {   'close': 527.8,\n",
       "                               'high': 529.31,\n",
       "                               'low': 522.6,\n",
       "                               'open': 529.02,\n",
       "                               'symbol': 'SPY',\n",
       "                               'timestamp': datetime.datetime(2024, 6, 3, 4, 0, tzinfo=TzInfo(UTC)),\n",
       "                               'trade_count': 468403.0,\n",
       "                               'volume': 46835702.0,\n",
       "                               'vwap': 526.528069},\n",
       "                           {   'close': 528.39,\n",
       "                               'high': 529.15,\n",
       "                               'low': 524.96,\n",
       "                               'open': 526.46,\n",
       "                               'symbol': 'SPY',\n",
       "                               'timestamp': datetime.datetime(2024, 6, 4, 4, 0, tzinfo=TzInfo(UTC)),\n",
       "                               'trade_count': 357976.0,\n",
       "                               'volume': 34632661.0,\n",
       "                               'vwap': 527.076531},\n",
       "                           {   'close': 534.67,\n",
       "                               'high': 534.69,\n",
       "                               'low': 528.7254,\n",
       "                               'open': 530.77,\n",
       "                               'symbol': 'SPY',\n",
       "                               'timestamp': datetime.datetime(2024, 6, 5, 4, 0, tzinfo=TzInfo(UTC)),\n",
       "                               'trade_count': 409460.0,\n",
       "                               'volume': 47610365.0,\n",
       "                               'vwap': 532.473044},\n",
       "                           {   'close': 534.66,\n",
       "                               'high': 535.42,\n",
       "                               'low': 532.68,\n",
       "                               'open': 534.98,\n",
       "                               'symbol': 'SPY',\n",
       "                               'timestamp': datetime.datetime(2024, 6, 6, 4, 0, tzinfo=TzInfo(UTC)),\n",
       "                               'trade_count': 304874.0,\n",
       "                               'volume': 30808530.0,\n",
       "                               'vwap': 534.345257},\n",
       "                           {   'close': 534.01,\n",
       "                               'high': 536.89,\n",
       "                               'low': 532.535,\n",
       "                               'open': 533.66,\n",
       "                               'symbol': 'SPY',\n",
       "                               'timestamp': datetime.datetime(2024, 6, 7, 4, 0, tzinfo=TzInfo(UTC)),\n",
       "                               'trade_count': 336983.0,\n",
       "                               'volume': 43224525.0,\n",
       "                               'vwap': 534.64139},\n",
       "                           {   'close': 535.66,\n",
       "                               'high': 535.99,\n",
       "                               'low': 532.57,\n",
       "                               'open': 533.18,\n",
       "                               'symbol': 'SPY',\n",
       "                               'timestamp': datetime.datetime(2024, 6, 10, 4, 0, tzinfo=TzInfo(UTC)),\n",
       "                               'trade_count': 344628.0,\n",
       "                               'volume': 35729252.0,\n",
       "                               'vwap': 534.725401},\n",
       "                           {   'close': 536.95,\n",
       "                               'high': 537.01,\n",
       "                               'low': 532.05,\n",
       "                               'open': 534.07,\n",
       "                               'symbol': 'SPY',\n",
       "                               'timestamp': datetime.datetime(2024, 6, 11, 4, 0, tzinfo=TzInfo(UTC)),\n",
       "                               'trade_count': 360292.0,\n",
       "                               'volume': 36383411.0,\n",
       "                               'vwap': 534.968553},\n",
       "                           {   'close': 541.36,\n",
       "                               'high': 544.12,\n",
       "                               'low': 540.3,\n",
       "                               'open': 541.63,\n",
       "                               'symbol': 'SPY',\n",
       "                               'timestamp': datetime.datetime(2024, 6, 12, 4, 0, tzinfo=TzInfo(UTC)),\n",
       "                               'trade_count': 488541.0,\n",
       "                               'volume': 63251305.0,\n",
       "                               'vwap': 542.302434},\n",
       "                           {   'close': 542.45,\n",
       "                               'high': 543.325,\n",
       "                               'low': 539.59,\n",
       "                               'open': 543.15,\n",
       "                               'symbol': 'SPY',\n",
       "                               'timestamp': datetime.datetime(2024, 6, 13, 4, 0, tzinfo=TzInfo(UTC)),\n",
       "                               'trade_count': 350322.0,\n",
       "                               'volume': 44760949.0,\n",
       "                               'vwap': 541.903157},\n",
       "                           {   'close': 542.78,\n",
       "                               'high': 542.81,\n",
       "                               'low': 539.85,\n",
       "                               'open': 540.88,\n",
       "                               'symbol': 'SPY',\n",
       "                               'timestamp': datetime.datetime(2024, 6, 14, 4, 0, tzinfo=TzInfo(UTC)),\n",
       "                               'trade_count': 342838.0,\n",
       "                               'volume': 40089895.0,\n",
       "                               'vwap': 541.571526},\n",
       "                           {   'close': 547.1,\n",
       "                               'high': 548.53,\n",
       "                               'low': 541.6072,\n",
       "                               'open': 542.08,\n",
       "                               'symbol': 'SPY',\n",
       "                               'timestamp': datetime.datetime(2024, 6, 17, 4, 0, tzinfo=TzInfo(UTC)),\n",
       "                               'trade_count': 402255.0,\n",
       "                               'volume': 55839457.0,\n",
       "                               'vwap': 545.87853},\n",
       "                           {   'close': 548.49,\n",
       "                               'high': 548.62,\n",
       "                               'low': 546.73,\n",
       "                               'open': 547.16,\n",
       "                               'symbol': 'SPY',\n",
       "                               'timestamp': datetime.datetime(2024, 6, 18, 4, 0, tzinfo=TzInfo(UTC)),\n",
       "                               'trade_count': 324668.0,\n",
       "                               'volume': 41376417.0,\n",
       "                               'vwap': 547.868787},\n",
       "                           {   'close': 547.0,\n",
       "                               'high': 550.12,\n",
       "                               'low': 545.18,\n",
       "                               'open': 549.44,\n",
       "                               'symbol': 'SPY',\n",
       "                               'timestamp': datetime.datetime(2024, 6, 20, 4, 0, tzinfo=TzInfo(UTC)),\n",
       "                               'trade_count': 470269.0,\n",
       "                               'volume': 70328226.0,\n",
       "                               'vwap': 547.575033},\n",
       "                           {   'close': 544.51,\n",
       "                               'high': 545.65,\n",
       "                               'low': 543.02,\n",
       "                               'open': 544.4,\n",
       "                               'symbol': 'SPY',\n",
       "                               'timestamp': datetime.datetime(2024, 6, 21, 4, 0, tzinfo=TzInfo(UTC)),\n",
       "                               'trade_count': 392335.0,\n",
       "                               'volume': 64513859.0,\n",
       "                               'vwap': 544.447574},\n",
       "                           {   'close': 542.74,\n",
       "                               'high': 546.95,\n",
       "                               'low': 542.62,\n",
       "                               'open': 544.33,\n",
       "                               'symbol': 'SPY',\n",
       "                               'timestamp': datetime.datetime(2024, 6, 24, 4, 0, tzinfo=TzInfo(UTC)),\n",
       "                               'trade_count': 392113.0,\n",
       "                               'volume': 45528654.0,\n",
       "                               'vwap': 544.440534},\n",
       "                           {   'close': 544.83,\n",
       "                               'high': 545.2,\n",
       "                               'low': 542.44,\n",
       "                               'open': 543.99,\n",
       "                               'symbol': 'SPY',\n",
       "                               'timestamp': datetime.datetime(2024, 6, 25, 4, 0, tzinfo=TzInfo(UTC)),\n",
       "                               'trade_count': 314940.0,\n",
       "                               'volume': 38273346.0,\n",
       "                               'vwap': 544.104149},\n",
       "                           {   'close': 545.51,\n",
       "                               'high': 546.24,\n",
       "                               'low': 543.03,\n",
       "                               'open': 543.69,\n",
       "                               'symbol': 'SPY',\n",
       "                               'timestamp': datetime.datetime(2024, 6, 26, 4, 0, tzinfo=TzInfo(UTC)),\n",
       "                               'trade_count': 336264.0,\n",
       "                               'volume': 38550637.0,\n",
       "                               'vwap': 544.662273},\n",
       "                           {   'close': 546.37,\n",
       "                               'high': 546.96,\n",
       "                               'low': 544.61,\n",
       "                               'open': 545.37,\n",
       "                               'symbol': 'SPY',\n",
       "                               'timestamp': datetime.datetime(2024, 6, 27, 4, 0, tzinfo=TzInfo(UTC)),\n",
       "                               'trade_count': 318146.0,\n",
       "                               'volume': 35041480.0,\n",
       "                               'vwap': 545.767008},\n",
       "                           {   'close': 544.22,\n",
       "                               'high': 550.28,\n",
       "                               'low': 542.95,\n",
       "                               'open': 547.16,\n",
       "                               'symbol': 'SPY',\n",
       "                               'timestamp': datetime.datetime(2024, 6, 28, 4, 0, tzinfo=TzInfo(UTC)),\n",
       "                               'trade_count': 490952.0,\n",
       "                               'volume': 75925045.0,\n",
       "                               'vwap': 546.132413},\n",
       "                           {   'close': 545.34,\n",
       "                               'high': 545.88,\n",
       "                               'low': 542.52,\n",
       "                               'open': 545.63,\n",
       "                               'symbol': 'SPY',\n",
       "                               'timestamp': datetime.datetime(2024, 7, 1, 4, 0, tzinfo=TzInfo(UTC)),\n",
       "                               'trade_count': 370685.0,\n",
       "                               'volume': 40297810.0,\n",
       "                               'vwap': 544.684439},\n",
       "                           {   'close': 549.01,\n",
       "                               'high': 549.01,\n",
       "                               'low': 543.65,\n",
       "                               'open': 543.7,\n",
       "                               'symbol': 'SPY',\n",
       "                               'timestamp': datetime.datetime(2024, 7, 2, 4, 0, tzinfo=TzInfo(UTC)),\n",
       "                               'trade_count': 326760.0,\n",
       "                               'volume': 40434792.0,\n",
       "                               'vwap': 546.880645},\n",
       "                           {   'close': 551.46,\n",
       "                               'high': 551.83,\n",
       "                               'low': 548.65,\n",
       "                               'open': 548.69,\n",
       "                               'symbol': 'SPY',\n",
       "                               'timestamp': datetime.datetime(2024, 7, 3, 4, 0, tzinfo=TzInfo(UTC)),\n",
       "                               'trade_count': 253838.0,\n",
       "                               'volume': 32789911.0,\n",
       "                               'vwap': 550.337491},\n",
       "                           {   'close': 554.64,\n",
       "                               'high': 555.05,\n",
       "                               'low': 551.12,\n",
       "                               'open': 551.77,\n",
       "                               'symbol': 'SPY',\n",
       "                               'timestamp': datetime.datetime(2024, 7, 5, 4, 0, tzinfo=TzInfo(UTC)),\n",
       "                               'trade_count': 339620.0,\n",
       "                               'volume': 41488389.0,\n",
       "                               'vwap': 553.632822},\n",
       "                           {   'close': 555.28,\n",
       "                               'high': 556.2501,\n",
       "                               'low': 554.19,\n",
       "                               'open': 555.44,\n",
       "                               'symbol': 'SPY',\n",
       "                               'timestamp': datetime.datetime(2024, 7, 8, 4, 0, tzinfo=TzInfo(UTC)),\n",
       "                               'trade_count': 315486.0,\n",
       "                               'volume': 36110451.0,\n",
       "                               'vwap': 555.150626},\n",
       "                           {   'close': 555.82,\n",
       "                               'high': 557.18,\n",
       "                               'low': 555.52,\n",
       "                               'open': 556.26,\n",
       "                               'symbol': 'SPY',\n",
       "                               'timestamp': datetime.datetime(2024, 7, 9, 4, 0, tzinfo=TzInfo(UTC)),\n",
       "                               'trade_count': 298712.0,\n",
       "                               'volume': 27314125.0,\n",
       "                               'vwap': 556.17382},\n",
       "                           {   'close': 561.32,\n",
       "                               'high': 561.67,\n",
       "                               'low': 556.77,\n",
       "                               'open': 557.07,\n",
       "                               'symbol': 'SPY',\n",
       "                               'timestamp': datetime.datetime(2024, 7, 10, 4, 0, tzinfo=TzInfo(UTC)),\n",
       "                               'trade_count': 339735.0,\n",
       "                               'volume': 38701220.0,\n",
       "                               'vwap': 559.350535},\n",
       "                           {   'close': 556.48,\n",
       "                               'high': 562.33,\n",
       "                               'low': 555.83,\n",
       "                               'open': 561.44,\n",
       "                               'symbol': 'SPY',\n",
       "                               'timestamp': datetime.datetime(2024, 7, 11, 4, 0, tzinfo=TzInfo(UTC)),\n",
       "                               'trade_count': 458805.0,\n",
       "                               'volume': 53054184.0,\n",
       "                               'vwap': 557.90259},\n",
       "                           {   'close': 559.99,\n",
       "                               'high': 563.67,\n",
       "                               'low': 557.15,\n",
       "                               'open': 557.63,\n",
       "                               'symbol': 'SPY',\n",
       "                               'timestamp': datetime.datetime(2024, 7, 12, 4, 0, tzinfo=TzInfo(UTC)),\n",
       "                               'trade_count': 418470.0,\n",
       "                               'volume': 53084405.0,\n",
       "                               'vwap': 560.737146},\n",
       "                           {   'close': 561.53,\n",
       "                               'high': 564.8371,\n",
       "                               'low': 559.63,\n",
       "                               'open': 562.03,\n",
       "                               'symbol': 'SPY',\n",
       "                               'timestamp': datetime.datetime(2024, 7, 15, 4, 0, tzinfo=TzInfo(UTC)),\n",
       "                               'trade_count': 398072.0,\n",
       "                               'volume': 40584293.0,\n",
       "                               'vwap': 562.110674},\n",
       "                           {   'close': 564.86,\n",
       "                               'high': 565.16,\n",
       "                               'low': 562.1,\n",
       "                               'open': 562.865,\n",
       "                               'symbol': 'SPY',\n",
       "                               'timestamp': datetime.datetime(2024, 7, 16, 4, 0, tzinfo=TzInfo(UTC)),\n",
       "                               'trade_count': 354166.0,\n",
       "                               'volume': 36475260.0,\n",
       "                               'vwap': 563.682953},\n",
       "                           {   'close': 556.94,\n",
       "                               'high': 560.51,\n",
       "                               'low': 556.61,\n",
       "                               'open': 558.8,\n",
       "                               'symbol': 'SPY',\n",
       "                               'timestamp': datetime.datetime(2024, 7, 17, 4, 0, tzinfo=TzInfo(UTC)),\n",
       "                               'trade_count': 472516.0,\n",
       "                               'volume': 57118956.0,\n",
       "                               'vwap': 558.047099},\n",
       "                           {   'close': 552.66,\n",
       "                               'high': 559.52,\n",
       "                               'low': 550.43,\n",
       "                               'open': 558.51,\n",
       "                               'symbol': 'SPY',\n",
       "                               'timestamp': datetime.datetime(2024, 7, 18, 4, 0, tzinfo=TzInfo(UTC)),\n",
       "                               'trade_count': 510019.0,\n",
       "                               'volume': 56270392.0,\n",
       "                               'vwap': 554.093499},\n",
       "                           {   'close': 548.99,\n",
       "                               'high': 554.08,\n",
       "                               'low': 547.91,\n",
       "                               'open': 552.42,\n",
       "                               'symbol': 'SPY',\n",
       "                               'timestamp': datetime.datetime(2024, 7, 19, 4, 0, tzinfo=TzInfo(UTC)),\n",
       "                               'trade_count': 446111.0,\n",
       "                               'volume': 65509081.0,\n",
       "                               'vwap': 549.923605},\n",
       "                           {   'close': 554.65,\n",
       "                               'high': 555.27,\n",
       "                               'low': 551.02,\n",
       "                               'open': 553.0,\n",
       "                               'symbol': 'SPY',\n",
       "                               'timestamp': datetime.datetime(2024, 7, 22, 4, 0, tzinfo=TzInfo(UTC)),\n",
       "                               'trade_count': 419641.0,\n",
       "                               'volume': 43346720.0,\n",
       "                               'vwap': 553.63256},\n",
       "                           {   'close': 553.78,\n",
       "                               'high': 556.735,\n",
       "                               'low': 553.275,\n",
       "                               'open': 554.54,\n",
       "                               'symbol': 'SPY',\n",
       "                               'timestamp': datetime.datetime(2024, 7, 23, 4, 0, tzinfo=TzInfo(UTC)),\n",
       "                               'trade_count': 308680.0,\n",
       "                               'volume': 34439561.0,\n",
       "                               'vwap': 554.947013},\n",
       "                           {   'close': 541.23,\n",
       "                               'high': 549.17,\n",
       "                               'low': 540.29,\n",
       "                               'open': 548.86,\n",
       "                               'symbol': 'SPY',\n",
       "                               'timestamp': datetime.datetime(2024, 7, 24, 4, 0, tzinfo=TzInfo(UTC)),\n",
       "                               'trade_count': 537919.0,\n",
       "                               'volume': 74515266.0,\n",
       "                               'vwap': 543.775404},\n",
       "                           {   'close': 538.41,\n",
       "                               'high': 547.455,\n",
       "                               'low': 537.45,\n",
       "                               'open': 541.35,\n",
       "                               'symbol': 'SPY',\n",
       "                               'timestamp': datetime.datetime(2024, 7, 25, 4, 0, tzinfo=TzInfo(UTC)),\n",
       "                               'trade_count': 555720.0,\n",
       "                               'volume': 61158288.0,\n",
       "                               'vwap': 541.737207},\n",
       "                           {   'close': 544.44,\n",
       "                               'high': 547.19,\n",
       "                               'low': 541.49,\n",
       "                               'open': 542.28,\n",
       "                               'symbol': 'SPY',\n",
       "                               'timestamp': datetime.datetime(2024, 7, 26, 4, 0, tzinfo=TzInfo(UTC)),\n",
       "                               'trade_count': 458201.0,\n",
       "                               'volume': 53763788.0,\n",
       "                               'vwap': 544.081331},\n",
       "                           {   'close': 544.76,\n",
       "                               'high': 547.05,\n",
       "                               'low': 542.72,\n",
       "                               'open': 546.02,\n",
       "                               'symbol': 'SPY',\n",
       "                               'timestamp': datetime.datetime(2024, 7, 29, 4, 0, tzinfo=TzInfo(UTC)),\n",
       "                               'trade_count': 364441.0,\n",
       "                               'volume': 39515824.0,\n",
       "                               'vwap': 545.305528},\n",
       "                           {   'close': 542.0,\n",
       "                               'high': 547.34,\n",
       "                               'low': 538.515,\n",
       "                               'open': 546.26,\n",
       "                               'symbol': 'SPY',\n",
       "                               'timestamp': datetime.datetime(2024, 7, 30, 4, 0, tzinfo=TzInfo(UTC)),\n",
       "                               'trade_count': 428534.0,\n",
       "                               'volume': 46853632.0,\n",
       "                               'vwap': 542.546757},\n",
       "                           {   'close': 550.81,\n",
       "                               'high': 553.5,\n",
       "                               'low': 547.5799,\n",
       "                               'open': 548.98,\n",
       "                               'symbol': 'SPY',\n",
       "                               'timestamp': datetime.datetime(2024, 7, 31, 4, 0, tzinfo=TzInfo(UTC)),\n",
       "                               'trade_count': 499830.0,\n",
       "                               'volume': 65663388.0,\n",
       "                               'vwap': 550.610032},\n",
       "                           {   'close': 543.01,\n",
       "                               'high': 554.8688,\n",
       "                               'low': 539.43,\n",
       "                               'open': 552.57,\n",
       "                               'symbol': 'SPY',\n",
       "                               'timestamp': datetime.datetime(2024, 8, 1, 4, 0, tzinfo=TzInfo(UTC)),\n",
       "                               'trade_count': 658124.0,\n",
       "                               'volume': 76428732.0,\n",
       "                               'vwap': 544.809871},\n",
       "                           {   'close': 532.9,\n",
       "                               'high': 536.99,\n",
       "                               'low': 528.6,\n",
       "                               'open': 535.75,\n",
       "                               'symbol': 'SPY',\n",
       "                               'timestamp': datetime.datetime(2024, 8, 2, 4, 0, tzinfo=TzInfo(UTC)),\n",
       "                               'trade_count': 746100.0,\n",
       "                               'volume': 82789070.0,\n",
       "                               'vwap': 531.726908},\n",
       "                           {   'close': 517.38,\n",
       "                               'high': 523.58,\n",
       "                               'low': 510.27,\n",
       "                               'open': 511.64,\n",
       "                               'symbol': 'SPY',\n",
       "                               'timestamp': datetime.datetime(2024, 8, 5, 4, 0, tzinfo=TzInfo(UTC)),\n",
       "                               'trade_count': 1274896.0,\n",
       "                               'volume': 146267391.0,\n",
       "                               'vwap': 517.191195},\n",
       "                           {   'close': 522.15,\n",
       "                               'high': 529.75,\n",
       "                               'low': 517.87,\n",
       "                               'open': 519.22,\n",
       "                               'symbol': 'SPY',\n",
       "                               'timestamp': datetime.datetime(2024, 8, 6, 4, 0, tzinfo=TzInfo(UTC)),\n",
       "                               'trade_count': 731363.0,\n",
       "                               'volume': 84826312.0,\n",
       "                               'vwap': 524.399558},\n",
       "                           {   'close': 518.66,\n",
       "                               'high': 531.59,\n",
       "                               'low': 518.0519,\n",
       "                               'open': 528.47,\n",
       "                               'symbol': 'SPY',\n",
       "                               'timestamp': datetime.datetime(2024, 8, 7, 4, 0, tzinfo=TzInfo(UTC)),\n",
       "                               'trade_count': 644157.0,\n",
       "                               'volume': 70698340.0,\n",
       "                               'vwap': 524.14742},\n",
       "                           {   'close': 530.65,\n",
       "                               'high': 531.29,\n",
       "                               'low': 521.84,\n",
       "                               'open': 523.91,\n",
       "                               'symbol': 'SPY',\n",
       "                               'timestamp': datetime.datetime(2024, 8, 8, 4, 0, tzinfo=TzInfo(UTC)),\n",
       "                               'trade_count': 570742.0,\n",
       "                               'volume': 63276589.0,\n",
       "                               'vwap': 528.220388},\n",
       "                           {   'close': 532.99,\n",
       "                               'high': 534.51,\n",
       "                               'low': 528.56,\n",
       "                               'open': 529.81,\n",
       "                               'symbol': 'SPY',\n",
       "                               'timestamp': datetime.datetime(2024, 8, 9, 4, 0, tzinfo=TzInfo(UTC)),\n",
       "                               'trade_count': 459823.0,\n",
       "                               'volume': 45619558.0,\n",
       "                               'vwap': 531.740787},\n",
       "                           {   'close': 533.27,\n",
       "                               'high': 535.73,\n",
       "                               'low': 530.95,\n",
       "                               'open': 534.21,\n",
       "                               'symbol': 'SPY',\n",
       "                               'timestamp': datetime.datetime(2024, 8, 12, 4, 0, tzinfo=TzInfo(UTC)),\n",
       "                               'trade_count': 437515.0,\n",
       "                               'volume': 42542069.0,\n",
       "                               'vwap': 533.215795},\n",
       "                           {   'close': 542.04,\n",
       "                               'high': 542.28,\n",
       "                               'low': 536.28,\n",
       "                               'open': 536.53,\n",
       "                               'symbol': 'SPY',\n",
       "                               'timestamp': datetime.datetime(2024, 8, 13, 4, 0, tzinfo=TzInfo(UTC)),\n",
       "                               'trade_count': 422228.0,\n",
       "                               'volume': 52333073.0,\n",
       "                               'vwap': 540.0315},\n",
       "                           {   'close': 543.75,\n",
       "                               'high': 544.96,\n",
       "                               'low': 540.12,\n",
       "                               'open': 542.85,\n",
       "                               'symbol': 'SPY',\n",
       "                               'timestamp': datetime.datetime(2024, 8, 14, 4, 0, tzinfo=TzInfo(UTC)),\n",
       "                               'trade_count': 389697.0,\n",
       "                               'volume': 42446929.0,\n",
       "                               'vwap': 543.081967},\n",
       "                           {   'close': 553.07,\n",
       "                               'high': 553.36,\n",
       "                               'low': 548.88,\n",
       "                               'open': 549.5,\n",
       "                               'symbol': 'SPY',\n",
       "                               'timestamp': datetime.datetime(2024, 8, 15, 4, 0, tzinfo=TzInfo(UTC)),\n",
       "                               'trade_count': 480232.0,\n",
       "                               'volume': 60846812.0,\n",
       "                               'vwap': 551.705097},\n",
       "                           {   'close': 554.31,\n",
       "                               'high': 555.02,\n",
       "                               'low': 551.26,\n",
       "                               'open': 551.42,\n",
       "                               'symbol': 'SPY',\n",
       "                               'timestamp': datetime.datetime(2024, 8, 16, 4, 0, tzinfo=TzInfo(UTC)),\n",
       "                               'trade_count': 328824.0,\n",
       "                               'volume': 44430728.0,\n",
       "                               'vwap': 553.519424},\n",
       "                           {   'close': 559.61,\n",
       "                               'high': 559.61,\n",
       "                               'low': 553.86,\n",
       "                               'open': 554.73,\n",
       "                               'symbol': 'SPY',\n",
       "                               'timestamp': datetime.datetime(2024, 8, 19, 4, 0, tzinfo=TzInfo(UTC)),\n",
       "                               'trade_count': 365312.0,\n",
       "                               'volume': 39121793.0,\n",
       "                               'vwap': 557.241465},\n",
       "                           {   'close': 558.7,\n",
       "                               'high': 560.84,\n",
       "                               'low': 557.325,\n",
       "                               'open': 559.15,\n",
       "                               'symbol': 'SPY',\n",
       "                               'timestamp': datetime.datetime(2024, 8, 20, 4, 0, tzinfo=TzInfo(UTC)),\n",
       "                               'trade_count': 335460.0,\n",
       "                               'volume': 33732264.0,\n",
       "                               'vwap': 558.847888},\n",
       "                           {   'close': 560.62,\n",
       "                               'high': 562.11,\n",
       "                               'low': 554.73,\n",
       "                               'open': 559.77,\n",
       "                               'symbol': 'SPY',\n",
       "                               'timestamp': datetime.datetime(2024, 8, 21, 4, 0, tzinfo=TzInfo(UTC)),\n",
       "                               'trade_count': 357431.0,\n",
       "                               'volume': 41514600.0,\n",
       "                               'vwap': 560.174061},\n",
       "                           {   'close': 556.22,\n",
       "                               'high': 563.18,\n",
       "                               'low': 554.98,\n",
       "                               'open': 562.56,\n",
       "                               'symbol': 'SPY',\n",
       "                               'timestamp': datetime.datetime(2024, 8, 22, 4, 0, tzinfo=TzInfo(UTC)),\n",
       "                               'trade_count': 438323.0,\n",
       "                               'volume': 56121456.0,\n",
       "                               'vwap': 558.026024},\n",
       "                           {   'close': 562.13,\n",
       "                               'high': 563.09,\n",
       "                               'low': 557.29,\n",
       "                               'open': 559.53,\n",
       "                               'symbol': 'SPY',\n",
       "                               'timestamp': datetime.datetime(2024, 8, 23, 4, 0, tzinfo=TzInfo(UTC)),\n",
       "                               'trade_count': 479176.0,\n",
       "                               'volume': 50639393.0,\n",
       "                               'vwap': 560.85255},\n",
       "                           {   'close': 560.79,\n",
       "                               'high': 563.91,\n",
       "                               'low': 559.05,\n",
       "                               'open': 563.18,\n",
       "                               'symbol': 'SPY',\n",
       "                               'timestamp': datetime.datetime(2024, 8, 26, 4, 0, tzinfo=TzInfo(UTC)),\n",
       "                               'trade_count': 374792.0,\n",
       "                               'volume': 35788609.0,\n",
       "                               'vwap': 561.12996},\n",
       "                           {   'close': 561.56,\n",
       "                               'high': 562.06,\n",
       "                               'low': 558.32,\n",
       "                               'open': 559.49,\n",
       "                               'symbol': 'SPY',\n",
       "                               'timestamp': datetime.datetime(2024, 8, 27, 4, 0, tzinfo=TzInfo(UTC)),\n",
       "                               'trade_count': 306107.0,\n",
       "                               'volume': 32693898.0,\n",
       "                               'vwap': 560.978202},\n",
       "                           {   'close': 558.3,\n",
       "                               'high': 561.65,\n",
       "                               'low': 555.04,\n",
       "                               'open': 561.21,\n",
       "                               'symbol': 'SPY',\n",
       "                               'timestamp': datetime.datetime(2024, 8, 28, 4, 0, tzinfo=TzInfo(UTC)),\n",
       "                               'trade_count': 389475.0,\n",
       "                               'volume': 41066024.0,\n",
       "                               'vwap': 558.350832},\n",
       "                           {   'close': 558.35,\n",
       "                               'high': 563.68,\n",
       "                               'low': 557.18,\n",
       "                               'open': 560.31,\n",
       "                               'symbol': 'SPY',\n",
       "                               'timestamp': datetime.datetime(2024, 8, 29, 4, 0, tzinfo=TzInfo(UTC)),\n",
       "                               'trade_count': 400443.0,\n",
       "                               'volume': 38715176.0,\n",
       "                               'vwap': 560.370037},\n",
       "                           {   'close': 563.68,\n",
       "                               'high': 564.2,\n",
       "                               'low': 557.14,\n",
       "                               'open': 560.77,\n",
       "                               'symbol': 'SPY',\n",
       "                               'timestamp': datetime.datetime(2024, 8, 30, 4, 0, tzinfo=TzInfo(UTC)),\n",
       "                               'trade_count': 430114.0,\n",
       "                               'volume': 62700110.0,\n",
       "                               'vwap': 561.270306},\n",
       "                           {   'close': 552.08,\n",
       "                               'high': 560.81,\n",
       "                               'low': 549.51,\n",
       "                               'open': 560.47,\n",
       "                               'symbol': 'SPY',\n",
       "                               'timestamp': datetime.datetime(2024, 9, 3, 4, 0, tzinfo=TzInfo(UTC)),\n",
       "                               'trade_count': 592610.0,\n",
       "                               'volume': 60600113.0,\n",
       "                               'vwap': 554.506298},\n",
       "                           {   'close': 550.95,\n",
       "                               'high': 554.43,\n",
       "                               'low': 549.46,\n",
       "                               'open': 550.2,\n",
       "                               'symbol': 'SPY',\n",
       "                               'timestamp': datetime.datetime(2024, 9, 4, 4, 0, tzinfo=TzInfo(UTC)),\n",
       "                               'trade_count': 510879.0,\n",
       "                               'volume': 47224939.0,\n",
       "                               'vwap': 551.570698},\n",
       "                           {   'close': 549.61,\n",
       "                               'high': 553.7995,\n",
       "                               'low': 547.1,\n",
       "                               'open': 550.89,\n",
       "                               'symbol': 'SPY',\n",
       "                               'timestamp': datetime.datetime(2024, 9, 5, 4, 0, tzinfo=TzInfo(UTC)),\n",
       "                               'trade_count': 501683.0,\n",
       "                               'volume': 44264258.0,\n",
       "                               'vwap': 549.838735},\n",
       "                           {   'close': 540.36,\n",
       "                               'high': 551.6,\n",
       "                               'low': 539.44,\n",
       "                               'open': 549.94,\n",
       "                               'symbol': 'SPY',\n",
       "                               'timestamp': datetime.datetime(2024, 9, 6, 4, 0, tzinfo=TzInfo(UTC)),\n",
       "                               'trade_count': 673258.0,\n",
       "                               'volume': 68493805.0,\n",
       "                               'vwap': 542.599443},\n",
       "                           {   'close': 546.41,\n",
       "                               'high': 547.71,\n",
       "                               'low': 542.68,\n",
       "                               'open': 544.65,\n",
       "                               'symbol': 'SPY',\n",
       "                               'timestamp': datetime.datetime(2024, 9, 9, 4, 0, tzinfo=TzInfo(UTC)),\n",
       "                               'trade_count': 458651.0,\n",
       "                               'volume': 40445822.0,\n",
       "                               'vwap': 545.526989},\n",
       "                           {   'close': 548.79,\n",
       "                               'high': 549.15,\n",
       "                               'low': 543.38,\n",
       "                               'open': 548.36,\n",
       "                               'symbol': 'SPY',\n",
       "                               'timestamp': datetime.datetime(2024, 9, 10, 4, 0, tzinfo=TzInfo(UTC)),\n",
       "                               'trade_count': 410778.0,\n",
       "                               'volume': 36394579.0,\n",
       "                               'vwap': 547.136011},\n",
       "                           {   'close': 554.42,\n",
       "                               'high': 555.36,\n",
       "                               'low': 539.96,\n",
       "                               'open': 548.7,\n",
       "                               'symbol': 'SPY',\n",
       "                               'timestamp': datetime.datetime(2024, 9, 11, 4, 0, tzinfo=TzInfo(UTC)),\n",
       "                               'trade_count': 646260.0,\n",
       "                               'volume': 75248608.0,\n",
       "                               'vwap': 547.841231},\n",
       "                           {   'close': 559.09,\n",
       "                               'high': 559.4,\n",
       "                               'low': 552.74,\n",
       "                               'open': 555.01,\n",
       "                               'symbol': 'SPY',\n",
       "                               'timestamp': datetime.datetime(2024, 9, 12, 4, 0, tzinfo=TzInfo(UTC)),\n",
       "                               'trade_count': 478029.0,\n",
       "                               'volume': 51892735.0,\n",
       "                               'vwap': 557.019399},\n",
       "                           {   'close': 562.01,\n",
       "                               'high': 563.03,\n",
       "                               'low': 559.45,\n",
       "                               'open': 559.71,\n",
       "                               'symbol': 'SPY',\n",
       "                               'timestamp': datetime.datetime(2024, 9, 13, 4, 0, tzinfo=TzInfo(UTC)),\n",
       "                               'trade_count': 400749.0,\n",
       "                               'volume': 39310501.0,\n",
       "                               'vwap': 561.691649},\n",
       "                           {   'close': 562.84,\n",
       "                               'high': 563.11,\n",
       "                               'low': 559.9,\n",
       "                               'open': 561.74,\n",
       "                               'symbol': 'SPY',\n",
       "                               'timestamp': datetime.datetime(2024, 9, 16, 4, 0, tzinfo=TzInfo(UTC)),\n",
       "                               'trade_count': 360839.0,\n",
       "                               'volume': 36656122.0,\n",
       "                               'vwap': 561.758655},\n",
       "                           {   'close': 563.07,\n",
       "                               'high': 566.58,\n",
       "                               'low': 560.795,\n",
       "                               'open': 565.1,\n",
       "                               'symbol': 'SPY',\n",
       "                               'timestamp': datetime.datetime(2024, 9, 17, 4, 0, tzinfo=TzInfo(UTC)),\n",
       "                               'trade_count': 443173.0,\n",
       "                               'volume': 49320970.0,\n",
       "                               'vwap': 563.575408},\n",
       "                           {   'close': 561.4,\n",
       "                               'high': 568.69,\n",
       "                               'low': 560.83,\n",
       "                               'open': 563.74,\n",
       "                               'symbol': 'SPY',\n",
       "                               'timestamp': datetime.datetime(2024, 9, 18, 4, 0, tzinfo=TzInfo(UTC)),\n",
       "                               'trade_count': 621397.0,\n",
       "                               'volume': 59044937.0,\n",
       "                               'vwap': 563.767432},\n",
       "                           {   'close': 570.98,\n",
       "                               'high': 572.88,\n",
       "                               'low': 568.08,\n",
       "                               'open': 571.01,\n",
       "                               'symbol': 'SPY',\n",
       "                               'timestamp': datetime.datetime(2024, 9, 19, 4, 0, tzinfo=TzInfo(UTC)),\n",
       "                               'trade_count': 548399.0,\n",
       "                               'volume': 75315470.0,\n",
       "                               'vwap': 570.959024},\n",
       "                           {   'close': 568.25,\n",
       "                               'high': 569.31,\n",
       "                               'low': 565.17,\n",
       "                               'open': 567.84,\n",
       "                               'symbol': 'SPY',\n",
       "                               'timestamp': datetime.datetime(2024, 9, 20, 4, 0, tzinfo=TzInfo(UTC)),\n",
       "                               'trade_count': 471471.0,\n",
       "                               'volume': 77503110.0,\n",
       "                               'vwap': 567.546377},\n",
       "                           {   'close': 569.67,\n",
       "                               'high': 570.3325,\n",
       "                               'low': 568.1,\n",
       "                               'open': 569.34,\n",
       "                               'symbol': 'SPY',\n",
       "                               'timestamp': datetime.datetime(2024, 9, 23, 4, 0, tzinfo=TzInfo(UTC)),\n",
       "                               'trade_count': 367490.0,\n",
       "                               'volume': 44116922.0,\n",
       "                               'vwap': 569.293768},\n",
       "                           {   'close': 571.3,\n",
       "                               'high': 571.36,\n",
       "                               'low': 567.6,\n",
       "                               'open': 570.48,\n",
       "                               'symbol': 'SPY',\n",
       "                               'timestamp': datetime.datetime(2024, 9, 24, 4, 0, tzinfo=TzInfo(UTC)),\n",
       "                               'trade_count': 385277.0,\n",
       "                               'volume': 46805672.0,\n",
       "                               'vwap': 570.179385},\n",
       "                           {   'close': 570.04,\n",
       "                               'high': 571.89,\n",
       "                               'low': 568.91,\n",
       "                               'open': 571.14,\n",
       "                               'symbol': 'SPY',\n",
       "                               'timestamp': datetime.datetime(2024, 9, 25, 4, 0, tzinfo=TzInfo(UTC)),\n",
       "                               'trade_count': 378547.0,\n",
       "                               'volume': 38428587.0,\n",
       "                               'vwap': 570.405676},\n",
       "                           {   'close': 572.3,\n",
       "                               'high': 574.71,\n",
       "                               'low': 569.9,\n",
       "                               'open': 574.38,\n",
       "                               'symbol': 'SPY',\n",
       "                               'timestamp': datetime.datetime(2024, 9, 26, 4, 0, tzinfo=TzInfo(UTC)),\n",
       "                               'trade_count': 403346.0,\n",
       "                               'volume': 48336004.0,\n",
       "                               'vwap': 572.27229},\n",
       "                           {   'close': 571.47,\n",
       "                               'high': 574.22,\n",
       "                               'low': 570.42,\n",
       "                               'open': 573.39,\n",
       "                               'symbol': 'SPY',\n",
       "                               'timestamp': datetime.datetime(2024, 9, 27, 4, 0, tzinfo=TzInfo(UTC)),\n",
       "                               'trade_count': 375875.0,\n",
       "                               'volume': 42100928.0,\n",
       "                               'vwap': 572.30865},\n",
       "                           {   'close': 573.76,\n",
       "                               'high': 574.38,\n",
       "                               'low': 568.08,\n",
       "                               'open': 570.42,\n",
       "                               'symbol': 'SPY',\n",
       "                               'timestamp': datetime.datetime(2024, 9, 30, 4, 0, tzinfo=TzInfo(UTC)),\n",
       "                               'trade_count': 483221.0,\n",
       "                               'volume': 63655448.0,\n",
       "                               'vwap': 571.774907},\n",
       "                           {   'close': 568.62,\n",
       "                               'high': 574.0622,\n",
       "                               'low': 566.0,\n",
       "                               'open': 573.4,\n",
       "                               'symbol': 'SPY',\n",
       "                               'timestamp': datetime.datetime(2024, 10, 1, 4, 0, tzinfo=TzInfo(UTC)),\n",
       "                               'trade_count': 689277.0,\n",
       "                               'volume': 72668778.0,\n",
       "                               'vwap': 568.708298},\n",
       "                           {   'close': 568.86,\n",
       "                               'high': 569.9,\n",
       "                               'low': 565.27,\n",
       "                               'open': 567.71,\n",
       "                               'symbol': 'SPY',\n",
       "                               'timestamp': datetime.datetime(2024, 10, 2, 4, 0, tzinfo=TzInfo(UTC)),\n",
       "                               'trade_count': 382904.0,\n",
       "                               'volume': 38097798.0,\n",
       "                               'vwap': 568.373187},\n",
       "                           {   'close': 567.82,\n",
       "                               'high': 569.8025,\n",
       "                               'low': 565.49,\n",
       "                               'open': 567.36,\n",
       "                               'symbol': 'SPY',\n",
       "                               'timestamp': datetime.datetime(2024, 10, 3, 4, 0, tzinfo=TzInfo(UTC)),\n",
       "                               'trade_count': 414433.0,\n",
       "                               'volume': 40846466.0,\n",
       "                               'vwap': 567.342061},\n",
       "                           {   'close': 572.98,\n",
       "                               'high': 573.36,\n",
       "                               'low': 568.1,\n",
       "                               'open': 572.35,\n",
       "                               'symbol': 'SPY',\n",
       "                               'timestamp': datetime.datetime(2024, 10, 4, 4, 0, tzinfo=TzInfo(UTC)),\n",
       "                               'trade_count': 438794.0,\n",
       "                               'volume': 43005186.0,\n",
       "                               'vwap': 570.99034},\n",
       "                           {   'close': 567.8,\n",
       "                               'high': 571.9599,\n",
       "                               'low': 566.63,\n",
       "                               'open': 571.3,\n",
       "                               'symbol': 'SPY',\n",
       "                               'timestamp': datetime.datetime(2024, 10, 7, 4, 0, tzinfo=TzInfo(UTC)),\n",
       "                               'trade_count': 457719.0,\n",
       "                               'volume': 49964690.0,\n",
       "                               'vwap': 569.283676},\n",
       "                           {   'close': 573.17,\n",
       "                               'high': 573.78,\n",
       "                               'low': 569.5299,\n",
       "                               'open': 570.42,\n",
       "                               'symbol': 'SPY',\n",
       "                               'timestamp': datetime.datetime(2024, 10, 8, 4, 0, tzinfo=TzInfo(UTC)),\n",
       "                               'trade_count': 368103.0,\n",
       "                               'volume': 37398693.0,\n",
       "                               'vwap': 571.958492},\n",
       "                           {   'close': 577.14,\n",
       "                               'high': 577.71,\n",
       "                               'low': 572.55,\n",
       "                               'open': 573.16,\n",
       "                               'symbol': 'SPY',\n",
       "                               'timestamp': datetime.datetime(2024, 10, 9, 4, 0, tzinfo=TzInfo(UTC)),\n",
       "                               'trade_count': 380793.0,\n",
       "                               'volume': 37912244.0,\n",
       "                               'vwap': 575.961585},\n",
       "                           {   'close': 576.13,\n",
       "                               'high': 577.58,\n",
       "                               'low': 574.49,\n",
       "                               'open': 575.77,\n",
       "                               'symbol': 'SPY',\n",
       "                               'timestamp': datetime.datetime(2024, 10, 10, 4, 0, tzinfo=TzInfo(UTC)),\n",
       "                               'trade_count': 384802.0,\n",
       "                               'volume': 44138060.0,\n",
       "                               'vwap': 575.914102},\n",
       "                           {   'close': 579.58,\n",
       "                               'high': 580.33,\n",
       "                               'low': 575.91,\n",
       "                               'open': 576.05,\n",
       "                               'symbol': 'SPY',\n",
       "                               'timestamp': datetime.datetime(2024, 10, 11, 4, 0, tzinfo=TzInfo(UTC)),\n",
       "                               'trade_count': 369983.0,\n",
       "                               'volume': 42267994.0,\n",
       "                               'vwap': 579.098683},\n",
       "                           {   'close': 584.32,\n",
       "                               'high': 585.27,\n",
       "                               'low': 580.73,\n",
       "                               'open': 581.22,\n",
       "                               'symbol': 'SPY',\n",
       "                               'timestamp': datetime.datetime(2024, 10, 14, 4, 0, tzinfo=TzInfo(UTC)),\n",
       "                               'trade_count': 346478.0,\n",
       "                               'volume': 36217215.0,\n",
       "                               'vwap': 583.652755},\n",
       "                           {   'close': 579.78,\n",
       "                               'high': 584.9,\n",
       "                               'low': 578.545,\n",
       "                               'open': 584.59,\n",
       "                               'symbol': 'SPY',\n",
       "                               'timestamp': datetime.datetime(2024, 10, 15, 4, 0, tzinfo=TzInfo(UTC)),\n",
       "                               'trade_count': 450436.0,\n",
       "                               'volume': 54203636.0,\n",
       "                               'vwap': 581.362965},\n",
       "                           {   'close': 582.3,\n",
       "                               'high': 582.83,\n",
       "                               'low': 578.96,\n",
       "                               'open': 579.78,\n",
       "                               'symbol': 'SPY',\n",
       "                               'timestamp': datetime.datetime(2024, 10, 16, 4, 0, tzinfo=TzInfo(UTC)),\n",
       "                               'trade_count': 327311.0,\n",
       "                               'volume': 30725436.0,\n",
       "                               'vwap': 581.263073},\n",
       "                           {   'close': 582.35,\n",
       "                               'high': 586.12,\n",
       "                               'low': 582.16,\n",
       "                               'open': 585.91,\n",
       "                               'symbol': 'SPY',\n",
       "                               'timestamp': datetime.datetime(2024, 10, 17, 4, 0, tzinfo=TzInfo(UTC)),\n",
       "                               'trade_count': 350466.0,\n",
       "                               'volume': 34393714.0,\n",
       "                               'vwap': 583.466236},\n",
       "                           {   'close': 584.59,\n",
       "                               'high': 585.39,\n",
       "                               'low': 582.58,\n",
       "                               'open': 584.07,\n",
       "                               'symbol': 'SPY',\n",
       "                               'timestamp': datetime.datetime(2024, 10, 18, 4, 0, tzinfo=TzInfo(UTC)),\n",
       "                               'trade_count': 312698.0,\n",
       "                               'volume': 37416801.0,\n",
       "                               'vwap': 584.217609},\n",
       "                           {   'close': 583.63,\n",
       "                               'high': 584.85,\n",
       "                               'low': 580.6001,\n",
       "                               'open': 583.85,\n",
       "                               'symbol': 'SPY',\n",
       "                               'timestamp': datetime.datetime(2024, 10, 21, 4, 0, tzinfo=TzInfo(UTC)),\n",
       "                               'trade_count': 386011.0,\n",
       "                               'volume': 36439010.0,\n",
       "                               'vwap': 582.897586},\n",
       "                           {   'close': 583.32,\n",
       "                               'high': 584.5,\n",
       "                               'low': 580.38,\n",
       "                               'open': 581.05,\n",
       "                               'symbol': 'SPY',\n",
       "                               'timestamp': datetime.datetime(2024, 10, 22, 4, 0, tzinfo=TzInfo(UTC)),\n",
       "                               'trade_count': 333521.0,\n",
       "                               'volume': 34183835.0,\n",
       "                               'vwap': 582.673595},\n",
       "                           {   'close': 577.99,\n",
       "                               'high': 581.7086,\n",
       "                               'low': 574.415,\n",
       "                               'open': 581.26,\n",
       "                               'symbol': 'SPY',\n",
       "                               'timestamp': datetime.datetime(2024, 10, 23, 4, 0, tzinfo=TzInfo(UTC)),\n",
       "                               'trade_count': 470975.0,\n",
       "                               'volume': 49314574.0,\n",
       "                               'vwap': 578.074711},\n",
       "                           {   'close': 579.24,\n",
       "                               'high': 580.06,\n",
       "                               'low': 576.57,\n",
       "                               'open': 579.98,\n",
       "                               'symbol': 'SPY',\n",
       "                               'timestamp': datetime.datetime(2024, 10, 24, 4, 0, tzinfo=TzInfo(UTC)),\n",
       "                               'trade_count': 363434.0,\n",
       "                               'volume': 34979860.0,\n",
       "                               'vwap': 578.904205},\n",
       "                           {   'close': 579.04,\n",
       "                               'high': 584.46,\n",
       "                               'low': 578.08,\n",
       "                               'open': 581.51,\n",
       "                               'symbol': 'SPY',\n",
       "                               'timestamp': datetime.datetime(2024, 10, 25, 4, 0, tzinfo=TzInfo(UTC)),\n",
       "                               'trade_count': 413616.0,\n",
       "                               'volume': 47268176.0,\n",
       "                               'vwap': 581.054752},\n",
       "                           {   'close': 580.83,\n",
       "                               'high': 582.71,\n",
       "                               'low': 580.52,\n",
       "                               'open': 582.58,\n",
       "                               'symbol': 'SPY',\n",
       "                               'timestamp': datetime.datetime(2024, 10, 28, 4, 0, tzinfo=TzInfo(UTC)),\n",
       "                               'trade_count': 365420.0,\n",
       "                               'volume': 30174704.0,\n",
       "                               'vwap': 581.405883},\n",
       "                           {   'close': 581.77,\n",
       "                               'high': 582.907,\n",
       "                               'low': 578.43,\n",
       "                               'open': 579.85,\n",
       "                               'symbol': 'SPY',\n",
       "                               'timestamp': datetime.datetime(2024, 10, 29, 4, 0, tzinfo=TzInfo(UTC)),\n",
       "                               'trade_count': 373273.0,\n",
       "                               'volume': 42899661.0,\n",
       "                               'vwap': 581.336518},\n",
       "                           {   'close': 580.01,\n",
       "                               'high': 583.32,\n",
       "                               'low': 579.29,\n",
       "                               'open': 581.29,\n",
       "                               'symbol': 'SPY',\n",
       "                               'timestamp': datetime.datetime(2024, 10, 30, 4, 0, tzinfo=TzInfo(UTC)),\n",
       "                               'trade_count': 389130.0,\n",
       "                               'volume': 41435839.0,\n",
       "                               'vwap': 581.088774},\n",
       "                           {   'close': 568.64,\n",
       "                               'high': 575.63,\n",
       "                               'low': 568.44,\n",
       "                               'open': 575.56,\n",
       "                               'symbol': 'SPY',\n",
       "                               'timestamp': datetime.datetime(2024, 10, 31, 4, 0, tzinfo=TzInfo(UTC)),\n",
       "                               'trade_count': 577902.0,\n",
       "                               'volume': 60182451.0,\n",
       "                               'vwap': 571.335079},\n",
       "                           {   'close': 571.04,\n",
       "                               'high': 575.55,\n",
       "                               'low': 570.62,\n",
       "                               'open': 571.32,\n",
       "                               'symbol': 'SPY',\n",
       "                               'timestamp': datetime.datetime(2024, 11, 1, 4, 0, tzinfo=TzInfo(UTC)),\n",
       "                               'trade_count': 464571.0,\n",
       "                               'volume': 45667533.0,\n",
       "                               'vwap': 572.658516},\n",
       "                           {   'close': 569.81,\n",
       "                               'high': 572.5,\n",
       "                               'low': 567.89,\n",
       "                               'open': 571.18,\n",
       "                               'symbol': 'SPY',\n",
       "                               'timestamp': datetime.datetime(2024, 11, 4, 5, 0, tzinfo=TzInfo(UTC)),\n",
       "                               'trade_count': 394247.0,\n",
       "                               'volume': 38216975.0,\n",
       "                               'vwap': 570.278487},\n",
       "                           {   'close': 576.7,\n",
       "                               'high': 576.74,\n",
       "                               'low': 570.52,\n",
       "                               'open': 570.74,\n",
       "                               'symbol': 'SPY',\n",
       "                               'timestamp': datetime.datetime(2024, 11, 5, 5, 0, tzinfo=TzInfo(UTC)),\n",
       "                               'trade_count': 378253.0,\n",
       "                               'volume': 39478322.0,\n",
       "                               'vwap': 575.077202},\n",
       "                           {   'close': 591.04,\n",
       "                               'high': 591.93,\n",
       "                               'low': 585.39,\n",
       "                               'open': 589.2,\n",
       "                               'symbol': 'SPY',\n",
       "                               'timestamp': datetime.datetime(2024, 11, 6, 5, 0, tzinfo=TzInfo(UTC)),\n",
       "                               'trade_count': 666095.0,\n",
       "                               'volume': 68181968.0,\n",
       "                               'vwap': 589.331949},\n",
       "                           {   'close': 595.61,\n",
       "                               'high': 596.65,\n",
       "                               'low': 592.9999,\n",
       "                               'open': 593.08,\n",
       "                               'symbol': 'SPY',\n",
       "                               'timestamp': datetime.datetime(2024, 11, 7, 5, 0, tzinfo=TzInfo(UTC)),\n",
       "                               'trade_count': 427536.0,\n",
       "                               'volume': 47233212.0,\n",
       "                               'vwap': 594.921264},\n",
       "                           {   'close': 598.19,\n",
       "                               'high': 599.64,\n",
       "                               'low': 596.165,\n",
       "                               'open': 596.17,\n",
       "                               'symbol': 'SPY',\n",
       "                               'timestamp': datetime.datetime(2024, 11, 8, 5, 0, tzinfo=TzInfo(UTC)),\n",
       "                               'trade_count': 406428.0,\n",
       "                               'volume': 46444893.0,\n",
       "                               'vwap': 597.967927}]}}"
      ]
     },
     "execution_count": 15,
     "metadata": {},
     "output_type": "execute_result"
    }
   ],
   "source": [
    "asset_prices = stocks_client.get_stock_bars(StockBarsRequest(\n",
    "    symbol_or_symbols=asset, \n",
    "    timeframe=TimeFrame.Day, \n",
    "    start=start_date, \n",
    "    end=start_date + timedelta(days=7*40)\n",
    "))\n",
    "\n",
    "asset_prices"
   ]
  },
  {
   "cell_type": "code",
   "execution_count": 16,
   "metadata": {},
   "outputs": [
    {
     "data": {
      "text/html": [
       "<div>\n",
       "<style scoped>\n",
       "    .dataframe tbody tr th:only-of-type {\n",
       "        vertical-align: middle;\n",
       "    }\n",
       "\n",
       "    .dataframe tbody tr th {\n",
       "        vertical-align: top;\n",
       "    }\n",
       "\n",
       "    .dataframe thead th {\n",
       "        text-align: right;\n",
       "    }\n",
       "</style>\n",
       "<table border=\"1\" class=\"dataframe\">\n",
       "  <thead>\n",
       "    <tr style=\"text-align: right;\">\n",
       "      <th></th>\n",
       "      <th></th>\n",
       "      <th>open</th>\n",
       "      <th>high</th>\n",
       "      <th>low</th>\n",
       "      <th>close</th>\n",
       "      <th>volume</th>\n",
       "      <th>trade_count</th>\n",
       "      <th>vwap</th>\n",
       "    </tr>\n",
       "    <tr>\n",
       "      <th>symbol</th>\n",
       "      <th>timestamp</th>\n",
       "      <th></th>\n",
       "      <th></th>\n",
       "      <th></th>\n",
       "      <th></th>\n",
       "      <th></th>\n",
       "      <th></th>\n",
       "      <th></th>\n",
       "    </tr>\n",
       "  </thead>\n",
       "  <tbody>\n",
       "    <tr>\n",
       "      <th rowspan=\"5\" valign=\"top\">SPY</th>\n",
       "      <th>2024-11-04 05:00:00+00:00</th>\n",
       "      <td>571.18</td>\n",
       "      <td>572.50</td>\n",
       "      <td>567.8900</td>\n",
       "      <td>569.81</td>\n",
       "      <td>38216975.0</td>\n",
       "      <td>394247.0</td>\n",
       "      <td>570.278487</td>\n",
       "    </tr>\n",
       "    <tr>\n",
       "      <th>2024-11-05 05:00:00+00:00</th>\n",
       "      <td>570.74</td>\n",
       "      <td>576.74</td>\n",
       "      <td>570.5200</td>\n",
       "      <td>576.70</td>\n",
       "      <td>39478322.0</td>\n",
       "      <td>378253.0</td>\n",
       "      <td>575.077202</td>\n",
       "    </tr>\n",
       "    <tr>\n",
       "      <th>2024-11-06 05:00:00+00:00</th>\n",
       "      <td>589.20</td>\n",
       "      <td>591.93</td>\n",
       "      <td>585.3900</td>\n",
       "      <td>591.04</td>\n",
       "      <td>68181968.0</td>\n",
       "      <td>666095.0</td>\n",
       "      <td>589.331949</td>\n",
       "    </tr>\n",
       "    <tr>\n",
       "      <th>2024-11-07 05:00:00+00:00</th>\n",
       "      <td>593.08</td>\n",
       "      <td>596.65</td>\n",
       "      <td>592.9999</td>\n",
       "      <td>595.61</td>\n",
       "      <td>47233212.0</td>\n",
       "      <td>427536.0</td>\n",
       "      <td>594.921264</td>\n",
       "    </tr>\n",
       "    <tr>\n",
       "      <th>2024-11-08 05:00:00+00:00</th>\n",
       "      <td>596.17</td>\n",
       "      <td>599.64</td>\n",
       "      <td>596.1650</td>\n",
       "      <td>598.19</td>\n",
       "      <td>46444893.0</td>\n",
       "      <td>406428.0</td>\n",
       "      <td>597.967927</td>\n",
       "    </tr>\n",
       "  </tbody>\n",
       "</table>\n",
       "</div>"
      ],
      "text/plain": [
       "                                    open    high       low   close  \\\n",
       "symbol timestamp                                                     \n",
       "SPY    2024-11-04 05:00:00+00:00  571.18  572.50  567.8900  569.81   \n",
       "       2024-11-05 05:00:00+00:00  570.74  576.74  570.5200  576.70   \n",
       "       2024-11-06 05:00:00+00:00  589.20  591.93  585.3900  591.04   \n",
       "       2024-11-07 05:00:00+00:00  593.08  596.65  592.9999  595.61   \n",
       "       2024-11-08 05:00:00+00:00  596.17  599.64  596.1650  598.19   \n",
       "\n",
       "                                      volume  trade_count        vwap  \n",
       "symbol timestamp                                                       \n",
       "SPY    2024-11-04 05:00:00+00:00  38216975.0     394247.0  570.278487  \n",
       "       2024-11-05 05:00:00+00:00  39478322.0     378253.0  575.077202  \n",
       "       2024-11-06 05:00:00+00:00  68181968.0     666095.0  589.331949  \n",
       "       2024-11-07 05:00:00+00:00  47233212.0     427536.0  594.921264  \n",
       "       2024-11-08 05:00:00+00:00  46444893.0     406428.0  597.967927  "
      ]
     },
     "execution_count": 16,
     "metadata": {},
     "output_type": "execute_result"
    }
   ],
   "source": [
    "df_asset = asset_prices.df\n",
    "\n",
    "df_asset.tail()"
   ]
  },
  {
   "cell_type": "code",
   "execution_count": 17,
   "metadata": {},
   "outputs": [
    {
     "data": {
      "text/html": [
       "<div>\n",
       "<style scoped>\n",
       "    .dataframe tbody tr th:only-of-type {\n",
       "        vertical-align: middle;\n",
       "    }\n",
       "\n",
       "    .dataframe tbody tr th {\n",
       "        vertical-align: top;\n",
       "    }\n",
       "\n",
       "    .dataframe thead th {\n",
       "        text-align: right;\n",
       "    }\n",
       "</style>\n",
       "<table border=\"1\" class=\"dataframe\">\n",
       "  <thead>\n",
       "    <tr style=\"text-align: right;\">\n",
       "      <th></th>\n",
       "      <th></th>\n",
       "      <th>open</th>\n",
       "      <th>high</th>\n",
       "      <th>low</th>\n",
       "      <th>close</th>\n",
       "      <th>volume</th>\n",
       "      <th>trade_count</th>\n",
       "      <th>vwap</th>\n",
       "    </tr>\n",
       "    <tr>\n",
       "      <th>symbol</th>\n",
       "      <th>timestamp</th>\n",
       "      <th></th>\n",
       "      <th></th>\n",
       "      <th></th>\n",
       "      <th></th>\n",
       "      <th></th>\n",
       "      <th></th>\n",
       "      <th></th>\n",
       "    </tr>\n",
       "  </thead>\n",
       "  <tbody>\n",
       "    <tr>\n",
       "      <th rowspan=\"5\" valign=\"top\">SPY</th>\n",
       "      <th>2024-02-05 05:00:00+00:00</th>\n",
       "      <td>493.695</td>\n",
       "      <td>494.3778</td>\n",
       "      <td>490.23</td>\n",
       "      <td>492.55</td>\n",
       "      <td>75685102.0</td>\n",
       "      <td>537117.0</td>\n",
       "      <td>492.614541</td>\n",
       "    </tr>\n",
       "    <tr>\n",
       "      <th>2024-02-06 05:00:00+00:00</th>\n",
       "      <td>493.520</td>\n",
       "      <td>494.3200</td>\n",
       "      <td>492.05</td>\n",
       "      <td>493.98</td>\n",
       "      <td>55918602.0</td>\n",
       "      <td>456773.0</td>\n",
       "      <td>493.014563</td>\n",
       "    </tr>\n",
       "    <tr>\n",
       "      <th>2024-02-07 05:00:00+00:00</th>\n",
       "      <td>496.290</td>\n",
       "      <td>498.5300</td>\n",
       "      <td>495.36</td>\n",
       "      <td>498.10</td>\n",
       "      <td>70556506.0</td>\n",
       "      <td>501857.0</td>\n",
       "      <td>497.442779</td>\n",
       "    </tr>\n",
       "    <tr>\n",
       "      <th>2024-02-08 05:00:00+00:00</th>\n",
       "      <td>498.100</td>\n",
       "      <td>498.7100</td>\n",
       "      <td>497.26</td>\n",
       "      <td>498.32</td>\n",
       "      <td>52343636.0</td>\n",
       "      <td>406775.0</td>\n",
       "      <td>498.025515</td>\n",
       "    </tr>\n",
       "    <tr>\n",
       "      <th>2024-02-09 05:00:00+00:00</th>\n",
       "      <td>498.840</td>\n",
       "      <td>501.6500</td>\n",
       "      <td>498.49</td>\n",
       "      <td>501.20</td>\n",
       "      <td>63979375.0</td>\n",
       "      <td>467171.0</td>\n",
       "      <td>500.320019</td>\n",
       "    </tr>\n",
       "  </tbody>\n",
       "</table>\n",
       "</div>"
      ],
      "text/plain": [
       "                                     open      high     low   close  \\\n",
       "symbol timestamp                                                      \n",
       "SPY    2024-02-05 05:00:00+00:00  493.695  494.3778  490.23  492.55   \n",
       "       2024-02-06 05:00:00+00:00  493.520  494.3200  492.05  493.98   \n",
       "       2024-02-07 05:00:00+00:00  496.290  498.5300  495.36  498.10   \n",
       "       2024-02-08 05:00:00+00:00  498.100  498.7100  497.26  498.32   \n",
       "       2024-02-09 05:00:00+00:00  498.840  501.6500  498.49  501.20   \n",
       "\n",
       "                                      volume  trade_count        vwap  \n",
       "symbol timestamp                                                       \n",
       "SPY    2024-02-05 05:00:00+00:00  75685102.0     537117.0  492.614541  \n",
       "       2024-02-06 05:00:00+00:00  55918602.0     456773.0  493.014563  \n",
       "       2024-02-07 05:00:00+00:00  70556506.0     501857.0  497.442779  \n",
       "       2024-02-08 05:00:00+00:00  52343636.0     406775.0  498.025515  \n",
       "       2024-02-09 05:00:00+00:00  63979375.0     467171.0  500.320019  "
      ]
     },
     "execution_count": 17,
     "metadata": {},
     "output_type": "execute_result"
    }
   ],
   "source": [
    "df_asset.head()"
   ]
  },
  {
   "cell_type": "code",
   "execution_count": 18,
   "metadata": {},
   "outputs": [
    {
     "name": "stdout",
     "output_type": "stream",
     "text": [
      "<class 'pandas.core.frame.DataFrame'>\n",
      "MultiIndex: 194 entries, ('SPY', Timestamp('2024-02-05 05:00:00+0000', tz='UTC')) to ('SPY', Timestamp('2024-11-08 05:00:00+0000', tz='UTC'))\n",
      "Data columns (total 7 columns):\n",
      " #   Column       Non-Null Count  Dtype  \n",
      "---  ------       --------------  -----  \n",
      " 0   open         194 non-null    float64\n",
      " 1   high         194 non-null    float64\n",
      " 2   low          194 non-null    float64\n",
      " 3   close        194 non-null    float64\n",
      " 4   volume       194 non-null    float64\n",
      " 5   trade_count  194 non-null    float64\n",
      " 6   vwap         194 non-null    float64\n",
      "dtypes: float64(7)\n",
      "memory usage: 17.0+ KB\n"
     ]
    }
   ],
   "source": [
    "df_asset.info()"
   ]
  },
  {
   "cell_type": "code",
   "execution_count": 19,
   "metadata": {},
   "outputs": [
    {
     "data": {
      "text/plain": [
       "(194, 4)"
      ]
     },
     "execution_count": 19,
     "metadata": {},
     "output_type": "execute_result"
    }
   ],
   "source": [
    "asset_array = df_asset.loc[df_asset.index.get_level_values(\"symbol\") == asset, [\"open\", \"high\", \"low\", \"close\"]].values\n",
    "asset_array.shape"
   ]
  },
  {
   "cell_type": "code",
   "execution_count": 20,
   "metadata": {},
   "outputs": [
    {
     "data": {
      "application/vnd.plotly.v1+json": {
       "config": {
        "plotlyServerURL": "https://plot.ly"
       },
       "data": [
        {
         "close": [
          492.55,
          493.98,
          498.1,
          498.32,
          501.2,
          500.98,
          494.08,
          498.57,
          502.01,
          499.51,
          496.76,
          497.21,
          507.5,
          507.85,
          505.99,
          506.93,
          506.26,
          508.08,
          512.85,
          512.3,
          507.18,
          509.75,
          514.81,
          511.72,
          511.28,
          516.78,
          515.97,
          514.95,
          509.83,
          512.86,
          515.71,
          520.48,
          522.2,
          521.21,
          519.77,
          518.81,
          523.17,
          523.07,
          522.16,
          518.84,
          519.41,
          513.07,
          518.43,
          518.72,
          519.32,
          514.12,
          518,
          510.85,
          504.45,
          503.53,
          500.55,
          499.52,
          495.16,
          499.72,
          505.65,
          505.41,
          503.49,
          508.26,
          510.06,
          501.98,
          500.35,
          505.03,
          511.29,
          516.57,
          517.14,
          517.19,
          520.17,
          520.84,
          520.91,
          523.3,
          529.78,
          528.69,
          529.45,
          530.06,
          531.36,
          529.83,
          525.96,
          529.44,
          529.81,
          526.1,
          522.61,
          527.37,
          527.8,
          528.39,
          534.67,
          534.66,
          534.01,
          535.66,
          536.95,
          541.36,
          542.45,
          542.78,
          547.1,
          548.49,
          547,
          544.51,
          542.74,
          544.83,
          545.51,
          546.37,
          544.22,
          545.34,
          549.01,
          551.46,
          554.64,
          555.28,
          555.82,
          561.32,
          556.48,
          559.99,
          561.53,
          564.86,
          556.94,
          552.66,
          548.99,
          554.65,
          553.78,
          541.23,
          538.41,
          544.44,
          544.76,
          542,
          550.81,
          543.01,
          532.9,
          517.38,
          522.15,
          518.66,
          530.65,
          532.99,
          533.27,
          542.04,
          543.75,
          553.07,
          554.31,
          559.61,
          558.7,
          560.62,
          556.22,
          562.13,
          560.79,
          561.56,
          558.3,
          558.35,
          563.68,
          552.08,
          550.95,
          549.61,
          540.36,
          546.41,
          548.79,
          554.42,
          559.09,
          562.01,
          562.84,
          563.07,
          561.4,
          570.98,
          568.25,
          569.67,
          571.3,
          570.04,
          572.3,
          571.47,
          573.76,
          568.62,
          568.86,
          567.82,
          572.98,
          567.8,
          573.17,
          577.14,
          576.13,
          579.58,
          584.32,
          579.78,
          582.3,
          582.35,
          584.59,
          583.63,
          583.32,
          577.99,
          579.24,
          579.04,
          580.83,
          581.77,
          580.01,
          568.64,
          571.04,
          569.81,
          576.7,
          591.04,
          595.61,
          598.19
         ],
         "high": [
          494.3778,
          494.32,
          498.53,
          498.71,
          501.65,
          503.5,
          497.09,
          499.07,
          502.2,
          502.87,
          498.41,
          497.37,
          508.49,
          510.13,
          508.75,
          507.16,
          506.855,
          509.74,
          513.29,
          514.2,
          510.7,
          512.069,
          515.89,
          518.2201,
          511.88,
          517.38,
          517.29,
          517.125,
          511.7,
          515.48,
          515.995,
          520.62,
          524.11,
          522.605,
          520.95,
          521.58,
          523.21,
          524.61,
          524.38,
          518.98,
          520.95,
          523.8674,
          520.44,
          520.18,
          520.75,
          516.16,
          519.48,
          515.815,
          515.3,
          506.5,
          506.22,
          504.13,
          500.455,
          502.38,
          506.09,
          507.37,
          504.27,
          509.88,
          510.75,
          509.56,
          508.19,
          505.89,
          512.55,
          516.61,
          518.57,
          517.74,
          520.2074,
          522.635,
          522.67,
          523.83,
          530.08,
          531.5218,
          529.52,
          531.5601,
          531.52,
          531.38,
          533.07,
          530.27,
          530.51,
          527.31,
          525.2,
          527.5,
          529.31,
          529.15,
          534.69,
          535.42,
          536.89,
          535.99,
          537.01,
          544.12,
          543.325,
          542.81,
          548.53,
          548.62,
          550.12,
          545.65,
          546.95,
          545.2,
          546.24,
          546.96,
          550.28,
          545.88,
          549.01,
          551.83,
          555.05,
          556.2501,
          557.18,
          561.67,
          562.33,
          563.67,
          564.8371,
          565.16,
          560.51,
          559.52,
          554.08,
          555.27,
          556.735,
          549.17,
          547.455,
          547.19,
          547.05,
          547.34,
          553.5,
          554.8688,
          536.99,
          523.58,
          529.75,
          531.59,
          531.29,
          534.51,
          535.73,
          542.28,
          544.96,
          553.36,
          555.02,
          559.61,
          560.84,
          562.11,
          563.18,
          563.09,
          563.91,
          562.06,
          561.65,
          563.68,
          564.2,
          560.81,
          554.43,
          553.7995,
          551.6,
          547.71,
          549.15,
          555.36,
          559.4,
          563.03,
          563.11,
          566.58,
          568.69,
          572.88,
          569.31,
          570.3325,
          571.36,
          571.89,
          574.71,
          574.22,
          574.38,
          574.0622,
          569.9,
          569.8025,
          573.36,
          571.9599,
          573.78,
          577.71,
          577.58,
          580.33,
          585.27,
          584.9,
          582.83,
          586.12,
          585.39,
          584.85,
          584.5,
          581.7086,
          580.06,
          584.46,
          582.71,
          582.907,
          583.32,
          575.63,
          575.55,
          572.5,
          576.74,
          591.93,
          596.65,
          599.64
         ],
         "low": [
          490.23,
          492.05,
          495.36,
          497.26,
          498.49,
          500.24,
          490.715,
          494.4,
          498.795,
          498.75,
          494.45,
          493.56,
          503.02,
          507.1,
          505.86,
          504.75,
          504.96,
          505.35,
          508.56,
          512,
          504.91,
          508.42,
          509.8053,
          511.13,
          508.5,
          510.86,
          514.49,
          511.82,
          508.122,
          512.44,
          511.12,
          515.08,
          521.91,
          520.97,
          519.61,
          518.4,
          519.485,
          522.78,
          520.97,
          516.48,
          517.665,
          512.755,
          514.01,
          517.89,
          514.35,
          512.09,
          512.08,
          509.08,
          503.58,
          502.21,
          499.12,
          498.56,
          493.86,
          495.43,
          499.5328,
          503.13,
          497.49,
          505.7,
          507.25,
          501.98,
          499.865,
          499.55,
          508.56,
          513.3,
          516.45,
          515.14,
          516.705,
          519.59,
          519.74,
          520.56,
          525.18,
          528.54,
          527.32,
          529.17,
          529.07,
          527.6,
          524.72,
          526.881,
          527.11,
          525.37,
          521.33,
          518.36,
          522.6,
          524.96,
          528.7254,
          532.68,
          532.535,
          532.57,
          532.05,
          540.3,
          539.59,
          539.85,
          541.6072,
          546.73,
          545.18,
          543.02,
          542.62,
          542.44,
          543.03,
          544.61,
          542.95,
          542.52,
          543.65,
          548.65,
          551.12,
          554.19,
          555.52,
          556.77,
          555.83,
          557.15,
          559.63,
          562.1,
          556.61,
          550.43,
          547.91,
          551.02,
          553.275,
          540.29,
          537.45,
          541.49,
          542.72,
          538.515,
          547.5799,
          539.43,
          528.6,
          510.27,
          517.87,
          518.0519,
          521.84,
          528.56,
          530.95,
          536.28,
          540.12,
          548.88,
          551.26,
          553.86,
          557.325,
          554.73,
          554.98,
          557.29,
          559.05,
          558.32,
          555.04,
          557.18,
          557.14,
          549.51,
          549.46,
          547.1,
          539.44,
          542.68,
          543.38,
          539.96,
          552.74,
          559.45,
          559.9,
          560.795,
          560.83,
          568.08,
          565.17,
          568.1,
          567.6,
          568.91,
          569.9,
          570.42,
          568.08,
          566,
          565.27,
          565.49,
          568.1,
          566.63,
          569.5299,
          572.55,
          574.49,
          575.91,
          580.73,
          578.545,
          578.96,
          582.16,
          582.58,
          580.6001,
          580.38,
          574.415,
          576.57,
          578.08,
          580.52,
          578.43,
          579.29,
          568.44,
          570.62,
          567.89,
          570.52,
          585.39,
          592.9999,
          596.165
         ],
         "open": [
          493.695,
          493.52,
          496.29,
          498.1,
          498.84,
          501.17,
          494.53,
          496.79,
          499.29,
          501.7,
          497.72,
          495.42,
          504.01,
          509.27,
          508.3,
          506.7,
          505.33,
          508.07,
          508.98,
          512.03,
          510.24,
          510.55,
          513.14,
          515.46,
          510.48,
          513.45,
          517.11,
          516.97,
          510.21,
          514,
          512.15,
          515.77,
          523.39,
          522.11,
          519.8,
          521.23,
          521.71,
          523.21,
          523.83,
          518.24,
          517.72,
          523.52,
          514.46,
          519.15,
          520.5,
          513.48,
          515.68,
          514.37,
          515.13,
          504.94,
          506.05,
          501.98,
          499.44,
          497.83,
          501.78,
          506.56,
          499.18,
          506.35,
          510.09,
          508.56,
          501.38,
          504.15,
          511.16,
          513.75,
          517.56,
          515.26,
          517.38,
          521.81,
          522.56,
          521.11,
          525.83,
          529.88,
          528.81,
          529.57,
          529.28,
          530.65,
          532.96,
          527.85,
          530.27,
          525.68,
          524.52,
          523.59,
          529.02,
          526.46,
          530.77,
          534.98,
          533.66,
          533.18,
          534.07,
          541.63,
          543.15,
          540.88,
          542.08,
          547.16,
          549.44,
          544.4,
          544.33,
          543.99,
          543.69,
          545.37,
          547.16,
          545.63,
          543.7,
          548.69,
          551.77,
          555.44,
          556.26,
          557.07,
          561.44,
          557.63,
          562.03,
          562.865,
          558.8,
          558.51,
          552.42,
          553,
          554.54,
          548.86,
          541.35,
          542.28,
          546.02,
          546.26,
          548.98,
          552.57,
          535.75,
          511.64,
          519.22,
          528.47,
          523.91,
          529.81,
          534.21,
          536.53,
          542.85,
          549.5,
          551.42,
          554.73,
          559.15,
          559.77,
          562.56,
          559.53,
          563.18,
          559.49,
          561.21,
          560.31,
          560.77,
          560.47,
          550.2,
          550.89,
          549.94,
          544.65,
          548.36,
          548.7,
          555.01,
          559.71,
          561.74,
          565.1,
          563.74,
          571.01,
          567.84,
          569.34,
          570.48,
          571.14,
          574.38,
          573.39,
          570.42,
          573.4,
          567.71,
          567.36,
          572.35,
          571.3,
          570.42,
          573.16,
          575.77,
          576.05,
          581.22,
          584.59,
          579.78,
          585.91,
          584.07,
          583.85,
          581.05,
          581.26,
          579.98,
          581.51,
          582.58,
          579.85,
          581.29,
          575.56,
          571.32,
          571.18,
          570.74,
          589.2,
          593.08,
          596.17
         ],
         "type": "candlestick",
         "x": [
          0,
          1,
          2,
          3,
          4,
          5,
          6,
          7,
          8,
          9,
          10,
          11,
          12,
          13,
          14,
          15,
          16,
          17,
          18,
          19,
          20,
          21,
          22,
          23,
          24,
          25,
          26,
          27,
          28,
          29,
          30,
          31,
          32,
          33,
          34,
          35,
          36,
          37,
          38,
          39,
          40,
          41,
          42,
          43,
          44,
          45,
          46,
          47,
          48,
          49,
          50,
          51,
          52,
          53,
          54,
          55,
          56,
          57,
          58,
          59,
          60,
          61,
          62,
          63,
          64,
          65,
          66,
          67,
          68,
          69,
          70,
          71,
          72,
          73,
          74,
          75,
          76,
          77,
          78,
          79,
          80,
          81,
          82,
          83,
          84,
          85,
          86,
          87,
          88,
          89,
          90,
          91,
          92,
          93,
          94,
          95,
          96,
          97,
          98,
          99,
          100,
          101,
          102,
          103,
          104,
          105,
          106,
          107,
          108,
          109,
          110,
          111,
          112,
          113,
          114,
          115,
          116,
          117,
          118,
          119,
          120,
          121,
          122,
          123,
          124,
          125,
          126,
          127,
          128,
          129,
          130,
          131,
          132,
          133,
          134,
          135,
          136,
          137,
          138,
          139,
          140,
          141,
          142,
          143,
          144,
          145,
          146,
          147,
          148,
          149,
          150,
          151,
          152,
          153,
          154,
          155,
          156,
          157,
          158,
          159,
          160,
          161,
          162,
          163,
          164,
          165,
          166,
          167,
          168,
          169,
          170,
          171,
          172,
          173,
          174,
          175,
          176,
          177,
          178,
          179,
          180,
          181,
          182,
          183,
          184,
          185,
          186,
          187,
          188,
          189,
          190,
          191,
          192,
          193
         ]
        }
       ],
       "layout": {
        "template": {
         "data": {
          "bar": [
           {
            "error_x": {
             "color": "#2a3f5f"
            },
            "error_y": {
             "color": "#2a3f5f"
            },
            "marker": {
             "line": {
              "color": "#E5ECF6",
              "width": 0.5
             },
             "pattern": {
              "fillmode": "overlay",
              "size": 10,
              "solidity": 0.2
             }
            },
            "type": "bar"
           }
          ],
          "barpolar": [
           {
            "marker": {
             "line": {
              "color": "#E5ECF6",
              "width": 0.5
             },
             "pattern": {
              "fillmode": "overlay",
              "size": 10,
              "solidity": 0.2
             }
            },
            "type": "barpolar"
           }
          ],
          "carpet": [
           {
            "aaxis": {
             "endlinecolor": "#2a3f5f",
             "gridcolor": "white",
             "linecolor": "white",
             "minorgridcolor": "white",
             "startlinecolor": "#2a3f5f"
            },
            "baxis": {
             "endlinecolor": "#2a3f5f",
             "gridcolor": "white",
             "linecolor": "white",
             "minorgridcolor": "white",
             "startlinecolor": "#2a3f5f"
            },
            "type": "carpet"
           }
          ],
          "choropleth": [
           {
            "colorbar": {
             "outlinewidth": 0,
             "ticks": ""
            },
            "type": "choropleth"
           }
          ],
          "contour": [
           {
            "colorbar": {
             "outlinewidth": 0,
             "ticks": ""
            },
            "colorscale": [
             [
              0,
              "#0d0887"
             ],
             [
              0.1111111111111111,
              "#46039f"
             ],
             [
              0.2222222222222222,
              "#7201a8"
             ],
             [
              0.3333333333333333,
              "#9c179e"
             ],
             [
              0.4444444444444444,
              "#bd3786"
             ],
             [
              0.5555555555555556,
              "#d8576b"
             ],
             [
              0.6666666666666666,
              "#ed7953"
             ],
             [
              0.7777777777777778,
              "#fb9f3a"
             ],
             [
              0.8888888888888888,
              "#fdca26"
             ],
             [
              1,
              "#f0f921"
             ]
            ],
            "type": "contour"
           }
          ],
          "contourcarpet": [
           {
            "colorbar": {
             "outlinewidth": 0,
             "ticks": ""
            },
            "type": "contourcarpet"
           }
          ],
          "heatmap": [
           {
            "colorbar": {
             "outlinewidth": 0,
             "ticks": ""
            },
            "colorscale": [
             [
              0,
              "#0d0887"
             ],
             [
              0.1111111111111111,
              "#46039f"
             ],
             [
              0.2222222222222222,
              "#7201a8"
             ],
             [
              0.3333333333333333,
              "#9c179e"
             ],
             [
              0.4444444444444444,
              "#bd3786"
             ],
             [
              0.5555555555555556,
              "#d8576b"
             ],
             [
              0.6666666666666666,
              "#ed7953"
             ],
             [
              0.7777777777777778,
              "#fb9f3a"
             ],
             [
              0.8888888888888888,
              "#fdca26"
             ],
             [
              1,
              "#f0f921"
             ]
            ],
            "type": "heatmap"
           }
          ],
          "heatmapgl": [
           {
            "colorbar": {
             "outlinewidth": 0,
             "ticks": ""
            },
            "colorscale": [
             [
              0,
              "#0d0887"
             ],
             [
              0.1111111111111111,
              "#46039f"
             ],
             [
              0.2222222222222222,
              "#7201a8"
             ],
             [
              0.3333333333333333,
              "#9c179e"
             ],
             [
              0.4444444444444444,
              "#bd3786"
             ],
             [
              0.5555555555555556,
              "#d8576b"
             ],
             [
              0.6666666666666666,
              "#ed7953"
             ],
             [
              0.7777777777777778,
              "#fb9f3a"
             ],
             [
              0.8888888888888888,
              "#fdca26"
             ],
             [
              1,
              "#f0f921"
             ]
            ],
            "type": "heatmapgl"
           }
          ],
          "histogram": [
           {
            "marker": {
             "pattern": {
              "fillmode": "overlay",
              "size": 10,
              "solidity": 0.2
             }
            },
            "type": "histogram"
           }
          ],
          "histogram2d": [
           {
            "colorbar": {
             "outlinewidth": 0,
             "ticks": ""
            },
            "colorscale": [
             [
              0,
              "#0d0887"
             ],
             [
              0.1111111111111111,
              "#46039f"
             ],
             [
              0.2222222222222222,
              "#7201a8"
             ],
             [
              0.3333333333333333,
              "#9c179e"
             ],
             [
              0.4444444444444444,
              "#bd3786"
             ],
             [
              0.5555555555555556,
              "#d8576b"
             ],
             [
              0.6666666666666666,
              "#ed7953"
             ],
             [
              0.7777777777777778,
              "#fb9f3a"
             ],
             [
              0.8888888888888888,
              "#fdca26"
             ],
             [
              1,
              "#f0f921"
             ]
            ],
            "type": "histogram2d"
           }
          ],
          "histogram2dcontour": [
           {
            "colorbar": {
             "outlinewidth": 0,
             "ticks": ""
            },
            "colorscale": [
             [
              0,
              "#0d0887"
             ],
             [
              0.1111111111111111,
              "#46039f"
             ],
             [
              0.2222222222222222,
              "#7201a8"
             ],
             [
              0.3333333333333333,
              "#9c179e"
             ],
             [
              0.4444444444444444,
              "#bd3786"
             ],
             [
              0.5555555555555556,
              "#d8576b"
             ],
             [
              0.6666666666666666,
              "#ed7953"
             ],
             [
              0.7777777777777778,
              "#fb9f3a"
             ],
             [
              0.8888888888888888,
              "#fdca26"
             ],
             [
              1,
              "#f0f921"
             ]
            ],
            "type": "histogram2dcontour"
           }
          ],
          "mesh3d": [
           {
            "colorbar": {
             "outlinewidth": 0,
             "ticks": ""
            },
            "type": "mesh3d"
           }
          ],
          "parcoords": [
           {
            "line": {
             "colorbar": {
              "outlinewidth": 0,
              "ticks": ""
             }
            },
            "type": "parcoords"
           }
          ],
          "pie": [
           {
            "automargin": true,
            "type": "pie"
           }
          ],
          "scatter": [
           {
            "fillpattern": {
             "fillmode": "overlay",
             "size": 10,
             "solidity": 0.2
            },
            "type": "scatter"
           }
          ],
          "scatter3d": [
           {
            "line": {
             "colorbar": {
              "outlinewidth": 0,
              "ticks": ""
             }
            },
            "marker": {
             "colorbar": {
              "outlinewidth": 0,
              "ticks": ""
             }
            },
            "type": "scatter3d"
           }
          ],
          "scattercarpet": [
           {
            "marker": {
             "colorbar": {
              "outlinewidth": 0,
              "ticks": ""
             }
            },
            "type": "scattercarpet"
           }
          ],
          "scattergeo": [
           {
            "marker": {
             "colorbar": {
              "outlinewidth": 0,
              "ticks": ""
             }
            },
            "type": "scattergeo"
           }
          ],
          "scattergl": [
           {
            "marker": {
             "colorbar": {
              "outlinewidth": 0,
              "ticks": ""
             }
            },
            "type": "scattergl"
           }
          ],
          "scattermapbox": [
           {
            "marker": {
             "colorbar": {
              "outlinewidth": 0,
              "ticks": ""
             }
            },
            "type": "scattermapbox"
           }
          ],
          "scatterpolar": [
           {
            "marker": {
             "colorbar": {
              "outlinewidth": 0,
              "ticks": ""
             }
            },
            "type": "scatterpolar"
           }
          ],
          "scatterpolargl": [
           {
            "marker": {
             "colorbar": {
              "outlinewidth": 0,
              "ticks": ""
             }
            },
            "type": "scatterpolargl"
           }
          ],
          "scatterternary": [
           {
            "marker": {
             "colorbar": {
              "outlinewidth": 0,
              "ticks": ""
             }
            },
            "type": "scatterternary"
           }
          ],
          "surface": [
           {
            "colorbar": {
             "outlinewidth": 0,
             "ticks": ""
            },
            "colorscale": [
             [
              0,
              "#0d0887"
             ],
             [
              0.1111111111111111,
              "#46039f"
             ],
             [
              0.2222222222222222,
              "#7201a8"
             ],
             [
              0.3333333333333333,
              "#9c179e"
             ],
             [
              0.4444444444444444,
              "#bd3786"
             ],
             [
              0.5555555555555556,
              "#d8576b"
             ],
             [
              0.6666666666666666,
              "#ed7953"
             ],
             [
              0.7777777777777778,
              "#fb9f3a"
             ],
             [
              0.8888888888888888,
              "#fdca26"
             ],
             [
              1,
              "#f0f921"
             ]
            ],
            "type": "surface"
           }
          ],
          "table": [
           {
            "cells": {
             "fill": {
              "color": "#EBF0F8"
             },
             "line": {
              "color": "white"
             }
            },
            "header": {
             "fill": {
              "color": "#C8D4E3"
             },
             "line": {
              "color": "white"
             }
            },
            "type": "table"
           }
          ]
         },
         "layout": {
          "annotationdefaults": {
           "arrowcolor": "#2a3f5f",
           "arrowhead": 0,
           "arrowwidth": 1
          },
          "autotypenumbers": "strict",
          "coloraxis": {
           "colorbar": {
            "outlinewidth": 0,
            "ticks": ""
           }
          },
          "colorscale": {
           "diverging": [
            [
             0,
             "#8e0152"
            ],
            [
             0.1,
             "#c51b7d"
            ],
            [
             0.2,
             "#de77ae"
            ],
            [
             0.3,
             "#f1b6da"
            ],
            [
             0.4,
             "#fde0ef"
            ],
            [
             0.5,
             "#f7f7f7"
            ],
            [
             0.6,
             "#e6f5d0"
            ],
            [
             0.7,
             "#b8e186"
            ],
            [
             0.8,
             "#7fbc41"
            ],
            [
             0.9,
             "#4d9221"
            ],
            [
             1,
             "#276419"
            ]
           ],
           "sequential": [
            [
             0,
             "#0d0887"
            ],
            [
             0.1111111111111111,
             "#46039f"
            ],
            [
             0.2222222222222222,
             "#7201a8"
            ],
            [
             0.3333333333333333,
             "#9c179e"
            ],
            [
             0.4444444444444444,
             "#bd3786"
            ],
            [
             0.5555555555555556,
             "#d8576b"
            ],
            [
             0.6666666666666666,
             "#ed7953"
            ],
            [
             0.7777777777777778,
             "#fb9f3a"
            ],
            [
             0.8888888888888888,
             "#fdca26"
            ],
            [
             1,
             "#f0f921"
            ]
           ],
           "sequentialminus": [
            [
             0,
             "#0d0887"
            ],
            [
             0.1111111111111111,
             "#46039f"
            ],
            [
             0.2222222222222222,
             "#7201a8"
            ],
            [
             0.3333333333333333,
             "#9c179e"
            ],
            [
             0.4444444444444444,
             "#bd3786"
            ],
            [
             0.5555555555555556,
             "#d8576b"
            ],
            [
             0.6666666666666666,
             "#ed7953"
            ],
            [
             0.7777777777777778,
             "#fb9f3a"
            ],
            [
             0.8888888888888888,
             "#fdca26"
            ],
            [
             1,
             "#f0f921"
            ]
           ]
          },
          "colorway": [
           "#636efa",
           "#EF553B",
           "#00cc96",
           "#ab63fa",
           "#FFA15A",
           "#19d3f3",
           "#FF6692",
           "#B6E880",
           "#FF97FF",
           "#FECB52"
          ],
          "font": {
           "color": "#2a3f5f"
          },
          "geo": {
           "bgcolor": "white",
           "lakecolor": "white",
           "landcolor": "#E5ECF6",
           "showlakes": true,
           "showland": true,
           "subunitcolor": "white"
          },
          "hoverlabel": {
           "align": "left"
          },
          "hovermode": "closest",
          "mapbox": {
           "style": "light"
          },
          "paper_bgcolor": "white",
          "plot_bgcolor": "#E5ECF6",
          "polar": {
           "angularaxis": {
            "gridcolor": "white",
            "linecolor": "white",
            "ticks": ""
           },
           "bgcolor": "#E5ECF6",
           "radialaxis": {
            "gridcolor": "white",
            "linecolor": "white",
            "ticks": ""
           }
          },
          "scene": {
           "xaxis": {
            "backgroundcolor": "#E5ECF6",
            "gridcolor": "white",
            "gridwidth": 2,
            "linecolor": "white",
            "showbackground": true,
            "ticks": "",
            "zerolinecolor": "white"
           },
           "yaxis": {
            "backgroundcolor": "#E5ECF6",
            "gridcolor": "white",
            "gridwidth": 2,
            "linecolor": "white",
            "showbackground": true,
            "ticks": "",
            "zerolinecolor": "white"
           },
           "zaxis": {
            "backgroundcolor": "#E5ECF6",
            "gridcolor": "white",
            "gridwidth": 2,
            "linecolor": "white",
            "showbackground": true,
            "ticks": "",
            "zerolinecolor": "white"
           }
          },
          "shapedefaults": {
           "line": {
            "color": "#2a3f5f"
           }
          },
          "ternary": {
           "aaxis": {
            "gridcolor": "white",
            "linecolor": "white",
            "ticks": ""
           },
           "baxis": {
            "gridcolor": "white",
            "linecolor": "white",
            "ticks": ""
           },
           "bgcolor": "#E5ECF6",
           "caxis": {
            "gridcolor": "white",
            "linecolor": "white",
            "ticks": ""
           }
          },
          "title": {
           "x": 0.05
          },
          "xaxis": {
           "automargin": true,
           "gridcolor": "white",
           "linecolor": "white",
           "ticks": "",
           "title": {
            "standoff": 15
           },
           "zerolinecolor": "white",
           "zerolinewidth": 2
          },
          "yaxis": {
           "automargin": true,
           "gridcolor": "white",
           "linecolor": "white",
           "ticks": "",
           "title": {
            "standoff": 15
           },
           "zerolinecolor": "white",
           "zerolinewidth": 2
          }
         }
        },
        "title": {
         "text": "SPY price"
        }
       }
      }
     },
     "metadata": {},
     "output_type": "display_data"
    }
   ],
   "source": [
    "_ = plot_candles_OHLC(asset_array, f\"{asset} price\")"
   ]
  },
  {
   "cell_type": "code",
   "execution_count": 21,
   "metadata": {},
   "outputs": [
    {
     "data": {
      "text/plain": [
       "count    194.000000\n",
       "mean      -0.002933\n",
       "std        0.594536\n",
       "min       -2.073263\n",
       "25%       -0.279138\n",
       "50%        0.049062\n",
       "75%        0.387916\n",
       "max        1.286481\n",
       "dtype: float64"
      ]
     },
     "execution_count": 21,
     "metadata": {},
     "output_type": "execute_result"
    }
   ],
   "source": [
    "# just a statistic of the daily SPY price movement (in percentages)\n",
    "\n",
    "openings = df_asset[\"open\"]\n",
    "closings = df_asset[\"close\"]\n",
    "movements = (closings / openings - 1) * 100\n",
    "movements.describe()"
   ]
  },
  {
   "cell_type": "code",
   "execution_count": 22,
   "metadata": {},
   "outputs": [
    {
     "data": {
      "text/plain": [
       "count    194.000000\n",
       "mean       0.445493\n",
       "std        0.392415\n",
       "min        0.001968\n",
       "25%        0.158984\n",
       "50%        0.358764\n",
       "75%        0.596172\n",
       "max        2.073263\n",
       "dtype: float64"
      ]
     },
     "execution_count": 22,
     "metadata": {},
     "output_type": "execute_result"
    }
   ],
   "source": [
    "movements.abs().describe()  # absolute values of daily price movements (in percentages)"
   ]
  },
  {
   "cell_type": "code",
   "execution_count": 23,
   "metadata": {},
   "outputs": [
    {
     "data": {
      "text/plain": [
       "<Axes: >"
      ]
     },
     "execution_count": 23,
     "metadata": {},
     "output_type": "execute_result"
    },
    {
     "data": {
      "image/png": "[encoded data removed]",
      "text/plain": [
       "<Figure size 640x480 with 1 Axes>"
      ]
     },
     "metadata": {},
     "output_type": "display_data"
    }
   ],
   "source": [
    "movements.hist()"
   ]
  },
  {
   "cell_type": "code",
   "execution_count": 24,
   "metadata": {},
   "outputs": [
    {
     "data": {
      "text/plain": [
       "<Axes: >"
      ]
     },
     "execution_count": 24,
     "metadata": {},
     "output_type": "execute_result"
    },
    {
     "data": {
      "image/png": "[encoded data removed]",
      "text/plain": [
       "<Figure size 640x480 with 1 Axes>"
      ]
     },
     "metadata": {},
     "output_type": "display_data"
    }
   ],
   "source": [
    "movements.abs().hist()"
   ]
  },
  {
   "cell_type": "markdown",
   "metadata": {},
   "source": [
    "We can quite safely choose 1.5% as the upper bound that are going to use for the wings of a butterfly/condor"
   ]
  },
  {
   "cell_type": "markdown",
   "metadata": {},
   "source": [
    "Let's begin by trying a 0DTE iron condor for the first day only (5 Feb 2024)"
   ]
  },
  {
   "cell_type": "code",
   "execution_count": 25,
   "metadata": {},
   "outputs": [
    {
     "data": {
      "text/plain": [
       "493.695"
      ]
     },
     "execution_count": 25,
     "metadata": {},
     "output_type": "execute_result"
    }
   ],
   "source": [
    "expirations_intv_days = 0  # 0DTE options\n",
    "\n",
    "curr_date = start_date\n",
    "curr_price = df_asset[df_asset.index.get_level_values(\"timestamp\") >= start_date.strftime(\"%Y-%m-%d\")].sort_index().iloc[0][\"open\"]\n",
    "curr_price"
   ]
  },
  {
   "cell_type": "code",
   "execution_count": 26,
   "metadata": {},
   "outputs": [
    {
     "data": {
      "text/plain": [
       "(486.289575, 501.100425)"
      ]
     },
     "execution_count": 26,
     "metadata": {},
     "output_type": "execute_result"
    }
   ],
   "source": [
    "wings_spread_ratio = 0.015 # 1.5% of the current price\n",
    "lower_strike, higher_strike = curr_price * (1 - wings_spread_ratio), curr_price * (1 + wings_spread_ratio)\n",
    "lower_strike, higher_strike"
   ]
  },
  {
   "cell_type": "code",
   "execution_count": 27,
   "metadata": {},
   "outputs": [
    {
     "data": {
      "text/plain": [
       "'SPY240205P00123000'"
      ]
     },
     "execution_count": 27,
     "metadata": {},
     "output_type": "execute_result"
    }
   ],
   "source": [
    "from enum import Enum\n",
    "from dataclasses import dataclass\n",
    "\n",
    "class OptionType(Enum):\n",
    "    PUT = \"P\"\n",
    "    CALL = \"C\"\n",
    "\n",
    "\n",
    "@dataclass\n",
    "class Option:\n",
    "    optype: OptionType\n",
    "    asset_ticker: str\n",
    "    expiry_date: datetime\n",
    "    strike_price: float | int\n",
    "\n",
    "    @property\n",
    "    def ticker(self) -> str:\n",
    "        return f\"{self.asset_ticker}{self.expiry_date.strftime('%y%m%d')}{self.optype.value}{int(self.strike_price*1000):08}\"\n",
    "    \n",
    "    def __str__(self) -> str:\n",
    "        return self.ticker\n",
    "    \n",
    "\n",
    "Option(OptionType.PUT, asset, curr_date + timedelta(days=expirations_intv_days), 123).ticker"
   ]
  },
  {
   "cell_type": "code",
   "execution_count": 28,
   "metadata": {},
   "outputs": [
    {
     "data": {
      "text/plain": [
       "['SPY240205C00501000',\n",
       " 'SPY240205P00486000',\n",
       " 'SPY240205C00494000',\n",
       " 'SPY240205P00494000']"
      ]
     },
     "execution_count": 28,
     "metadata": {},
     "output_type": "execute_result"
    }
   ],
   "source": [
    "expiry_date = curr_date + timedelta(days=expirations_intv_days)\n",
    "\n",
    "high, low, middle = round(higher_strike), round(lower_strike), round(curr_price)\n",
    "\n",
    "iron_condor_longs = [\n",
    "    Option(OptionType.CALL, asset, expiry_date, high),\n",
    "    Option(OptionType.PUT, asset, expiry_date, low),\n",
    "]\n",
    "\n",
    "iron_condor_shorts = [\n",
    "    Option(OptionType.CALL, asset, expiry_date, middle),\n",
    "    Option(OptionType.PUT, asset, expiry_date, middle),\n",
    "]\n",
    "\n",
    "tickers = [opt.ticker for opt in iron_condor_longs + iron_condor_shorts]\n",
    "tickers"
   ]
  },
  {
   "cell_type": "code",
   "execution_count": 29,
   "metadata": {},
   "outputs": [
    {
     "data": {
      "text/html": [
       "<div>\n",
       "<style scoped>\n",
       "    .dataframe tbody tr th:only-of-type {\n",
       "        vertical-align: middle;\n",
       "    }\n",
       "\n",
       "    .dataframe tbody tr th {\n",
       "        vertical-align: top;\n",
       "    }\n",
       "\n",
       "    .dataframe thead th {\n",
       "        text-align: right;\n",
       "    }\n",
       "</style>\n",
       "<table border=\"1\" class=\"dataframe\">\n",
       "  <thead>\n",
       "    <tr style=\"text-align: right;\">\n",
       "      <th></th>\n",
       "      <th></th>\n",
       "      <th>open</th>\n",
       "      <th>high</th>\n",
       "      <th>low</th>\n",
       "      <th>close</th>\n",
       "      <th>volume</th>\n",
       "      <th>trade_count</th>\n",
       "      <th>vwap</th>\n",
       "    </tr>\n",
       "    <tr>\n",
       "      <th>symbol</th>\n",
       "      <th>timestamp</th>\n",
       "      <th></th>\n",
       "      <th></th>\n",
       "      <th></th>\n",
       "      <th></th>\n",
       "      <th></th>\n",
       "      <th></th>\n",
       "      <th></th>\n",
       "    </tr>\n",
       "  </thead>\n",
       "  <tbody>\n",
       "    <tr>\n",
       "      <th rowspan=\"8\" valign=\"top\">SPY240205C00494000</th>\n",
       "      <th>2024-02-05 14:00:00+00:00</th>\n",
       "      <td>0.92</td>\n",
       "      <td>0.94</td>\n",
       "      <td>0.55</td>\n",
       "      <td>0.72</td>\n",
       "      <td>67776.0</td>\n",
       "      <td>8082.0</td>\n",
       "      <td>0.682284</td>\n",
       "    </tr>\n",
       "    <tr>\n",
       "      <th>2024-02-05 15:00:00+00:00</th>\n",
       "      <td>0.70</td>\n",
       "      <td>0.71</td>\n",
       "      <td>0.09</td>\n",
       "      <td>0.12</td>\n",
       "      <td>90930.0</td>\n",
       "      <td>10862.0</td>\n",
       "      <td>0.287652</td>\n",
       "    </tr>\n",
       "    <tr>\n",
       "      <th>2024-02-05 16:00:00+00:00</th>\n",
       "      <td>0.12</td>\n",
       "      <td>0.19</td>\n",
       "      <td>0.10</td>\n",
       "      <td>0.19</td>\n",
       "      <td>26731.0</td>\n",
       "      <td>3483.0</td>\n",
       "      <td>0.152242</td>\n",
       "    </tr>\n",
       "    <tr>\n",
       "      <th>2024-02-05 17:00:00+00:00</th>\n",
       "      <td>0.18</td>\n",
       "      <td>0.62</td>\n",
       "      <td>0.14</td>\n",
       "      <td>0.27</td>\n",
       "      <td>63179.0</td>\n",
       "      <td>7199.0</td>\n",
       "      <td>0.253843</td>\n",
       "    </tr>\n",
       "    <tr>\n",
       "      <th>2024-02-05 18:00:00+00:00</th>\n",
       "      <td>0.26</td>\n",
       "      <td>0.38</td>\n",
       "      <td>0.15</td>\n",
       "      <td>0.22</td>\n",
       "      <td>50095.0</td>\n",
       "      <td>6710.0</td>\n",
       "      <td>0.237722</td>\n",
       "    </tr>\n",
       "    <tr>\n",
       "      <th>2024-02-05 19:00:00+00:00</th>\n",
       "      <td>0.22</td>\n",
       "      <td>0.53</td>\n",
       "      <td>0.13</td>\n",
       "      <td>0.37</td>\n",
       "      <td>98115.0</td>\n",
       "      <td>9826.0</td>\n",
       "      <td>0.342369</td>\n",
       "    </tr>\n",
       "    <tr>\n",
       "      <th>2024-02-05 20:00:00+00:00</th>\n",
       "      <td>0.37</td>\n",
       "      <td>0.39</td>\n",
       "      <td>0.01</td>\n",
       "      <td>0.01</td>\n",
       "      <td>106389.0</td>\n",
       "      <td>8622.0</td>\n",
       "      <td>0.118227</td>\n",
       "    </tr>\n",
       "    <tr>\n",
       "      <th>2024-02-05 21:00:00+00:00</th>\n",
       "      <td>0.01</td>\n",
       "      <td>0.01</td>\n",
       "      <td>0.01</td>\n",
       "      <td>0.01</td>\n",
       "      <td>849.0</td>\n",
       "      <td>53.0</td>\n",
       "      <td>0.010000</td>\n",
       "    </tr>\n",
       "    <tr>\n",
       "      <th rowspan=\"7\" valign=\"top\">SPY240205P00486000</th>\n",
       "      <th>2024-02-05 14:00:00+00:00</th>\n",
       "      <td>0.02</td>\n",
       "      <td>0.04</td>\n",
       "      <td>0.01</td>\n",
       "      <td>0.01</td>\n",
       "      <td>9363.0</td>\n",
       "      <td>274.0</td>\n",
       "      <td>0.025754</td>\n",
       "    </tr>\n",
       "    <tr>\n",
       "      <th>2024-02-05 15:00:00+00:00</th>\n",
       "      <td>0.01</td>\n",
       "      <td>0.07</td>\n",
       "      <td>0.01</td>\n",
       "      <td>0.04</td>\n",
       "      <td>29565.0</td>\n",
       "      <td>796.0</td>\n",
       "      <td>0.042448</td>\n",
       "    </tr>\n",
       "    <tr>\n",
       "      <th>2024-02-05 16:00:00+00:00</th>\n",
       "      <td>0.04</td>\n",
       "      <td>0.04</td>\n",
       "      <td>0.02</td>\n",
       "      <td>0.02</td>\n",
       "      <td>1676.0</td>\n",
       "      <td>194.0</td>\n",
       "      <td>0.026921</td>\n",
       "    </tr>\n",
       "    <tr>\n",
       "      <th>2024-02-05 17:00:00+00:00</th>\n",
       "      <td>0.02</td>\n",
       "      <td>0.02</td>\n",
       "      <td>0.01</td>\n",
       "      <td>0.01</td>\n",
       "      <td>738.0</td>\n",
       "      <td>91.0</td>\n",
       "      <td>0.012236</td>\n",
       "    </tr>\n",
       "    <tr>\n",
       "      <th>2024-02-05 18:00:00+00:00</th>\n",
       "      <td>0.02</td>\n",
       "      <td>0.02</td>\n",
       "      <td>0.01</td>\n",
       "      <td>0.01</td>\n",
       "      <td>260.0</td>\n",
       "      <td>51.0</td>\n",
       "      <td>0.011154</td>\n",
       "    </tr>\n",
       "    <tr>\n",
       "      <th>2024-02-05 19:00:00+00:00</th>\n",
       "      <td>0.01</td>\n",
       "      <td>0.02</td>\n",
       "      <td>0.01</td>\n",
       "      <td>0.01</td>\n",
       "      <td>602.0</td>\n",
       "      <td>59.0</td>\n",
       "      <td>0.010050</td>\n",
       "    </tr>\n",
       "    <tr>\n",
       "      <th>2024-02-05 20:00:00+00:00</th>\n",
       "      <td>0.01</td>\n",
       "      <td>0.02</td>\n",
       "      <td>0.01</td>\n",
       "      <td>0.01</td>\n",
       "      <td>448.0</td>\n",
       "      <td>16.0</td>\n",
       "      <td>0.010022</td>\n",
       "    </tr>\n",
       "    <tr>\n",
       "      <th rowspan=\"8\" valign=\"top\">SPY240205P00494000</th>\n",
       "      <th>2024-02-05 14:00:00+00:00</th>\n",
       "      <td>1.23</td>\n",
       "      <td>1.67</td>\n",
       "      <td>1.22</td>\n",
       "      <td>1.29</td>\n",
       "      <td>20169.0</td>\n",
       "      <td>2542.0</td>\n",
       "      <td>1.420002</td>\n",
       "    </tr>\n",
       "    <tr>\n",
       "      <th>2024-02-05 15:00:00+00:00</th>\n",
       "      <td>1.28</td>\n",
       "      <td>3.82</td>\n",
       "      <td>1.28</td>\n",
       "      <td>3.26</td>\n",
       "      <td>8781.0</td>\n",
       "      <td>1514.0</td>\n",
       "      <td>2.198234</td>\n",
       "    </tr>\n",
       "    <tr>\n",
       "      <th>2024-02-05 16:00:00+00:00</th>\n",
       "      <td>3.30</td>\n",
       "      <td>3.32</td>\n",
       "      <td>2.05</td>\n",
       "      <td>2.05</td>\n",
       "      <td>700.0</td>\n",
       "      <td>162.0</td>\n",
       "      <td>2.562743</td>\n",
       "    </tr>\n",
       "    <tr>\n",
       "      <th>2024-02-05 17:00:00+00:00</th>\n",
       "      <td>2.08</td>\n",
       "      <td>2.14</td>\n",
       "      <td>1.02</td>\n",
       "      <td>1.22</td>\n",
       "      <td>9457.0</td>\n",
       "      <td>1431.0</td>\n",
       "      <td>1.286421</td>\n",
       "    </tr>\n",
       "    <tr>\n",
       "      <th>2024-02-05 18:00:00+00:00</th>\n",
       "      <td>1.27</td>\n",
       "      <td>1.58</td>\n",
       "      <td>0.89</td>\n",
       "      <td>1.06</td>\n",
       "      <td>10008.0</td>\n",
       "      <td>1311.0</td>\n",
       "      <td>1.154929</td>\n",
       "    </tr>\n",
       "    <tr>\n",
       "      <th>2024-02-05 19:00:00+00:00</th>\n",
       "      <td>1.05</td>\n",
       "      <td>1.29</td>\n",
       "      <td>0.36</td>\n",
       "      <td>0.38</td>\n",
       "      <td>32029.0</td>\n",
       "      <td>2681.0</td>\n",
       "      <td>0.529569</td>\n",
       "    </tr>\n",
       "    <tr>\n",
       "      <th>2024-02-05 20:00:00+00:00</th>\n",
       "      <td>0.39</td>\n",
       "      <td>1.48</td>\n",
       "      <td>0.32</td>\n",
       "      <td>1.40</td>\n",
       "      <td>35965.0</td>\n",
       "      <td>4618.0</td>\n",
       "      <td>0.723571</td>\n",
       "    </tr>\n",
       "    <tr>\n",
       "      <th>2024-02-05 21:00:00+00:00</th>\n",
       "      <td>1.44</td>\n",
       "      <td>1.96</td>\n",
       "      <td>1.36</td>\n",
       "      <td>1.58</td>\n",
       "      <td>919.0</td>\n",
       "      <td>109.0</td>\n",
       "      <td>1.626910</td>\n",
       "    </tr>\n",
       "  </tbody>\n",
       "</table>\n",
       "</div>"
      ],
      "text/plain": [
       "                                              open  high   low  close  \\\n",
       "symbol             timestamp                                            \n",
       "SPY240205C00494000 2024-02-05 14:00:00+00:00  0.92  0.94  0.55   0.72   \n",
       "                   2024-02-05 15:00:00+00:00  0.70  0.71  0.09   0.12   \n",
       "                   2024-02-05 16:00:00+00:00  0.12  0.19  0.10   0.19   \n",
       "                   2024-02-05 17:00:00+00:00  0.18  0.62  0.14   0.27   \n",
       "                   2024-02-05 18:00:00+00:00  0.26  0.38  0.15   0.22   \n",
       "                   2024-02-05 19:00:00+00:00  0.22  0.53  0.13   0.37   \n",
       "                   2024-02-05 20:00:00+00:00  0.37  0.39  0.01   0.01   \n",
       "                   2024-02-05 21:00:00+00:00  0.01  0.01  0.01   0.01   \n",
       "SPY240205P00486000 2024-02-05 14:00:00+00:00  0.02  0.04  0.01   0.01   \n",
       "                   2024-02-05 15:00:00+00:00  0.01  0.07  0.01   0.04   \n",
       "                   2024-02-05 16:00:00+00:00  0.04  0.04  0.02   0.02   \n",
       "                   2024-02-05 17:00:00+00:00  0.02  0.02  0.01   0.01   \n",
       "                   2024-02-05 18:00:00+00:00  0.02  0.02  0.01   0.01   \n",
       "                   2024-02-05 19:00:00+00:00  0.01  0.02  0.01   0.01   \n",
       "                   2024-02-05 20:00:00+00:00  0.01  0.02  0.01   0.01   \n",
       "SPY240205P00494000 2024-02-05 14:00:00+00:00  1.23  1.67  1.22   1.29   \n",
       "                   2024-02-05 15:00:00+00:00  1.28  3.82  1.28   3.26   \n",
       "                   2024-02-05 16:00:00+00:00  3.30  3.32  2.05   2.05   \n",
       "                   2024-02-05 17:00:00+00:00  2.08  2.14  1.02   1.22   \n",
       "                   2024-02-05 18:00:00+00:00  1.27  1.58  0.89   1.06   \n",
       "                   2024-02-05 19:00:00+00:00  1.05  1.29  0.36   0.38   \n",
       "                   2024-02-05 20:00:00+00:00  0.39  1.48  0.32   1.40   \n",
       "                   2024-02-05 21:00:00+00:00  1.44  1.96  1.36   1.58   \n",
       "\n",
       "                                                volume  trade_count      vwap  \n",
       "symbol             timestamp                                                   \n",
       "SPY240205C00494000 2024-02-05 14:00:00+00:00   67776.0       8082.0  0.682284  \n",
       "                   2024-02-05 15:00:00+00:00   90930.0      10862.0  0.287652  \n",
       "                   2024-02-05 16:00:00+00:00   26731.0       3483.0  0.152242  \n",
       "                   2024-02-05 17:00:00+00:00   63179.0       7199.0  0.253843  \n",
       "                   2024-02-05 18:00:00+00:00   50095.0       6710.0  0.237722  \n",
       "                   2024-02-05 19:00:00+00:00   98115.0       9826.0  0.342369  \n",
       "                   2024-02-05 20:00:00+00:00  106389.0       8622.0  0.118227  \n",
       "                   2024-02-05 21:00:00+00:00     849.0         53.0  0.010000  \n",
       "SPY240205P00486000 2024-02-05 14:00:00+00:00    9363.0        274.0  0.025754  \n",
       "                   2024-02-05 15:00:00+00:00   29565.0        796.0  0.042448  \n",
       "                   2024-02-05 16:00:00+00:00    1676.0        194.0  0.026921  \n",
       "                   2024-02-05 17:00:00+00:00     738.0         91.0  0.012236  \n",
       "                   2024-02-05 18:00:00+00:00     260.0         51.0  0.011154  \n",
       "                   2024-02-05 19:00:00+00:00     602.0         59.0  0.010050  \n",
       "                   2024-02-05 20:00:00+00:00     448.0         16.0  0.010022  \n",
       "SPY240205P00494000 2024-02-05 14:00:00+00:00   20169.0       2542.0  1.420002  \n",
       "                   2024-02-05 15:00:00+00:00    8781.0       1514.0  2.198234  \n",
       "                   2024-02-05 16:00:00+00:00     700.0        162.0  2.562743  \n",
       "                   2024-02-05 17:00:00+00:00    9457.0       1431.0  1.286421  \n",
       "                   2024-02-05 18:00:00+00:00   10008.0       1311.0  1.154929  \n",
       "                   2024-02-05 19:00:00+00:00   32029.0       2681.0  0.529569  \n",
       "                   2024-02-05 20:00:00+00:00   35965.0       4618.0  0.723571  \n",
       "                   2024-02-05 21:00:00+00:00     919.0        109.0  1.626910  "
      ]
     },
     "execution_count": 29,
     "metadata": {},
     "output_type": "execute_result"
    }
   ],
   "source": [
    "full_day_opts = options_client.get_option_bars(OptionBarsRequest(\n",
    "    symbol_or_symbols=tickers,\n",
    "    timeframe=TimeFrame.Hour,  # type: ignore\n",
    "    start=curr_date,\n",
    "))\n",
    "full_day_opts_df = full_day_opts.df  # type: ignore\n",
    "full_day_opts_df"
   ]
  },
  {
   "cell_type": "code",
   "execution_count": 30,
   "metadata": {},
   "outputs": [
    {
     "data": {
      "text/html": [
       "<div>\n",
       "<style scoped>\n",
       "    .dataframe tbody tr th:only-of-type {\n",
       "        vertical-align: middle;\n",
       "    }\n",
       "\n",
       "    .dataframe tbody tr th {\n",
       "        vertical-align: top;\n",
       "    }\n",
       "\n",
       "    .dataframe thead th {\n",
       "        text-align: right;\n",
       "    }\n",
       "</style>\n",
       "<table border=\"1\" class=\"dataframe\">\n",
       "  <thead>\n",
       "    <tr style=\"text-align: right;\">\n",
       "      <th></th>\n",
       "      <th>open</th>\n",
       "      <th>high</th>\n",
       "      <th>low</th>\n",
       "      <th>close</th>\n",
       "      <th>volume</th>\n",
       "      <th>trade_count</th>\n",
       "      <th>vwap</th>\n",
       "    </tr>\n",
       "    <tr>\n",
       "      <th>timestamp</th>\n",
       "      <th></th>\n",
       "      <th></th>\n",
       "      <th></th>\n",
       "      <th></th>\n",
       "      <th></th>\n",
       "      <th></th>\n",
       "      <th></th>\n",
       "    </tr>\n",
       "  </thead>\n",
       "  <tbody>\n",
       "    <tr>\n",
       "      <th>2024-02-05 14:00:00+00:00</th>\n",
       "      <td>3</td>\n",
       "      <td>3</td>\n",
       "      <td>3</td>\n",
       "      <td>3</td>\n",
       "      <td>3</td>\n",
       "      <td>3</td>\n",
       "      <td>3</td>\n",
       "    </tr>\n",
       "    <tr>\n",
       "      <th>2024-02-05 15:00:00+00:00</th>\n",
       "      <td>3</td>\n",
       "      <td>3</td>\n",
       "      <td>3</td>\n",
       "      <td>3</td>\n",
       "      <td>3</td>\n",
       "      <td>3</td>\n",
       "      <td>3</td>\n",
       "    </tr>\n",
       "    <tr>\n",
       "      <th>2024-02-05 16:00:00+00:00</th>\n",
       "      <td>3</td>\n",
       "      <td>3</td>\n",
       "      <td>3</td>\n",
       "      <td>3</td>\n",
       "      <td>3</td>\n",
       "      <td>3</td>\n",
       "      <td>3</td>\n",
       "    </tr>\n",
       "    <tr>\n",
       "      <th>2024-02-05 17:00:00+00:00</th>\n",
       "      <td>3</td>\n",
       "      <td>3</td>\n",
       "      <td>3</td>\n",
       "      <td>3</td>\n",
       "      <td>3</td>\n",
       "      <td>3</td>\n",
       "      <td>3</td>\n",
       "    </tr>\n",
       "    <tr>\n",
       "      <th>2024-02-05 18:00:00+00:00</th>\n",
       "      <td>3</td>\n",
       "      <td>3</td>\n",
       "      <td>3</td>\n",
       "      <td>3</td>\n",
       "      <td>3</td>\n",
       "      <td>3</td>\n",
       "      <td>3</td>\n",
       "    </tr>\n",
       "    <tr>\n",
       "      <th>2024-02-05 19:00:00+00:00</th>\n",
       "      <td>3</td>\n",
       "      <td>3</td>\n",
       "      <td>3</td>\n",
       "      <td>3</td>\n",
       "      <td>3</td>\n",
       "      <td>3</td>\n",
       "      <td>3</td>\n",
       "    </tr>\n",
       "    <tr>\n",
       "      <th>2024-02-05 20:00:00+00:00</th>\n",
       "      <td>3</td>\n",
       "      <td>3</td>\n",
       "      <td>3</td>\n",
       "      <td>3</td>\n",
       "      <td>3</td>\n",
       "      <td>3</td>\n",
       "      <td>3</td>\n",
       "    </tr>\n",
       "    <tr>\n",
       "      <th>2024-02-05 21:00:00+00:00</th>\n",
       "      <td>2</td>\n",
       "      <td>2</td>\n",
       "      <td>2</td>\n",
       "      <td>2</td>\n",
       "      <td>2</td>\n",
       "      <td>2</td>\n",
       "      <td>2</td>\n",
       "    </tr>\n",
       "  </tbody>\n",
       "</table>\n",
       "</div>"
      ],
      "text/plain": [
       "                           open  high  low  close  volume  trade_count  vwap\n",
       "timestamp                                                                   \n",
       "2024-02-05 14:00:00+00:00     3     3    3      3       3            3     3\n",
       "2024-02-05 15:00:00+00:00     3     3    3      3       3            3     3\n",
       "2024-02-05 16:00:00+00:00     3     3    3      3       3            3     3\n",
       "2024-02-05 17:00:00+00:00     3     3    3      3       3            3     3\n",
       "2024-02-05 18:00:00+00:00     3     3    3      3       3            3     3\n",
       "2024-02-05 19:00:00+00:00     3     3    3      3       3            3     3\n",
       "2024-02-05 20:00:00+00:00     3     3    3      3       3            3     3\n",
       "2024-02-05 21:00:00+00:00     2     2    2      2       2            2     2"
      ]
     },
     "execution_count": 30,
     "metadata": {},
     "output_type": "execute_result"
    }
   ],
   "source": [
    "full_day_opts_df.groupby(\"timestamp\").count()"
   ]
  },
  {
   "cell_type": "code",
   "execution_count": 31,
   "metadata": {},
   "outputs": [
    {
     "data": {
      "text/html": [
       "<div>\n",
       "<style scoped>\n",
       "    .dataframe tbody tr th:only-of-type {\n",
       "        vertical-align: middle;\n",
       "    }\n",
       "\n",
       "    .dataframe tbody tr th {\n",
       "        vertical-align: top;\n",
       "    }\n",
       "\n",
       "    .dataframe thead th {\n",
       "        text-align: right;\n",
       "    }\n",
       "</style>\n",
       "<table border=\"1\" class=\"dataframe\">\n",
       "  <thead>\n",
       "    <tr style=\"text-align: right;\">\n",
       "      <th></th>\n",
       "      <th></th>\n",
       "      <th>open</th>\n",
       "      <th>high</th>\n",
       "      <th>low</th>\n",
       "      <th>close</th>\n",
       "      <th>volume</th>\n",
       "      <th>trade_count</th>\n",
       "      <th>vwap</th>\n",
       "    </tr>\n",
       "    <tr>\n",
       "      <th>symbol</th>\n",
       "      <th>timestamp</th>\n",
       "      <th></th>\n",
       "      <th></th>\n",
       "      <th></th>\n",
       "      <th></th>\n",
       "      <th></th>\n",
       "      <th></th>\n",
       "      <th></th>\n",
       "    </tr>\n",
       "  </thead>\n",
       "  <tbody>\n",
       "    <tr>\n",
       "      <th rowspan=\"8\" valign=\"top\">SPY240205C00501000</th>\n",
       "      <th>2024-02-05 14:00:00+00:00</th>\n",
       "      <td>0.01</td>\n",
       "      <td>0.01</td>\n",
       "      <td>0.01</td>\n",
       "      <td>0.01</td>\n",
       "      <td>0.0</td>\n",
       "      <td>0.01</td>\n",
       "      <td>0.000000</td>\n",
       "    </tr>\n",
       "    <tr>\n",
       "      <th>2024-02-05 15:00:00+00:00</th>\n",
       "      <td>0.01</td>\n",
       "      <td>0.01</td>\n",
       "      <td>0.01</td>\n",
       "      <td>0.01</td>\n",
       "      <td>0.0</td>\n",
       "      <td>0.01</td>\n",
       "      <td>0.000000</td>\n",
       "    </tr>\n",
       "    <tr>\n",
       "      <th>2024-02-05 16:00:00+00:00</th>\n",
       "      <td>0.01</td>\n",
       "      <td>0.01</td>\n",
       "      <td>0.01</td>\n",
       "      <td>0.01</td>\n",
       "      <td>0.0</td>\n",
       "      <td>0.01</td>\n",
       "      <td>0.000000</td>\n",
       "    </tr>\n",
       "    <tr>\n",
       "      <th>2024-02-05 17:00:00+00:00</th>\n",
       "      <td>0.01</td>\n",
       "      <td>0.01</td>\n",
       "      <td>0.01</td>\n",
       "      <td>0.01</td>\n",
       "      <td>0.0</td>\n",
       "      <td>0.01</td>\n",
       "      <td>0.000000</td>\n",
       "    </tr>\n",
       "    <tr>\n",
       "      <th>2024-02-05 18:00:00+00:00</th>\n",
       "      <td>0.01</td>\n",
       "      <td>0.01</td>\n",
       "      <td>0.01</td>\n",
       "      <td>0.01</td>\n",
       "      <td>0.0</td>\n",
       "      <td>0.01</td>\n",
       "      <td>0.000000</td>\n",
       "    </tr>\n",
       "    <tr>\n",
       "      <th>2024-02-05 19:00:00+00:00</th>\n",
       "      <td>0.01</td>\n",
       "      <td>0.01</td>\n",
       "      <td>0.01</td>\n",
       "      <td>0.01</td>\n",
       "      <td>0.0</td>\n",
       "      <td>0.01</td>\n",
       "      <td>0.000000</td>\n",
       "    </tr>\n",
       "    <tr>\n",
       "      <th>2024-02-05 20:00:00+00:00</th>\n",
       "      <td>0.01</td>\n",
       "      <td>0.01</td>\n",
       "      <td>0.01</td>\n",
       "      <td>0.01</td>\n",
       "      <td>0.0</td>\n",
       "      <td>0.01</td>\n",
       "      <td>0.000000</td>\n",
       "    </tr>\n",
       "    <tr>\n",
       "      <th>2024-02-05 21:00:00+00:00</th>\n",
       "      <td>0.01</td>\n",
       "      <td>0.01</td>\n",
       "      <td>0.01</td>\n",
       "      <td>0.01</td>\n",
       "      <td>0.0</td>\n",
       "      <td>0.01</td>\n",
       "      <td>0.000000</td>\n",
       "    </tr>\n",
       "    <tr>\n",
       "      <th rowspan=\"8\" valign=\"top\">SPY240205P00486000</th>\n",
       "      <th>2024-02-05 14:00:00+00:00</th>\n",
       "      <td>0.02</td>\n",
       "      <td>0.04</td>\n",
       "      <td>0.01</td>\n",
       "      <td>0.01</td>\n",
       "      <td>9363.0</td>\n",
       "      <td>274.00</td>\n",
       "      <td>0.025754</td>\n",
       "    </tr>\n",
       "    <tr>\n",
       "      <th>2024-02-05 15:00:00+00:00</th>\n",
       "      <td>0.01</td>\n",
       "      <td>0.07</td>\n",
       "      <td>0.01</td>\n",
       "      <td>0.04</td>\n",
       "      <td>29565.0</td>\n",
       "      <td>796.00</td>\n",
       "      <td>0.042448</td>\n",
       "    </tr>\n",
       "    <tr>\n",
       "      <th>2024-02-05 16:00:00+00:00</th>\n",
       "      <td>0.04</td>\n",
       "      <td>0.04</td>\n",
       "      <td>0.02</td>\n",
       "      <td>0.02</td>\n",
       "      <td>1676.0</td>\n",
       "      <td>194.00</td>\n",
       "      <td>0.026921</td>\n",
       "    </tr>\n",
       "    <tr>\n",
       "      <th>2024-02-05 17:00:00+00:00</th>\n",
       "      <td>0.02</td>\n",
       "      <td>0.02</td>\n",
       "      <td>0.01</td>\n",
       "      <td>0.01</td>\n",
       "      <td>738.0</td>\n",
       "      <td>91.00</td>\n",
       "      <td>0.012236</td>\n",
       "    </tr>\n",
       "    <tr>\n",
       "      <th>2024-02-05 18:00:00+00:00</th>\n",
       "      <td>0.02</td>\n",
       "      <td>0.02</td>\n",
       "      <td>0.01</td>\n",
       "      <td>0.01</td>\n",
       "      <td>260.0</td>\n",
       "      <td>51.00</td>\n",
       "      <td>0.011154</td>\n",
       "    </tr>\n",
       "    <tr>\n",
       "      <th>2024-02-05 19:00:00+00:00</th>\n",
       "      <td>0.01</td>\n",
       "      <td>0.02</td>\n",
       "      <td>0.01</td>\n",
       "      <td>0.01</td>\n",
       "      <td>602.0</td>\n",
       "      <td>59.00</td>\n",
       "      <td>0.010050</td>\n",
       "    </tr>\n",
       "    <tr>\n",
       "      <th>2024-02-05 20:00:00+00:00</th>\n",
       "      <td>0.01</td>\n",
       "      <td>0.02</td>\n",
       "      <td>0.01</td>\n",
       "      <td>0.01</td>\n",
       "      <td>448.0</td>\n",
       "      <td>16.00</td>\n",
       "      <td>0.010022</td>\n",
       "    </tr>\n",
       "    <tr>\n",
       "      <th>2024-02-05 21:00:00+00:00</th>\n",
       "      <td>0.01</td>\n",
       "      <td>0.01</td>\n",
       "      <td>0.01</td>\n",
       "      <td>0.01</td>\n",
       "      <td>0.0</td>\n",
       "      <td>0.01</td>\n",
       "      <td>0.000000</td>\n",
       "    </tr>\n",
       "    <tr>\n",
       "      <th rowspan=\"8\" valign=\"top\">SPY240205C00494000</th>\n",
       "      <th>2024-02-05 14:00:00+00:00</th>\n",
       "      <td>0.92</td>\n",
       "      <td>0.94</td>\n",
       "      <td>0.55</td>\n",
       "      <td>0.72</td>\n",
       "      <td>67776.0</td>\n",
       "      <td>8082.00</td>\n",
       "      <td>0.682284</td>\n",
       "    </tr>\n",
       "    <tr>\n",
       "      <th>2024-02-05 15:00:00+00:00</th>\n",
       "      <td>0.70</td>\n",
       "      <td>0.71</td>\n",
       "      <td>0.09</td>\n",
       "      <td>0.12</td>\n",
       "      <td>90930.0</td>\n",
       "      <td>10862.00</td>\n",
       "      <td>0.287652</td>\n",
       "    </tr>\n",
       "    <tr>\n",
       "      <th>2024-02-05 16:00:00+00:00</th>\n",
       "      <td>0.12</td>\n",
       "      <td>0.19</td>\n",
       "      <td>0.10</td>\n",
       "      <td>0.19</td>\n",
       "      <td>26731.0</td>\n",
       "      <td>3483.00</td>\n",
       "      <td>0.152242</td>\n",
       "    </tr>\n",
       "    <tr>\n",
       "      <th>2024-02-05 17:00:00+00:00</th>\n",
       "      <td>0.18</td>\n",
       "      <td>0.62</td>\n",
       "      <td>0.14</td>\n",
       "      <td>0.27</td>\n",
       "      <td>63179.0</td>\n",
       "      <td>7199.00</td>\n",
       "      <td>0.253843</td>\n",
       "    </tr>\n",
       "    <tr>\n",
       "      <th>2024-02-05 18:00:00+00:00</th>\n",
       "      <td>0.26</td>\n",
       "      <td>0.38</td>\n",
       "      <td>0.15</td>\n",
       "      <td>0.22</td>\n",
       "      <td>50095.0</td>\n",
       "      <td>6710.00</td>\n",
       "      <td>0.237722</td>\n",
       "    </tr>\n",
       "    <tr>\n",
       "      <th>2024-02-05 19:00:00+00:00</th>\n",
       "      <td>0.22</td>\n",
       "      <td>0.53</td>\n",
       "      <td>0.13</td>\n",
       "      <td>0.37</td>\n",
       "      <td>98115.0</td>\n",
       "      <td>9826.00</td>\n",
       "      <td>0.342369</td>\n",
       "    </tr>\n",
       "    <tr>\n",
       "      <th>2024-02-05 20:00:00+00:00</th>\n",
       "      <td>0.37</td>\n",
       "      <td>0.39</td>\n",
       "      <td>0.01</td>\n",
       "      <td>0.01</td>\n",
       "      <td>106389.0</td>\n",
       "      <td>8622.00</td>\n",
       "      <td>0.118227</td>\n",
       "    </tr>\n",
       "    <tr>\n",
       "      <th>2024-02-05 21:00:00+00:00</th>\n",
       "      <td>0.01</td>\n",
       "      <td>0.01</td>\n",
       "      <td>0.01</td>\n",
       "      <td>0.01</td>\n",
       "      <td>849.0</td>\n",
       "      <td>53.00</td>\n",
       "      <td>0.010000</td>\n",
       "    </tr>\n",
       "    <tr>\n",
       "      <th rowspan=\"8\" valign=\"top\">SPY240205P00494000</th>\n",
       "      <th>2024-02-05 14:00:00+00:00</th>\n",
       "      <td>1.23</td>\n",
       "      <td>1.67</td>\n",
       "      <td>1.22</td>\n",
       "      <td>1.29</td>\n",
       "      <td>20169.0</td>\n",
       "      <td>2542.00</td>\n",
       "      <td>1.420002</td>\n",
       "    </tr>\n",
       "    <tr>\n",
       "      <th>2024-02-05 15:00:00+00:00</th>\n",
       "      <td>1.28</td>\n",
       "      <td>3.82</td>\n",
       "      <td>1.28</td>\n",
       "      <td>3.26</td>\n",
       "      <td>8781.0</td>\n",
       "      <td>1514.00</td>\n",
       "      <td>2.198234</td>\n",
       "    </tr>\n",
       "    <tr>\n",
       "      <th>2024-02-05 16:00:00+00:00</th>\n",
       "      <td>3.30</td>\n",
       "      <td>3.32</td>\n",
       "      <td>2.05</td>\n",
       "      <td>2.05</td>\n",
       "      <td>700.0</td>\n",
       "      <td>162.00</td>\n",
       "      <td>2.562743</td>\n",
       "    </tr>\n",
       "    <tr>\n",
       "      <th>2024-02-05 17:00:00+00:00</th>\n",
       "      <td>2.08</td>\n",
       "      <td>2.14</td>\n",
       "      <td>1.02</td>\n",
       "      <td>1.22</td>\n",
       "      <td>9457.0</td>\n",
       "      <td>1431.00</td>\n",
       "      <td>1.286421</td>\n",
       "    </tr>\n",
       "    <tr>\n",
       "      <th>2024-02-05 18:00:00+00:00</th>\n",
       "      <td>1.27</td>\n",
       "      <td>1.58</td>\n",
       "      <td>0.89</td>\n",
       "      <td>1.06</td>\n",
       "      <td>10008.0</td>\n",
       "      <td>1311.00</td>\n",
       "      <td>1.154929</td>\n",
       "    </tr>\n",
       "    <tr>\n",
       "      <th>2024-02-05 19:00:00+00:00</th>\n",
       "      <td>1.05</td>\n",
       "      <td>1.29</td>\n",
       "      <td>0.36</td>\n",
       "      <td>0.38</td>\n",
       "      <td>32029.0</td>\n",
       "      <td>2681.00</td>\n",
       "      <td>0.529569</td>\n",
       "    </tr>\n",
       "    <tr>\n",
       "      <th>2024-02-05 20:00:00+00:00</th>\n",
       "      <td>0.39</td>\n",
       "      <td>1.48</td>\n",
       "      <td>0.32</td>\n",
       "      <td>1.40</td>\n",
       "      <td>35965.0</td>\n",
       "      <td>4618.00</td>\n",
       "      <td>0.723571</td>\n",
       "    </tr>\n",
       "    <tr>\n",
       "      <th>2024-02-05 21:00:00+00:00</th>\n",
       "      <td>1.44</td>\n",
       "      <td>1.96</td>\n",
       "      <td>1.36</td>\n",
       "      <td>1.58</td>\n",
       "      <td>919.0</td>\n",
       "      <td>109.00</td>\n",
       "      <td>1.626910</td>\n",
       "    </tr>\n",
       "  </tbody>\n",
       "</table>\n",
       "</div>"
      ],
      "text/plain": [
       "                                              open  high   low  close  \\\n",
       "symbol             timestamp                                            \n",
       "SPY240205C00501000 2024-02-05 14:00:00+00:00  0.01  0.01  0.01   0.01   \n",
       "                   2024-02-05 15:00:00+00:00  0.01  0.01  0.01   0.01   \n",
       "                   2024-02-05 16:00:00+00:00  0.01  0.01  0.01   0.01   \n",
       "                   2024-02-05 17:00:00+00:00  0.01  0.01  0.01   0.01   \n",
       "                   2024-02-05 18:00:00+00:00  0.01  0.01  0.01   0.01   \n",
       "                   2024-02-05 19:00:00+00:00  0.01  0.01  0.01   0.01   \n",
       "                   2024-02-05 20:00:00+00:00  0.01  0.01  0.01   0.01   \n",
       "                   2024-02-05 21:00:00+00:00  0.01  0.01  0.01   0.01   \n",
       "SPY240205P00486000 2024-02-05 14:00:00+00:00  0.02  0.04  0.01   0.01   \n",
       "                   2024-02-05 15:00:00+00:00  0.01  0.07  0.01   0.04   \n",
       "                   2024-02-05 16:00:00+00:00  0.04  0.04  0.02   0.02   \n",
       "                   2024-02-05 17:00:00+00:00  0.02  0.02  0.01   0.01   \n",
       "                   2024-02-05 18:00:00+00:00  0.02  0.02  0.01   0.01   \n",
       "                   2024-02-05 19:00:00+00:00  0.01  0.02  0.01   0.01   \n",
       "                   2024-02-05 20:00:00+00:00  0.01  0.02  0.01   0.01   \n",
       "                   2024-02-05 21:00:00+00:00  0.01  0.01  0.01   0.01   \n",
       "SPY240205C00494000 2024-02-05 14:00:00+00:00  0.92  0.94  0.55   0.72   \n",
       "                   2024-02-05 15:00:00+00:00  0.70  0.71  0.09   0.12   \n",
       "                   2024-02-05 16:00:00+00:00  0.12  0.19  0.10   0.19   \n",
       "                   2024-02-05 17:00:00+00:00  0.18  0.62  0.14   0.27   \n",
       "                   2024-02-05 18:00:00+00:00  0.26  0.38  0.15   0.22   \n",
       "                   2024-02-05 19:00:00+00:00  0.22  0.53  0.13   0.37   \n",
       "                   2024-02-05 20:00:00+00:00  0.37  0.39  0.01   0.01   \n",
       "                   2024-02-05 21:00:00+00:00  0.01  0.01  0.01   0.01   \n",
       "SPY240205P00494000 2024-02-05 14:00:00+00:00  1.23  1.67  1.22   1.29   \n",
       "                   2024-02-05 15:00:00+00:00  1.28  3.82  1.28   3.26   \n",
       "                   2024-02-05 16:00:00+00:00  3.30  3.32  2.05   2.05   \n",
       "                   2024-02-05 17:00:00+00:00  2.08  2.14  1.02   1.22   \n",
       "                   2024-02-05 18:00:00+00:00  1.27  1.58  0.89   1.06   \n",
       "                   2024-02-05 19:00:00+00:00  1.05  1.29  0.36   0.38   \n",
       "                   2024-02-05 20:00:00+00:00  0.39  1.48  0.32   1.40   \n",
       "                   2024-02-05 21:00:00+00:00  1.44  1.96  1.36   1.58   \n",
       "\n",
       "                                                volume  trade_count      vwap  \n",
       "symbol             timestamp                                                   \n",
       "SPY240205C00501000 2024-02-05 14:00:00+00:00       0.0         0.01  0.000000  \n",
       "                   2024-02-05 15:00:00+00:00       0.0         0.01  0.000000  \n",
       "                   2024-02-05 16:00:00+00:00       0.0         0.01  0.000000  \n",
       "                   2024-02-05 17:00:00+00:00       0.0         0.01  0.000000  \n",
       "                   2024-02-05 18:00:00+00:00       0.0         0.01  0.000000  \n",
       "                   2024-02-05 19:00:00+00:00       0.0         0.01  0.000000  \n",
       "                   2024-02-05 20:00:00+00:00       0.0         0.01  0.000000  \n",
       "                   2024-02-05 21:00:00+00:00       0.0         0.01  0.000000  \n",
       "SPY240205P00486000 2024-02-05 14:00:00+00:00    9363.0       274.00  0.025754  \n",
       "                   2024-02-05 15:00:00+00:00   29565.0       796.00  0.042448  \n",
       "                   2024-02-05 16:00:00+00:00    1676.0       194.00  0.026921  \n",
       "                   2024-02-05 17:00:00+00:00     738.0        91.00  0.012236  \n",
       "                   2024-02-05 18:00:00+00:00     260.0        51.00  0.011154  \n",
       "                   2024-02-05 19:00:00+00:00     602.0        59.00  0.010050  \n",
       "                   2024-02-05 20:00:00+00:00     448.0        16.00  0.010022  \n",
       "                   2024-02-05 21:00:00+00:00       0.0         0.01  0.000000  \n",
       "SPY240205C00494000 2024-02-05 14:00:00+00:00   67776.0      8082.00  0.682284  \n",
       "                   2024-02-05 15:00:00+00:00   90930.0     10862.00  0.287652  \n",
       "                   2024-02-05 16:00:00+00:00   26731.0      3483.00  0.152242  \n",
       "                   2024-02-05 17:00:00+00:00   63179.0      7199.00  0.253843  \n",
       "                   2024-02-05 18:00:00+00:00   50095.0      6710.00  0.237722  \n",
       "                   2024-02-05 19:00:00+00:00   98115.0      9826.00  0.342369  \n",
       "                   2024-02-05 20:00:00+00:00  106389.0      8622.00  0.118227  \n",
       "                   2024-02-05 21:00:00+00:00     849.0        53.00  0.010000  \n",
       "SPY240205P00494000 2024-02-05 14:00:00+00:00   20169.0      2542.00  1.420002  \n",
       "                   2024-02-05 15:00:00+00:00    8781.0      1514.00  2.198234  \n",
       "                   2024-02-05 16:00:00+00:00     700.0       162.00  2.562743  \n",
       "                   2024-02-05 17:00:00+00:00    9457.0      1431.00  1.286421  \n",
       "                   2024-02-05 18:00:00+00:00   10008.0      1311.00  1.154929  \n",
       "                   2024-02-05 19:00:00+00:00   32029.0      2681.00  0.529569  \n",
       "                   2024-02-05 20:00:00+00:00   35965.0      4618.00  0.723571  \n",
       "                   2024-02-05 21:00:00+00:00     919.0       109.00  1.626910  "
      ]
     },
     "execution_count": 31,
     "metadata": {},
     "output_type": "execute_result"
    }
   ],
   "source": [
    "# there are missing entries for some symbols and timestamps, we will have to artificially fill with $0.01 prices and volumes of 0\n",
    "\n",
    "full_day_opts_nomissing_df = full_day_opts_df\\\n",
    "    .reindex(pd.MultiIndex.from_product([\n",
    "        tickers, \n",
    "        full_day_opts_df.index.get_level_values(\"timestamp\").unique()\n",
    "    ], names=[\"symbol\", \"timestamp\"]))\\\n",
    "    \n",
    "full_day_opts_nomissing_df[[\"volume\", \"vwap\"]] = full_day_opts_nomissing_df[[\"volume\", \"vwap\"]].fillna(0)\n",
    "full_day_opts_nomissing_df = full_day_opts_nomissing_df.fillna(0.01)\n",
    "full_day_opts_nomissing_df"
   ]
  },
  {
   "cell_type": "code",
   "execution_count": 32,
   "metadata": {},
   "outputs": [
    {
     "data": {
      "application/vnd.plotly.v1+json": {
       "config": {
        "plotlyServerURL": "https://plot.ly"
       },
       "data": [
        {
         "close": [
          0.01,
          0.01,
          0.01,
          0.01,
          0.01,
          0.01,
          0.01,
          0.01
         ],
         "high": [
          0.01,
          0.01,
          0.01,
          0.01,
          0.01,
          0.01,
          0.01,
          0.01
         ],
         "low": [
          0.01,
          0.01,
          0.01,
          0.01,
          0.01,
          0.01,
          0.01,
          0.01
         ],
         "open": [
          0.01,
          0.01,
          0.01,
          0.01,
          0.01,
          0.01,
          0.01,
          0.01
         ],
         "type": "candlestick",
         "x": [
          0,
          1,
          2,
          3,
          4,
          5,
          6,
          7
         ]
        }
       ],
       "layout": {
        "template": {
         "data": {
          "bar": [
           {
            "error_x": {
             "color": "#2a3f5f"
            },
            "error_y": {
             "color": "#2a3f5f"
            },
            "marker": {
             "line": {
              "color": "#E5ECF6",
              "width": 0.5
             },
             "pattern": {
              "fillmode": "overlay",
              "size": 10,
              "solidity": 0.2
             }
            },
            "type": "bar"
           }
          ],
          "barpolar": [
           {
            "marker": {
             "line": {
              "color": "#E5ECF6",
              "width": 0.5
             },
             "pattern": {
              "fillmode": "overlay",
              "size": 10,
              "solidity": 0.2
             }
            },
            "type": "barpolar"
           }
          ],
          "carpet": [
           {
            "aaxis": {
             "endlinecolor": "#2a3f5f",
             "gridcolor": "white",
             "linecolor": "white",
             "minorgridcolor": "white",
             "startlinecolor": "#2a3f5f"
            },
            "baxis": {
             "endlinecolor": "#2a3f5f",
             "gridcolor": "white",
             "linecolor": "white",
             "minorgridcolor": "white",
             "startlinecolor": "#2a3f5f"
            },
            "type": "carpet"
           }
          ],
          "choropleth": [
           {
            "colorbar": {
             "outlinewidth": 0,
             "ticks": ""
            },
            "type": "choropleth"
           }
          ],
          "contour": [
           {
            "colorbar": {
             "outlinewidth": 0,
             "ticks": ""
            },
            "colorscale": [
             [
              0,
              "#0d0887"
             ],
             [
              0.1111111111111111,
              "#46039f"
             ],
             [
              0.2222222222222222,
              "#7201a8"
             ],
             [
              0.3333333333333333,
              "#9c179e"
             ],
             [
              0.4444444444444444,
              "#bd3786"
             ],
             [
              0.5555555555555556,
              "#d8576b"
             ],
             [
              0.6666666666666666,
              "#ed7953"
             ],
             [
              0.7777777777777778,
              "#fb9f3a"
             ],
             [
              0.8888888888888888,
              "#fdca26"
             ],
             [
              1,
              "#f0f921"
             ]
            ],
            "type": "contour"
           }
          ],
          "contourcarpet": [
           {
            "colorbar": {
             "outlinewidth": 0,
             "ticks": ""
            },
            "type": "contourcarpet"
           }
          ],
          "heatmap": [
           {
            "colorbar": {
             "outlinewidth": 0,
             "ticks": ""
            },
            "colorscale": [
             [
              0,
              "#0d0887"
             ],
             [
              0.1111111111111111,
              "#46039f"
             ],
             [
              0.2222222222222222,
              "#7201a8"
             ],
             [
              0.3333333333333333,
              "#9c179e"
             ],
             [
              0.4444444444444444,
              "#bd3786"
             ],
             [
              0.5555555555555556,
              "#d8576b"
             ],
             [
              0.6666666666666666,
              "#ed7953"
             ],
             [
              0.7777777777777778,
              "#fb9f3a"
             ],
             [
              0.8888888888888888,
              "#fdca26"
             ],
             [
              1,
              "#f0f921"
             ]
            ],
            "type": "heatmap"
           }
          ],
          "heatmapgl": [
           {
            "colorbar": {
             "outlinewidth": 0,
             "ticks": ""
            },
            "colorscale": [
             [
              0,
              "#0d0887"
             ],
             [
              0.1111111111111111,
              "#46039f"
             ],
             [
              0.2222222222222222,
              "#7201a8"
             ],
             [
              0.3333333333333333,
              "#9c179e"
             ],
             [
              0.4444444444444444,
              "#bd3786"
             ],
             [
              0.5555555555555556,
              "#d8576b"
             ],
             [
              0.6666666666666666,
              "#ed7953"
             ],
             [
              0.7777777777777778,
              "#fb9f3a"
             ],
             [
              0.8888888888888888,
              "#fdca26"
             ],
             [
              1,
              "#f0f921"
             ]
            ],
            "type": "heatmapgl"
           }
          ],
          "histogram": [
           {
            "marker": {
             "pattern": {
              "fillmode": "overlay",
              "size": 10,
              "solidity": 0.2
             }
            },
            "type": "histogram"
           }
          ],
          "histogram2d": [
           {
            "colorbar": {
             "outlinewidth": 0,
             "ticks": ""
            },
            "colorscale": [
             [
              0,
              "#0d0887"
             ],
             [
              0.1111111111111111,
              "#46039f"
             ],
             [
              0.2222222222222222,
              "#7201a8"
             ],
             [
              0.3333333333333333,
              "#9c179e"
             ],
             [
              0.4444444444444444,
              "#bd3786"
             ],
             [
              0.5555555555555556,
              "#d8576b"
             ],
             [
              0.6666666666666666,
              "#ed7953"
             ],
             [
              0.7777777777777778,
              "#fb9f3a"
             ],
             [
              0.8888888888888888,
              "#fdca26"
             ],
             [
              1,
              "#f0f921"
             ]
            ],
            "type": "histogram2d"
           }
          ],
          "histogram2dcontour": [
           {
            "colorbar": {
             "outlinewidth": 0,
             "ticks": ""
            },
            "colorscale": [
             [
              0,
              "#0d0887"
             ],
             [
              0.1111111111111111,
              "#46039f"
             ],
             [
              0.2222222222222222,
              "#7201a8"
             ],
             [
              0.3333333333333333,
              "#9c179e"
             ],
             [
              0.4444444444444444,
              "#bd3786"
             ],
             [
              0.5555555555555556,
              "#d8576b"
             ],
             [
              0.6666666666666666,
              "#ed7953"
             ],
             [
              0.7777777777777778,
              "#fb9f3a"
             ],
             [
              0.8888888888888888,
              "#fdca26"
             ],
             [
              1,
              "#f0f921"
             ]
            ],
            "type": "histogram2dcontour"
           }
          ],
          "mesh3d": [
           {
            "colorbar": {
             "outlinewidth": 0,
             "ticks": ""
            },
            "type": "mesh3d"
           }
          ],
          "parcoords": [
           {
            "line": {
             "colorbar": {
              "outlinewidth": 0,
              "ticks": ""
             }
            },
            "type": "parcoords"
           }
          ],
          "pie": [
           {
            "automargin": true,
            "type": "pie"
           }
          ],
          "scatter": [
           {
            "fillpattern": {
             "fillmode": "overlay",
             "size": 10,
             "solidity": 0.2
            },
            "type": "scatter"
           }
          ],
          "scatter3d": [
           {
            "line": {
             "colorbar": {
              "outlinewidth": 0,
              "ticks": ""
             }
            },
            "marker": {
             "colorbar": {
              "outlinewidth": 0,
              "ticks": ""
             }
            },
            "type": "scatter3d"
           }
          ],
          "scattercarpet": [
           {
            "marker": {
             "colorbar": {
              "outlinewidth": 0,
              "ticks": ""
             }
            },
            "type": "scattercarpet"
           }
          ],
          "scattergeo": [
           {
            "marker": {
             "colorbar": {
              "outlinewidth": 0,
              "ticks": ""
             }
            },
            "type": "scattergeo"
           }
          ],
          "scattergl": [
           {
            "marker": {
             "colorbar": {
              "outlinewidth": 0,
              "ticks": ""
             }
            },
            "type": "scattergl"
           }
          ],
          "scattermapbox": [
           {
            "marker": {
             "colorbar": {
              "outlinewidth": 0,
              "ticks": ""
             }
            },
            "type": "scattermapbox"
           }
          ],
          "scatterpolar": [
           {
            "marker": {
             "colorbar": {
              "outlinewidth": 0,
              "ticks": ""
             }
            },
            "type": "scatterpolar"
           }
          ],
          "scatterpolargl": [
           {
            "marker": {
             "colorbar": {
              "outlinewidth": 0,
              "ticks": ""
             }
            },
            "type": "scatterpolargl"
           }
          ],
          "scatterternary": [
           {
            "marker": {
             "colorbar": {
              "outlinewidth": 0,
              "ticks": ""
             }
            },
            "type": "scatterternary"
           }
          ],
          "surface": [
           {
            "colorbar": {
             "outlinewidth": 0,
             "ticks": ""
            },
            "colorscale": [
             [
              0,
              "#0d0887"
             ],
             [
              0.1111111111111111,
              "#46039f"
             ],
             [
              0.2222222222222222,
              "#7201a8"
             ],
             [
              0.3333333333333333,
              "#9c179e"
             ],
             [
              0.4444444444444444,
              "#bd3786"
             ],
             [
              0.5555555555555556,
              "#d8576b"
             ],
             [
              0.6666666666666666,
              "#ed7953"
             ],
             [
              0.7777777777777778,
              "#fb9f3a"
             ],
             [
              0.8888888888888888,
              "#fdca26"
             ],
             [
              1,
              "#f0f921"
             ]
            ],
            "type": "surface"
           }
          ],
          "table": [
           {
            "cells": {
             "fill": {
              "color": "#EBF0F8"
             },
             "line": {
              "color": "white"
             }
            },
            "header": {
             "fill": {
              "color": "#C8D4E3"
             },
             "line": {
              "color": "white"
             }
            },
            "type": "table"
           }
          ]
         },
         "layout": {
          "annotationdefaults": {
           "arrowcolor": "#2a3f5f",
           "arrowhead": 0,
           "arrowwidth": 1
          },
          "autotypenumbers": "strict",
          "coloraxis": {
           "colorbar": {
            "outlinewidth": 0,
            "ticks": ""
           }
          },
          "colorscale": {
           "diverging": [
            [
             0,
             "#8e0152"
            ],
            [
             0.1,
             "#c51b7d"
            ],
            [
             0.2,
             "#de77ae"
            ],
            [
             0.3,
             "#f1b6da"
            ],
            [
             0.4,
             "#fde0ef"
            ],
            [
             0.5,
             "#f7f7f7"
            ],
            [
             0.6,
             "#e6f5d0"
            ],
            [
             0.7,
             "#b8e186"
            ],
            [
             0.8,
             "#7fbc41"
            ],
            [
             0.9,
             "#4d9221"
            ],
            [
             1,
             "#276419"
            ]
           ],
           "sequential": [
            [
             0,
             "#0d0887"
            ],
            [
             0.1111111111111111,
             "#46039f"
            ],
            [
             0.2222222222222222,
             "#7201a8"
            ],
            [
             0.3333333333333333,
             "#9c179e"
            ],
            [
             0.4444444444444444,
             "#bd3786"
            ],
            [
             0.5555555555555556,
             "#d8576b"
            ],
            [
             0.6666666666666666,
             "#ed7953"
            ],
            [
             0.7777777777777778,
             "#fb9f3a"
            ],
            [
             0.8888888888888888,
             "#fdca26"
            ],
            [
             1,
             "#f0f921"
            ]
           ],
           "sequentialminus": [
            [
             0,
             "#0d0887"
            ],
            [
             0.1111111111111111,
             "#46039f"
            ],
            [
             0.2222222222222222,
             "#7201a8"
            ],
            [
             0.3333333333333333,
             "#9c179e"
            ],
            [
             0.4444444444444444,
             "#bd3786"
            ],
            [
             0.5555555555555556,
             "#d8576b"
            ],
            [
             0.6666666666666666,
             "#ed7953"
            ],
            [
             0.7777777777777778,
             "#fb9f3a"
            ],
            [
             0.8888888888888888,
             "#fdca26"
            ],
            [
             1,
             "#f0f921"
            ]
           ]
          },
          "colorway": [
           "#636efa",
           "#EF553B",
           "#00cc96",
           "#ab63fa",
           "#FFA15A",
           "#19d3f3",
           "#FF6692",
           "#B6E880",
           "#FF97FF",
           "#FECB52"
          ],
          "font": {
           "color": "#2a3f5f"
          },
          "geo": {
           "bgcolor": "white",
           "lakecolor": "white",
           "landcolor": "#E5ECF6",
           "showlakes": true,
           "showland": true,
           "subunitcolor": "white"
          },
          "hoverlabel": {
           "align": "left"
          },
          "hovermode": "closest",
          "mapbox": {
           "style": "light"
          },
          "paper_bgcolor": "white",
          "plot_bgcolor": "#E5ECF6",
          "polar": {
           "angularaxis": {
            "gridcolor": "white",
            "linecolor": "white",
            "ticks": ""
           },
           "bgcolor": "#E5ECF6",
           "radialaxis": {
            "gridcolor": "white",
            "linecolor": "white",
            "ticks": ""
           }
          },
          "scene": {
           "xaxis": {
            "backgroundcolor": "#E5ECF6",
            "gridcolor": "white",
            "gridwidth": 2,
            "linecolor": "white",
            "showbackground": true,
            "ticks": "",
            "zerolinecolor": "white"
           },
           "yaxis": {
            "backgroundcolor": "#E5ECF6",
            "gridcolor": "white",
            "gridwidth": 2,
            "linecolor": "white",
            "showbackground": true,
            "ticks": "",
            "zerolinecolor": "white"
           },
           "zaxis": {
            "backgroundcolor": "#E5ECF6",
            "gridcolor": "white",
            "gridwidth": 2,
            "linecolor": "white",
            "showbackground": true,
            "ticks": "",
            "zerolinecolor": "white"
           }
          },
          "shapedefaults": {
           "line": {
            "color": "#2a3f5f"
           }
          },
          "ternary": {
           "aaxis": {
            "gridcolor": "white",
            "linecolor": "white",
            "ticks": ""
           },
           "baxis": {
            "gridcolor": "white",
            "linecolor": "white",
            "ticks": ""
           },
           "bgcolor": "#E5ECF6",
           "caxis": {
            "gridcolor": "white",
            "linecolor": "white",
            "ticks": ""
           }
          },
          "title": {
           "x": 0.05
          },
          "xaxis": {
           "automargin": true,
           "gridcolor": "white",
           "linecolor": "white",
           "ticks": "",
           "title": {
            "standoff": 15
           },
           "zerolinecolor": "white",
           "zerolinewidth": 2
          },
          "yaxis": {
           "automargin": true,
           "gridcolor": "white",
           "linecolor": "white",
           "ticks": "",
           "title": {
            "standoff": 15
           },
           "zerolinecolor": "white",
           "zerolinewidth": 2
          }
         }
        },
        "title": {
         "text": "SPY240205C00501000"
        }
       }
      }
     },
     "metadata": {},
     "output_type": "display_data"
    },
    {
     "data": {
      "application/vnd.plotly.v1+json": {
       "config": {
        "plotlyServerURL": "https://plot.ly"
       },
       "data": [
        {
         "close": [
          0.01,
          0.04,
          0.02,
          0.01,
          0.01,
          0.01,
          0.01,
          0.01
         ],
         "high": [
          0.04,
          0.07,
          0.04,
          0.02,
          0.02,
          0.02,
          0.02,
          0.01
         ],
         "low": [
          0.01,
          0.01,
          0.02,
          0.01,
          0.01,
          0.01,
          0.01,
          0.01
         ],
         "open": [
          0.02,
          0.01,
          0.04,
          0.02,
          0.02,
          0.01,
          0.01,
          0.01
         ],
         "type": "candlestick",
         "x": [
          0,
          1,
          2,
          3,
          4,
          5,
          6,
          7
         ]
        }
       ],
       "layout": {
        "template": {
         "data": {
          "bar": [
           {
            "error_x": {
             "color": "#2a3f5f"
            },
            "error_y": {
             "color": "#2a3f5f"
            },
            "marker": {
             "line": {
              "color": "#E5ECF6",
              "width": 0.5
             },
             "pattern": {
              "fillmode": "overlay",
              "size": 10,
              "solidity": 0.2
             }
            },
            "type": "bar"
           }
          ],
          "barpolar": [
           {
            "marker": {
             "line": {
              "color": "#E5ECF6",
              "width": 0.5
             },
             "pattern": {
              "fillmode": "overlay",
              "size": 10,
              "solidity": 0.2
             }
            },
            "type": "barpolar"
           }
          ],
          "carpet": [
           {
            "aaxis": {
             "endlinecolor": "#2a3f5f",
             "gridcolor": "white",
             "linecolor": "white",
             "minorgridcolor": "white",
             "startlinecolor": "#2a3f5f"
            },
            "baxis": {
             "endlinecolor": "#2a3f5f",
             "gridcolor": "white",
             "linecolor": "white",
             "minorgridcolor": "white",
             "startlinecolor": "#2a3f5f"
            },
            "type": "carpet"
           }
          ],
          "choropleth": [
           {
            "colorbar": {
             "outlinewidth": 0,
             "ticks": ""
            },
            "type": "choropleth"
           }
          ],
          "contour": [
           {
            "colorbar": {
             "outlinewidth": 0,
             "ticks": ""
            },
            "colorscale": [
             [
              0,
              "#0d0887"
             ],
             [
              0.1111111111111111,
              "#46039f"
             ],
             [
              0.2222222222222222,
              "#7201a8"
             ],
             [
              0.3333333333333333,
              "#9c179e"
             ],
             [
              0.4444444444444444,
              "#bd3786"
             ],
             [
              0.5555555555555556,
              "#d8576b"
             ],
             [
              0.6666666666666666,
              "#ed7953"
             ],
             [
              0.7777777777777778,
              "#fb9f3a"
             ],
             [
              0.8888888888888888,
              "#fdca26"
             ],
             [
              1,
              "#f0f921"
             ]
            ],
            "type": "contour"
           }
          ],
          "contourcarpet": [
           {
            "colorbar": {
             "outlinewidth": 0,
             "ticks": ""
            },
            "type": "contourcarpet"
           }
          ],
          "heatmap": [
           {
            "colorbar": {
             "outlinewidth": 0,
             "ticks": ""
            },
            "colorscale": [
             [
              0,
              "#0d0887"
             ],
             [
              0.1111111111111111,
              "#46039f"
             ],
             [
              0.2222222222222222,
              "#7201a8"
             ],
             [
              0.3333333333333333,
              "#9c179e"
             ],
             [
              0.4444444444444444,
              "#bd3786"
             ],
             [
              0.5555555555555556,
              "#d8576b"
             ],
             [
              0.6666666666666666,
              "#ed7953"
             ],
             [
              0.7777777777777778,
              "#fb9f3a"
             ],
             [
              0.8888888888888888,
              "#fdca26"
             ],
             [
              1,
              "#f0f921"
             ]
            ],
            "type": "heatmap"
           }
          ],
          "heatmapgl": [
           {
            "colorbar": {
             "outlinewidth": 0,
             "ticks": ""
            },
            "colorscale": [
             [
              0,
              "#0d0887"
             ],
             [
              0.1111111111111111,
              "#46039f"
             ],
             [
              0.2222222222222222,
              "#7201a8"
             ],
             [
              0.3333333333333333,
              "#9c179e"
             ],
             [
              0.4444444444444444,
              "#bd3786"
             ],
             [
              0.5555555555555556,
              "#d8576b"
             ],
             [
              0.6666666666666666,
              "#ed7953"
             ],
             [
              0.7777777777777778,
              "#fb9f3a"
             ],
             [
              0.8888888888888888,
              "#fdca26"
             ],
             [
              1,
              "#f0f921"
             ]
            ],
            "type": "heatmapgl"
           }
          ],
          "histogram": [
           {
            "marker": {
             "pattern": {
              "fillmode": "overlay",
              "size": 10,
              "solidity": 0.2
             }
            },
            "type": "histogram"
           }
          ],
          "histogram2d": [
           {
            "colorbar": {
             "outlinewidth": 0,
             "ticks": ""
            },
            "colorscale": [
             [
              0,
              "#0d0887"
             ],
             [
              0.1111111111111111,
              "#46039f"
             ],
             [
              0.2222222222222222,
              "#7201a8"
             ],
             [
              0.3333333333333333,
              "#9c179e"
             ],
             [
              0.4444444444444444,
              "#bd3786"
             ],
             [
              0.5555555555555556,
              "#d8576b"
             ],
             [
              0.6666666666666666,
              "#ed7953"
             ],
             [
              0.7777777777777778,
              "#fb9f3a"
             ],
             [
              0.8888888888888888,
              "#fdca26"
             ],
             [
              1,
              "#f0f921"
             ]
            ],
            "type": "histogram2d"
           }
          ],
          "histogram2dcontour": [
           {
            "colorbar": {
             "outlinewidth": 0,
             "ticks": ""
            },
            "colorscale": [
             [
              0,
              "#0d0887"
             ],
             [
              0.1111111111111111,
              "#46039f"
             ],
             [
              0.2222222222222222,
              "#7201a8"
             ],
             [
              0.3333333333333333,
              "#9c179e"
             ],
             [
              0.4444444444444444,
              "#bd3786"
             ],
             [
              0.5555555555555556,
              "#d8576b"
             ],
             [
              0.6666666666666666,
              "#ed7953"
             ],
             [
              0.7777777777777778,
              "#fb9f3a"
             ],
             [
              0.8888888888888888,
              "#fdca26"
             ],
             [
              1,
              "#f0f921"
             ]
            ],
            "type": "histogram2dcontour"
           }
          ],
          "mesh3d": [
           {
            "colorbar": {
             "outlinewidth": 0,
             "ticks": ""
            },
            "type": "mesh3d"
           }
          ],
          "parcoords": [
           {
            "line": {
             "colorbar": {
              "outlinewidth": 0,
              "ticks": ""
             }
            },
            "type": "parcoords"
           }
          ],
          "pie": [
           {
            "automargin": true,
            "type": "pie"
           }
          ],
          "scatter": [
           {
            "fillpattern": {
             "fillmode": "overlay",
             "size": 10,
             "solidity": 0.2
            },
            "type": "scatter"
           }
          ],
          "scatter3d": [
           {
            "line": {
             "colorbar": {
              "outlinewidth": 0,
              "ticks": ""
             }
            },
            "marker": {
             "colorbar": {
              "outlinewidth": 0,
              "ticks": ""
             }
            },
            "type": "scatter3d"
           }
          ],
          "scattercarpet": [
           {
            "marker": {
             "colorbar": {
              "outlinewidth": 0,
              "ticks": ""
             }
            },
            "type": "scattercarpet"
           }
          ],
          "scattergeo": [
           {
            "marker": {
             "colorbar": {
              "outlinewidth": 0,
              "ticks": ""
             }
            },
            "type": "scattergeo"
           }
          ],
          "scattergl": [
           {
            "marker": {
             "colorbar": {
              "outlinewidth": 0,
              "ticks": ""
             }
            },
            "type": "scattergl"
           }
          ],
          "scattermapbox": [
           {
            "marker": {
             "colorbar": {
              "outlinewidth": 0,
              "ticks": ""
             }
            },
            "type": "scattermapbox"
           }
          ],
          "scatterpolar": [
           {
            "marker": {
             "colorbar": {
              "outlinewidth": 0,
              "ticks": ""
             }
            },
            "type": "scatterpolar"
           }
          ],
          "scatterpolargl": [
           {
            "marker": {
             "colorbar": {
              "outlinewidth": 0,
              "ticks": ""
             }
            },
            "type": "scatterpolargl"
           }
          ],
          "scatterternary": [
           {
            "marker": {
             "colorbar": {
              "outlinewidth": 0,
              "ticks": ""
             }
            },
            "type": "scatterternary"
           }
          ],
          "surface": [
           {
            "colorbar": {
             "outlinewidth": 0,
             "ticks": ""
            },
            "colorscale": [
             [
              0,
              "#0d0887"
             ],
             [
              0.1111111111111111,
              "#46039f"
             ],
             [
              0.2222222222222222,
              "#7201a8"
             ],
             [
              0.3333333333333333,
              "#9c179e"
             ],
             [
              0.4444444444444444,
              "#bd3786"
             ],
             [
              0.5555555555555556,
              "#d8576b"
             ],
             [
              0.6666666666666666,
              "#ed7953"
             ],
             [
              0.7777777777777778,
              "#fb9f3a"
             ],
             [
              0.8888888888888888,
              "#fdca26"
             ],
             [
              1,
              "#f0f921"
             ]
            ],
            "type": "surface"
           }
          ],
          "table": [
           {
            "cells": {
             "fill": {
              "color": "#EBF0F8"
             },
             "line": {
              "color": "white"
             }
            },
            "header": {
             "fill": {
              "color": "#C8D4E3"
             },
             "line": {
              "color": "white"
             }
            },
            "type": "table"
           }
          ]
         },
         "layout": {
          "annotationdefaults": {
           "arrowcolor": "#2a3f5f",
           "arrowhead": 0,
           "arrowwidth": 1
          },
          "autotypenumbers": "strict",
          "coloraxis": {
           "colorbar": {
            "outlinewidth": 0,
            "ticks": ""
           }
          },
          "colorscale": {
           "diverging": [
            [
             0,
             "#8e0152"
            ],
            [
             0.1,
             "#c51b7d"
            ],
            [
             0.2,
             "#de77ae"
            ],
            [
             0.3,
             "#f1b6da"
            ],
            [
             0.4,
             "#fde0ef"
            ],
            [
             0.5,
             "#f7f7f7"
            ],
            [
             0.6,
             "#e6f5d0"
            ],
            [
             0.7,
             "#b8e186"
            ],
            [
             0.8,
             "#7fbc41"
            ],
            [
             0.9,
             "#4d9221"
            ],
            [
             1,
             "#276419"
            ]
           ],
           "sequential": [
            [
             0,
             "#0d0887"
            ],
            [
             0.1111111111111111,
             "#46039f"
            ],
            [
             0.2222222222222222,
             "#7201a8"
            ],
            [
             0.3333333333333333,
             "#9c179e"
            ],
            [
             0.4444444444444444,
             "#bd3786"
            ],
            [
             0.5555555555555556,
             "#d8576b"
            ],
            [
             0.6666666666666666,
             "#ed7953"
            ],
            [
             0.7777777777777778,
             "#fb9f3a"
            ],
            [
             0.8888888888888888,
             "#fdca26"
            ],
            [
             1,
             "#f0f921"
            ]
           ],
           "sequentialminus": [
            [
             0,
             "#0d0887"
            ],
            [
             0.1111111111111111,
             "#46039f"
            ],
            [
             0.2222222222222222,
             "#7201a8"
            ],
            [
             0.3333333333333333,
             "#9c179e"
            ],
            [
             0.4444444444444444,
             "#bd3786"
            ],
            [
             0.5555555555555556,
             "#d8576b"
            ],
            [
             0.6666666666666666,
             "#ed7953"
            ],
            [
             0.7777777777777778,
             "#fb9f3a"
            ],
            [
             0.8888888888888888,
             "#fdca26"
            ],
            [
             1,
             "#f0f921"
            ]
           ]
          },
          "colorway": [
           "#636efa",
           "#EF553B",
           "#00cc96",
           "#ab63fa",
           "#FFA15A",
           "#19d3f3",
           "#FF6692",
           "#B6E880",
           "#FF97FF",
           "#FECB52"
          ],
          "font": {
           "color": "#2a3f5f"
          },
          "geo": {
           "bgcolor": "white",
           "lakecolor": "white",
           "landcolor": "#E5ECF6",
           "showlakes": true,
           "showland": true,
           "subunitcolor": "white"
          },
          "hoverlabel": {
           "align": "left"
          },
          "hovermode": "closest",
          "mapbox": {
           "style": "light"
          },
          "paper_bgcolor": "white",
          "plot_bgcolor": "#E5ECF6",
          "polar": {
           "angularaxis": {
            "gridcolor": "white",
            "linecolor": "white",
            "ticks": ""
           },
           "bgcolor": "#E5ECF6",
           "radialaxis": {
            "gridcolor": "white",
            "linecolor": "white",
            "ticks": ""
           }
          },
          "scene": {
           "xaxis": {
            "backgroundcolor": "#E5ECF6",
            "gridcolor": "white",
            "gridwidth": 2,
            "linecolor": "white",
            "showbackground": true,
            "ticks": "",
            "zerolinecolor": "white"
           },
           "yaxis": {
            "backgroundcolor": "#E5ECF6",
            "gridcolor": "white",
            "gridwidth": 2,
            "linecolor": "white",
            "showbackground": true,
            "ticks": "",
            "zerolinecolor": "white"
           },
           "zaxis": {
            "backgroundcolor": "#E5ECF6",
            "gridcolor": "white",
            "gridwidth": 2,
            "linecolor": "white",
            "showbackground": true,
            "ticks": "",
            "zerolinecolor": "white"
           }
          },
          "shapedefaults": {
           "line": {
            "color": "#2a3f5f"
           }
          },
          "ternary": {
           "aaxis": {
            "gridcolor": "white",
            "linecolor": "white",
            "ticks": ""
           },
           "baxis": {
            "gridcolor": "white",
            "linecolor": "white",
            "ticks": ""
           },
           "bgcolor": "#E5ECF6",
           "caxis": {
            "gridcolor": "white",
            "linecolor": "white",
            "ticks": ""
           }
          },
          "title": {
           "x": 0.05
          },
          "xaxis": {
           "automargin": true,
           "gridcolor": "white",
           "linecolor": "white",
           "ticks": "",
           "title": {
            "standoff": 15
           },
           "zerolinecolor": "white",
           "zerolinewidth": 2
          },
          "yaxis": {
           "automargin": true,
           "gridcolor": "white",
           "linecolor": "white",
           "ticks": "",
           "title": {
            "standoff": 15
           },
           "zerolinecolor": "white",
           "zerolinewidth": 2
          }
         }
        },
        "title": {
         "text": "SPY240205P00486000"
        }
       }
      }
     },
     "metadata": {},
     "output_type": "display_data"
    },
    {
     "data": {
      "application/vnd.plotly.v1+json": {
       "config": {
        "plotlyServerURL": "https://plot.ly"
       },
       "data": [
        {
         "close": [
          0.72,
          0.12,
          0.19,
          0.27,
          0.22,
          0.37,
          0.01,
          0.01
         ],
         "high": [
          0.94,
          0.71,
          0.19,
          0.62,
          0.38,
          0.53,
          0.39,
          0.01
         ],
         "low": [
          0.55,
          0.09,
          0.1,
          0.14,
          0.15,
          0.13,
          0.01,
          0.01
         ],
         "open": [
          0.92,
          0.7,
          0.12,
          0.18,
          0.26,
          0.22,
          0.37,
          0.01
         ],
         "type": "candlestick",
         "x": [
          0,
          1,
          2,
          3,
          4,
          5,
          6,
          7
         ]
        }
       ],
       "layout": {
        "template": {
         "data": {
          "bar": [
           {
            "error_x": {
             "color": "#2a3f5f"
            },
            "error_y": {
             "color": "#2a3f5f"
            },
            "marker": {
             "line": {
              "color": "#E5ECF6",
              "width": 0.5
             },
             "pattern": {
              "fillmode": "overlay",
              "size": 10,
              "solidity": 0.2
             }
            },
            "type": "bar"
           }
          ],
          "barpolar": [
           {
            "marker": {
             "line": {
              "color": "#E5ECF6",
              "width": 0.5
             },
             "pattern": {
              "fillmode": "overlay",
              "size": 10,
              "solidity": 0.2
             }
            },
            "type": "barpolar"
           }
          ],
          "carpet": [
           {
            "aaxis": {
             "endlinecolor": "#2a3f5f",
             "gridcolor": "white",
             "linecolor": "white",
             "minorgridcolor": "white",
             "startlinecolor": "#2a3f5f"
            },
            "baxis": {
             "endlinecolor": "#2a3f5f",
             "gridcolor": "white",
             "linecolor": "white",
             "minorgridcolor": "white",
             "startlinecolor": "#2a3f5f"
            },
            "type": "carpet"
           }
          ],
          "choropleth": [
           {
            "colorbar": {
             "outlinewidth": 0,
             "ticks": ""
            },
            "type": "choropleth"
           }
          ],
          "contour": [
           {
            "colorbar": {
             "outlinewidth": 0,
             "ticks": ""
            },
            "colorscale": [
             [
              0,
              "#0d0887"
             ],
             [
              0.1111111111111111,
              "#46039f"
             ],
             [
              0.2222222222222222,
              "#7201a8"
             ],
             [
              0.3333333333333333,
              "#9c179e"
             ],
             [
              0.4444444444444444,
              "#bd3786"
             ],
             [
              0.5555555555555556,
              "#d8576b"
             ],
             [
              0.6666666666666666,
              "#ed7953"
             ],
             [
              0.7777777777777778,
              "#fb9f3a"
             ],
             [
              0.8888888888888888,
              "#fdca26"
             ],
             [
              1,
              "#f0f921"
             ]
            ],
            "type": "contour"
           }
          ],
          "contourcarpet": [
           {
            "colorbar": {
             "outlinewidth": 0,
             "ticks": ""
            },
            "type": "contourcarpet"
           }
          ],
          "heatmap": [
           {
            "colorbar": {
             "outlinewidth": 0,
             "ticks": ""
            },
            "colorscale": [
             [
              0,
              "#0d0887"
             ],
             [
              0.1111111111111111,
              "#46039f"
             ],
             [
              0.2222222222222222,
              "#7201a8"
             ],
             [
              0.3333333333333333,
              "#9c179e"
             ],
             [
              0.4444444444444444,
              "#bd3786"
             ],
             [
              0.5555555555555556,
              "#d8576b"
             ],
             [
              0.6666666666666666,
              "#ed7953"
             ],
             [
              0.7777777777777778,
              "#fb9f3a"
             ],
             [
              0.8888888888888888,
              "#fdca26"
             ],
             [
              1,
              "#f0f921"
             ]
            ],
            "type": "heatmap"
           }
          ],
          "heatmapgl": [
           {
            "colorbar": {
             "outlinewidth": 0,
             "ticks": ""
            },
            "colorscale": [
             [
              0,
              "#0d0887"
             ],
             [
              0.1111111111111111,
              "#46039f"
             ],
             [
              0.2222222222222222,
              "#7201a8"
             ],
             [
              0.3333333333333333,
              "#9c179e"
             ],
             [
              0.4444444444444444,
              "#bd3786"
             ],
             [
              0.5555555555555556,
              "#d8576b"
             ],
             [
              0.6666666666666666,
              "#ed7953"
             ],
             [
              0.7777777777777778,
              "#fb9f3a"
             ],
             [
              0.8888888888888888,
              "#fdca26"
             ],
             [
              1,
              "#f0f921"
             ]
            ],
            "type": "heatmapgl"
           }
          ],
          "histogram": [
           {
            "marker": {
             "pattern": {
              "fillmode": "overlay",
              "size": 10,
              "solidity": 0.2
             }
            },
            "type": "histogram"
           }
          ],
          "histogram2d": [
           {
            "colorbar": {
             "outlinewidth": 0,
             "ticks": ""
            },
            "colorscale": [
             [
              0,
              "#0d0887"
             ],
             [
              0.1111111111111111,
              "#46039f"
             ],
             [
              0.2222222222222222,
              "#7201a8"
             ],
             [
              0.3333333333333333,
              "#9c179e"
             ],
             [
              0.4444444444444444,
              "#bd3786"
             ],
             [
              0.5555555555555556,
              "#d8576b"
             ],
             [
              0.6666666666666666,
              "#ed7953"
             ],
             [
              0.7777777777777778,
              "#fb9f3a"
             ],
             [
              0.8888888888888888,
              "#fdca26"
             ],
             [
              1,
              "#f0f921"
             ]
            ],
            "type": "histogram2d"
           }
          ],
          "histogram2dcontour": [
           {
            "colorbar": {
             "outlinewidth": 0,
             "ticks": ""
            },
            "colorscale": [
             [
              0,
              "#0d0887"
             ],
             [
              0.1111111111111111,
              "#46039f"
             ],
             [
              0.2222222222222222,
              "#7201a8"
             ],
             [
              0.3333333333333333,
              "#9c179e"
             ],
             [
              0.4444444444444444,
              "#bd3786"
             ],
             [
              0.5555555555555556,
              "#d8576b"
             ],
             [
              0.6666666666666666,
              "#ed7953"
             ],
             [
              0.7777777777777778,
              "#fb9f3a"
             ],
             [
              0.8888888888888888,
              "#fdca26"
             ],
             [
              1,
              "#f0f921"
             ]
            ],
            "type": "histogram2dcontour"
           }
          ],
          "mesh3d": [
           {
            "colorbar": {
             "outlinewidth": 0,
             "ticks": ""
            },
            "type": "mesh3d"
           }
          ],
          "parcoords": [
           {
            "line": {
             "colorbar": {
              "outlinewidth": 0,
              "ticks": ""
             }
            },
            "type": "parcoords"
           }
          ],
          "pie": [
           {
            "automargin": true,
            "type": "pie"
           }
          ],
          "scatter": [
           {
            "fillpattern": {
             "fillmode": "overlay",
             "size": 10,
             "solidity": 0.2
            },
            "type": "scatter"
           }
          ],
          "scatter3d": [
           {
            "line": {
             "colorbar": {
              "outlinewidth": 0,
              "ticks": ""
             }
            },
            "marker": {
             "colorbar": {
              "outlinewidth": 0,
              "ticks": ""
             }
            },
            "type": "scatter3d"
           }
          ],
          "scattercarpet": [
           {
            "marker": {
             "colorbar": {
              "outlinewidth": 0,
              "ticks": ""
             }
            },
            "type": "scattercarpet"
           }
          ],
          "scattergeo": [
           {
            "marker": {
             "colorbar": {
              "outlinewidth": 0,
              "ticks": ""
             }
            },
            "type": "scattergeo"
           }
          ],
          "scattergl": [
           {
            "marker": {
             "colorbar": {
              "outlinewidth": 0,
              "ticks": ""
             }
            },
            "type": "scattergl"
           }
          ],
          "scattermapbox": [
           {
            "marker": {
             "colorbar": {
              "outlinewidth": 0,
              "ticks": ""
             }
            },
            "type": "scattermapbox"
           }
          ],
          "scatterpolar": [
           {
            "marker": {
             "colorbar": {
              "outlinewidth": 0,
              "ticks": ""
             }
            },
            "type": "scatterpolar"
           }
          ],
          "scatterpolargl": [
           {
            "marker": {
             "colorbar": {
              "outlinewidth": 0,
              "ticks": ""
             }
            },
            "type": "scatterpolargl"
           }
          ],
          "scatterternary": [
           {
            "marker": {
             "colorbar": {
              "outlinewidth": 0,
              "ticks": ""
             }
            },
            "type": "scatterternary"
           }
          ],
          "surface": [
           {
            "colorbar": {
             "outlinewidth": 0,
             "ticks": ""
            },
            "colorscale": [
             [
              0,
              "#0d0887"
             ],
             [
              0.1111111111111111,
              "#46039f"
             ],
             [
              0.2222222222222222,
              "#7201a8"
             ],
             [
              0.3333333333333333,
              "#9c179e"
             ],
             [
              0.4444444444444444,
              "#bd3786"
             ],
             [
              0.5555555555555556,
              "#d8576b"
             ],
             [
              0.6666666666666666,
              "#ed7953"
             ],
             [
              0.7777777777777778,
              "#fb9f3a"
             ],
             [
              0.8888888888888888,
              "#fdca26"
             ],
             [
              1,
              "#f0f921"
             ]
            ],
            "type": "surface"
           }
          ],
          "table": [
           {
            "cells": {
             "fill": {
              "color": "#EBF0F8"
             },
             "line": {
              "color": "white"
             }
            },
            "header": {
             "fill": {
              "color": "#C8D4E3"
             },
             "line": {
              "color": "white"
             }
            },
            "type": "table"
           }
          ]
         },
         "layout": {
          "annotationdefaults": {
           "arrowcolor": "#2a3f5f",
           "arrowhead": 0,
           "arrowwidth": 1
          },
          "autotypenumbers": "strict",
          "coloraxis": {
           "colorbar": {
            "outlinewidth": 0,
            "ticks": ""
           }
          },
          "colorscale": {
           "diverging": [
            [
             0,
             "#8e0152"
            ],
            [
             0.1,
             "#c51b7d"
            ],
            [
             0.2,
             "#de77ae"
            ],
            [
             0.3,
             "#f1b6da"
            ],
            [
             0.4,
             "#fde0ef"
            ],
            [
             0.5,
             "#f7f7f7"
            ],
            [
             0.6,
             "#e6f5d0"
            ],
            [
             0.7,
             "#b8e186"
            ],
            [
             0.8,
             "#7fbc41"
            ],
            [
             0.9,
             "#4d9221"
            ],
            [
             1,
             "#276419"
            ]
           ],
           "sequential": [
            [
             0,
             "#0d0887"
            ],
            [
             0.1111111111111111,
             "#46039f"
            ],
            [
             0.2222222222222222,
             "#7201a8"
            ],
            [
             0.3333333333333333,
             "#9c179e"
            ],
            [
             0.4444444444444444,
             "#bd3786"
            ],
            [
             0.5555555555555556,
             "#d8576b"
            ],
            [
             0.6666666666666666,
             "#ed7953"
            ],
            [
             0.7777777777777778,
             "#fb9f3a"
            ],
            [
             0.8888888888888888,
             "#fdca26"
            ],
            [
             1,
             "#f0f921"
            ]
           ],
           "sequentialminus": [
            [
             0,
             "#0d0887"
            ],
            [
             0.1111111111111111,
             "#46039f"
            ],
            [
             0.2222222222222222,
             "#7201a8"
            ],
            [
             0.3333333333333333,
             "#9c179e"
            ],
            [
             0.4444444444444444,
             "#bd3786"
            ],
            [
             0.5555555555555556,
             "#d8576b"
            ],
            [
             0.6666666666666666,
             "#ed7953"
            ],
            [
             0.7777777777777778,
             "#fb9f3a"
            ],
            [
             0.8888888888888888,
             "#fdca26"
            ],
            [
             1,
             "#f0f921"
            ]
           ]
          },
          "colorway": [
           "#636efa",
           "#EF553B",
           "#00cc96",
           "#ab63fa",
           "#FFA15A",
           "#19d3f3",
           "#FF6692",
           "#B6E880",
           "#FF97FF",
           "#FECB52"
          ],
          "font": {
           "color": "#2a3f5f"
          },
          "geo": {
           "bgcolor": "white",
           "lakecolor": "white",
           "landcolor": "#E5ECF6",
           "showlakes": true,
           "showland": true,
           "subunitcolor": "white"
          },
          "hoverlabel": {
           "align": "left"
          },
          "hovermode": "closest",
          "mapbox": {
           "style": "light"
          },
          "paper_bgcolor": "white",
          "plot_bgcolor": "#E5ECF6",
          "polar": {
           "angularaxis": {
            "gridcolor": "white",
            "linecolor": "white",
            "ticks": ""
           },
           "bgcolor": "#E5ECF6",
           "radialaxis": {
            "gridcolor": "white",
            "linecolor": "white",
            "ticks": ""
           }
          },
          "scene": {
           "xaxis": {
            "backgroundcolor": "#E5ECF6",
            "gridcolor": "white",
            "gridwidth": 2,
            "linecolor": "white",
            "showbackground": true,
            "ticks": "",
            "zerolinecolor": "white"
           },
           "yaxis": {
            "backgroundcolor": "#E5ECF6",
            "gridcolor": "white",
            "gridwidth": 2,
            "linecolor": "white",
            "showbackground": true,
            "ticks": "",
            "zerolinecolor": "white"
           },
           "zaxis": {
            "backgroundcolor": "#E5ECF6",
            "gridcolor": "white",
            "gridwidth": 2,
            "linecolor": "white",
            "showbackground": true,
            "ticks": "",
            "zerolinecolor": "white"
           }
          },
          "shapedefaults": {
           "line": {
            "color": "#2a3f5f"
           }
          },
          "ternary": {
           "aaxis": {
            "gridcolor": "white",
            "linecolor": "white",
            "ticks": ""
           },
           "baxis": {
            "gridcolor": "white",
            "linecolor": "white",
            "ticks": ""
           },
           "bgcolor": "#E5ECF6",
           "caxis": {
            "gridcolor": "white",
            "linecolor": "white",
            "ticks": ""
           }
          },
          "title": {
           "x": 0.05
          },
          "xaxis": {
           "automargin": true,
           "gridcolor": "white",
           "linecolor": "white",
           "ticks": "",
           "title": {
            "standoff": 15
           },
           "zerolinecolor": "white",
           "zerolinewidth": 2
          },
          "yaxis": {
           "automargin": true,
           "gridcolor": "white",
           "linecolor": "white",
           "ticks": "",
           "title": {
            "standoff": 15
           },
           "zerolinecolor": "white",
           "zerolinewidth": 2
          }
         }
        },
        "title": {
         "text": "SPY240205C00494000"
        }
       }
      }
     },
     "metadata": {},
     "output_type": "display_data"
    },
    {
     "data": {
      "application/vnd.plotly.v1+json": {
       "config": {
        "plotlyServerURL": "https://plot.ly"
       },
       "data": [
        {
         "close": [
          1.29,
          3.26,
          2.05,
          1.22,
          1.06,
          0.38,
          1.4,
          1.58
         ],
         "high": [
          1.67,
          3.82,
          3.32,
          2.14,
          1.58,
          1.29,
          1.48,
          1.96
         ],
         "low": [
          1.22,
          1.28,
          2.05,
          1.02,
          0.89,
          0.36,
          0.32,
          1.36
         ],
         "open": [
          1.23,
          1.28,
          3.3,
          2.08,
          1.27,
          1.05,
          0.39,
          1.44
         ],
         "type": "candlestick",
         "x": [
          0,
          1,
          2,
          3,
          4,
          5,
          6,
          7
         ]
        }
       ],
       "layout": {
        "template": {
         "data": {
          "bar": [
           {
            "error_x": {
             "color": "#2a3f5f"
            },
            "error_y": {
             "color": "#2a3f5f"
            },
            "marker": {
             "line": {
              "color": "#E5ECF6",
              "width": 0.5
             },
             "pattern": {
              "fillmode": "overlay",
              "size": 10,
              "solidity": 0.2
             }
            },
            "type": "bar"
           }
          ],
          "barpolar": [
           {
            "marker": {
             "line": {
              "color": "#E5ECF6",
              "width": 0.5
             },
             "pattern": {
              "fillmode": "overlay",
              "size": 10,
              "solidity": 0.2
             }
            },
            "type": "barpolar"
           }
          ],
          "carpet": [
           {
            "aaxis": {
             "endlinecolor": "#2a3f5f",
             "gridcolor": "white",
             "linecolor": "white",
             "minorgridcolor": "white",
             "startlinecolor": "#2a3f5f"
            },
            "baxis": {
             "endlinecolor": "#2a3f5f",
             "gridcolor": "white",
             "linecolor": "white",
             "minorgridcolor": "white",
             "startlinecolor": "#2a3f5f"
            },
            "type": "carpet"
           }
          ],
          "choropleth": [
           {
            "colorbar": {
             "outlinewidth": 0,
             "ticks": ""
            },
            "type": "choropleth"
           }
          ],
          "contour": [
           {
            "colorbar": {
             "outlinewidth": 0,
             "ticks": ""
            },
            "colorscale": [
             [
              0,
              "#0d0887"
             ],
             [
              0.1111111111111111,
              "#46039f"
             ],
             [
              0.2222222222222222,
              "#7201a8"
             ],
             [
              0.3333333333333333,
              "#9c179e"
             ],
             [
              0.4444444444444444,
              "#bd3786"
             ],
             [
              0.5555555555555556,
              "#d8576b"
             ],
             [
              0.6666666666666666,
              "#ed7953"
             ],
             [
              0.7777777777777778,
              "#fb9f3a"
             ],
             [
              0.8888888888888888,
              "#fdca26"
             ],
             [
              1,
              "#f0f921"
             ]
            ],
            "type": "contour"
           }
          ],
          "contourcarpet": [
           {
            "colorbar": {
             "outlinewidth": 0,
             "ticks": ""
            },
            "type": "contourcarpet"
           }
          ],
          "heatmap": [
           {
            "colorbar": {
             "outlinewidth": 0,
             "ticks": ""
            },
            "colorscale": [
             [
              0,
              "#0d0887"
             ],
             [
              0.1111111111111111,
              "#46039f"
             ],
             [
              0.2222222222222222,
              "#7201a8"
             ],
             [
              0.3333333333333333,
              "#9c179e"
             ],
             [
              0.4444444444444444,
              "#bd3786"
             ],
             [
              0.5555555555555556,
              "#d8576b"
             ],
             [
              0.6666666666666666,
              "#ed7953"
             ],
             [
              0.7777777777777778,
              "#fb9f3a"
             ],
             [
              0.8888888888888888,
              "#fdca26"
             ],
             [
              1,
              "#f0f921"
             ]
            ],
            "type": "heatmap"
           }
          ],
          "heatmapgl": [
           {
            "colorbar": {
             "outlinewidth": 0,
             "ticks": ""
            },
            "colorscale": [
             [
              0,
              "#0d0887"
             ],
             [
              0.1111111111111111,
              "#46039f"
             ],
             [
              0.2222222222222222,
              "#7201a8"
             ],
             [
              0.3333333333333333,
              "#9c179e"
             ],
             [
              0.4444444444444444,
              "#bd3786"
             ],
             [
              0.5555555555555556,
              "#d8576b"
             ],
             [
              0.6666666666666666,
              "#ed7953"
             ],
             [
              0.7777777777777778,
              "#fb9f3a"
             ],
             [
              0.8888888888888888,
              "#fdca26"
             ],
             [
              1,
              "#f0f921"
             ]
            ],
            "type": "heatmapgl"
           }
          ],
          "histogram": [
           {
            "marker": {
             "pattern": {
              "fillmode": "overlay",
              "size": 10,
              "solidity": 0.2
             }
            },
            "type": "histogram"
           }
          ],
          "histogram2d": [
           {
            "colorbar": {
             "outlinewidth": 0,
             "ticks": ""
            },
            "colorscale": [
             [
              0,
              "#0d0887"
             ],
             [
              0.1111111111111111,
              "#46039f"
             ],
             [
              0.2222222222222222,
              "#7201a8"
             ],
             [
              0.3333333333333333,
              "#9c179e"
             ],
             [
              0.4444444444444444,
              "#bd3786"
             ],
             [
              0.5555555555555556,
              "#d8576b"
             ],
             [
              0.6666666666666666,
              "#ed7953"
             ],
             [
              0.7777777777777778,
              "#fb9f3a"
             ],
             [
              0.8888888888888888,
              "#fdca26"
             ],
             [
              1,
              "#f0f921"
             ]
            ],
            "type": "histogram2d"
           }
          ],
          "histogram2dcontour": [
           {
            "colorbar": {
             "outlinewidth": 0,
             "ticks": ""
            },
            "colorscale": [
             [
              0,
              "#0d0887"
             ],
             [
              0.1111111111111111,
              "#46039f"
             ],
             [
              0.2222222222222222,
              "#7201a8"
             ],
             [
              0.3333333333333333,
              "#9c179e"
             ],
             [
              0.4444444444444444,
              "#bd3786"
             ],
             [
              0.5555555555555556,
              "#d8576b"
             ],
             [
              0.6666666666666666,
              "#ed7953"
             ],
             [
              0.7777777777777778,
              "#fb9f3a"
             ],
             [
              0.8888888888888888,
              "#fdca26"
             ],
             [
              1,
              "#f0f921"
             ]
            ],
            "type": "histogram2dcontour"
           }
          ],
          "mesh3d": [
           {
            "colorbar": {
             "outlinewidth": 0,
             "ticks": ""
            },
            "type": "mesh3d"
           }
          ],
          "parcoords": [
           {
            "line": {
             "colorbar": {
              "outlinewidth": 0,
              "ticks": ""
             }
            },
            "type": "parcoords"
           }
          ],
          "pie": [
           {
            "automargin": true,
            "type": "pie"
           }
          ],
          "scatter": [
           {
            "fillpattern": {
             "fillmode": "overlay",
             "size": 10,
             "solidity": 0.2
            },
            "type": "scatter"
           }
          ],
          "scatter3d": [
           {
            "line": {
             "colorbar": {
              "outlinewidth": 0,
              "ticks": ""
             }
            },
            "marker": {
             "colorbar": {
              "outlinewidth": 0,
              "ticks": ""
             }
            },
            "type": "scatter3d"
           }
          ],
          "scattercarpet": [
           {
            "marker": {
             "colorbar": {
              "outlinewidth": 0,
              "ticks": ""
             }
            },
            "type": "scattercarpet"
           }
          ],
          "scattergeo": [
           {
            "marker": {
             "colorbar": {
              "outlinewidth": 0,
              "ticks": ""
             }
            },
            "type": "scattergeo"
           }
          ],
          "scattergl": [
           {
            "marker": {
             "colorbar": {
              "outlinewidth": 0,
              "ticks": ""
             }
            },
            "type": "scattergl"
           }
          ],
          "scattermapbox": [
           {
            "marker": {
             "colorbar": {
              "outlinewidth": 0,
              "ticks": ""
             }
            },
            "type": "scattermapbox"
           }
          ],
          "scatterpolar": [
           {
            "marker": {
             "colorbar": {
              "outlinewidth": 0,
              "ticks": ""
             }
            },
            "type": "scatterpolar"
           }
          ],
          "scatterpolargl": [
           {
            "marker": {
             "colorbar": {
              "outlinewidth": 0,
              "ticks": ""
             }
            },
            "type": "scatterpolargl"
           }
          ],
          "scatterternary": [
           {
            "marker": {
             "colorbar": {
              "outlinewidth": 0,
              "ticks": ""
             }
            },
            "type": "scatterternary"
           }
          ],
          "surface": [
           {
            "colorbar": {
             "outlinewidth": 0,
             "ticks": ""
            },
            "colorscale": [
             [
              0,
              "#0d0887"
             ],
             [
              0.1111111111111111,
              "#46039f"
             ],
             [
              0.2222222222222222,
              "#7201a8"
             ],
             [
              0.3333333333333333,
              "#9c179e"
             ],
             [
              0.4444444444444444,
              "#bd3786"
             ],
             [
              0.5555555555555556,
              "#d8576b"
             ],
             [
              0.6666666666666666,
              "#ed7953"
             ],
             [
              0.7777777777777778,
              "#fb9f3a"
             ],
             [
              0.8888888888888888,
              "#fdca26"
             ],
             [
              1,
              "#f0f921"
             ]
            ],
            "type": "surface"
           }
          ],
          "table": [
           {
            "cells": {
             "fill": {
              "color": "#EBF0F8"
             },
             "line": {
              "color": "white"
             }
            },
            "header": {
             "fill": {
              "color": "#C8D4E3"
             },
             "line": {
              "color": "white"
             }
            },
            "type": "table"
           }
          ]
         },
         "layout": {
          "annotationdefaults": {
           "arrowcolor": "#2a3f5f",
           "arrowhead": 0,
           "arrowwidth": 1
          },
          "autotypenumbers": "strict",
          "coloraxis": {
           "colorbar": {
            "outlinewidth": 0,
            "ticks": ""
           }
          },
          "colorscale": {
           "diverging": [
            [
             0,
             "#8e0152"
            ],
            [
             0.1,
             "#c51b7d"
            ],
            [
             0.2,
             "#de77ae"
            ],
            [
             0.3,
             "#f1b6da"
            ],
            [
             0.4,
             "#fde0ef"
            ],
            [
             0.5,
             "#f7f7f7"
            ],
            [
             0.6,
             "#e6f5d0"
            ],
            [
             0.7,
             "#b8e186"
            ],
            [
             0.8,
             "#7fbc41"
            ],
            [
             0.9,
             "#4d9221"
            ],
            [
             1,
             "#276419"
            ]
           ],
           "sequential": [
            [
             0,
             "#0d0887"
            ],
            [
             0.1111111111111111,
             "#46039f"
            ],
            [
             0.2222222222222222,
             "#7201a8"
            ],
            [
             0.3333333333333333,
             "#9c179e"
            ],
            [
             0.4444444444444444,
             "#bd3786"
            ],
            [
             0.5555555555555556,
             "#d8576b"
            ],
            [
             0.6666666666666666,
             "#ed7953"
            ],
            [
             0.7777777777777778,
             "#fb9f3a"
            ],
            [
             0.8888888888888888,
             "#fdca26"
            ],
            [
             1,
             "#f0f921"
            ]
           ],
           "sequentialminus": [
            [
             0,
             "#0d0887"
            ],
            [
             0.1111111111111111,
             "#46039f"
            ],
            [
             0.2222222222222222,
             "#7201a8"
            ],
            [
             0.3333333333333333,
             "#9c179e"
            ],
            [
             0.4444444444444444,
             "#bd3786"
            ],
            [
             0.5555555555555556,
             "#d8576b"
            ],
            [
             0.6666666666666666,
             "#ed7953"
            ],
            [
             0.7777777777777778,
             "#fb9f3a"
            ],
            [
             0.8888888888888888,
             "#fdca26"
            ],
            [
             1,
             "#f0f921"
            ]
           ]
          },
          "colorway": [
           "#636efa",
           "#EF553B",
           "#00cc96",
           "#ab63fa",
           "#FFA15A",
           "#19d3f3",
           "#FF6692",
           "#B6E880",
           "#FF97FF",
           "#FECB52"
          ],
          "font": {
           "color": "#2a3f5f"
          },
          "geo": {
           "bgcolor": "white",
           "lakecolor": "white",
           "landcolor": "#E5ECF6",
           "showlakes": true,
           "showland": true,
           "subunitcolor": "white"
          },
          "hoverlabel": {
           "align": "left"
          },
          "hovermode": "closest",
          "mapbox": {
           "style": "light"
          },
          "paper_bgcolor": "white",
          "plot_bgcolor": "#E5ECF6",
          "polar": {
           "angularaxis": {
            "gridcolor": "white",
            "linecolor": "white",
            "ticks": ""
           },
           "bgcolor": "#E5ECF6",
           "radialaxis": {
            "gridcolor": "white",
            "linecolor": "white",
            "ticks": ""
           }
          },
          "scene": {
           "xaxis": {
            "backgroundcolor": "#E5ECF6",
            "gridcolor": "white",
            "gridwidth": 2,
            "linecolor": "white",
            "showbackground": true,
            "ticks": "",
            "zerolinecolor": "white"
           },
           "yaxis": {
            "backgroundcolor": "#E5ECF6",
            "gridcolor": "white",
            "gridwidth": 2,
            "linecolor": "white",
            "showbackground": true,
            "ticks": "",
            "zerolinecolor": "white"
           },
           "zaxis": {
            "backgroundcolor": "#E5ECF6",
            "gridcolor": "white",
            "gridwidth": 2,
            "linecolor": "white",
            "showbackground": true,
            "ticks": "",
            "zerolinecolor": "white"
           }
          },
          "shapedefaults": {
           "line": {
            "color": "#2a3f5f"
           }
          },
          "ternary": {
           "aaxis": {
            "gridcolor": "white",
            "linecolor": "white",
            "ticks": ""
           },
           "baxis": {
            "gridcolor": "white",
            "linecolor": "white",
            "ticks": ""
           },
           "bgcolor": "#E5ECF6",
           "caxis": {
            "gridcolor": "white",
            "linecolor": "white",
            "ticks": ""
           }
          },
          "title": {
           "x": 0.05
          },
          "xaxis": {
           "automargin": true,
           "gridcolor": "white",
           "linecolor": "white",
           "ticks": "",
           "title": {
            "standoff": 15
           },
           "zerolinecolor": "white",
           "zerolinewidth": 2
          },
          "yaxis": {
           "automargin": true,
           "gridcolor": "white",
           "linecolor": "white",
           "ticks": "",
           "title": {
            "standoff": 15
           },
           "zerolinecolor": "white",
           "zerolinewidth": 2
          }
         }
        },
        "title": {
         "text": "SPY240205P00494000"
        }
       }
      }
     },
     "metadata": {},
     "output_type": "display_data"
    }
   ],
   "source": [
    "for ticker in tickers:\n",
    "    _ = plot_candles_OHLC(full_day_opts_nomissing_df.loc[full_day_opts_nomissing_df.index.get_level_values(\"symbol\") == ticker, [\"open\", \"high\", \"low\", \"close\"]].values, ticker)"
   ]
  },
  {
   "cell_type": "code",
   "execution_count": 33,
   "metadata": {},
   "outputs": [
    {
     "name": "stdout",
     "output_type": "stream",
     "text": [
      "Initial value:  212.0\n"
     ]
    },
    {
     "data": {
      "text/plain": [
       "[<matplotlib.lines.Line2D at 0x2065d1c7dd0>]"
      ]
     },
     "execution_count": 33,
     "metadata": {},
     "output_type": "execute_result"
    },
    {
     "data": {
      "image/png": "[encoded data removed]",
      "text/plain": [
       "<Figure size 640x480 with 1 Axes>"
      ]
     },
     "metadata": {},
     "output_type": "display_data"
    }
   ],
   "source": [
    "# # observe position value during the course of the day\n",
    "\n",
    "timestamps = full_day_opts_nomissing_df.index.get_level_values(\"timestamp\").unique()\n",
    "\n",
    "def contracts_value(\n",
    "    longs: list[Option], \n",
    "    shorts: list[Option], \n",
    "    df: pd.DataFrame, \n",
    "    timestamp: datetime,\n",
    "    is_end_of_timestamp: bool = True,\n",
    ") -> float:\n",
    "    candle_part = \"close\" if is_end_of_timestamp else \"open\"\n",
    "    curr_value = 0\n",
    "    for opt in longs:\n",
    "        curr_value += df.loc[(opt.ticker, timestamp), candle_part] * 100  # 100 options per contract\n",
    "    for opt in shorts:\n",
    "        curr_value -= df.loc[(opt.ticker, timestamp), candle_part] * 100  # 100 options per contract\n",
    "    return float(curr_value)\n",
    "\n",
    "# initiate positions on open\n",
    "inital_premium = -contracts_value(iron_condor_longs, iron_condor_shorts, full_day_opts_nomissing_df, timestamps[0], is_end_of_timestamp=False)\n",
    "# minus sign because we are selling shorts and buyng longs, \n",
    "# but the above function calculates the reverse (our money after selling longs and buying shorts, i.e. after closing positions)\n",
    "print(\"Initial value: \", inital_premium)\n",
    "\n",
    "values = np.array([contracts_value(iron_condor_longs, iron_condor_shorts, full_day_opts_nomissing_df, timestamp) for timestamp in timestamps])\n",
    "\n",
    "total_values = values + inital_premium\n",
    "\n",
    "plt.plot(timestamps, total_values)"
   ]
  },
  {
   "cell_type": "markdown",
   "metadata": {},
   "source": [
    "That's nice, but how to determine when to close the positions?"
   ]
  },
  {
   "cell_type": "markdown",
   "metadata": {},
   "source": [
    "### Backtesting teh strategies"
   ]
  },
  {
   "cell_type": "code",
   "execution_count": 34,
   "metadata": {},
   "outputs": [],
   "source": [
    "# make a convenience function that returns the value of the positions for each timestamp during a given day\n",
    "\n",
    "def positions_value_during_day(\n",
    "    longs: list[Option], \n",
    "    shorts: list[Option], \n",
    "    df_day_no_missing_values: pd.DataFrame, \n",
    ") -> NDArray:\n",
    "    timestamps = df_day_no_missing_values.index.get_level_values(\"timestamp\").unique()\n",
    "    inital_premium = -contracts_value(longs, shorts, df_day_no_missing_values, timestamps[0], is_end_of_timestamp=False)\n",
    "    values = np.array([contracts_value(longs, shorts, df_day_no_missing_values, timestamp) for timestamp in timestamps])\n",
    "    return values + inital_premium"
   ]
  },
  {
   "cell_type": "code",
   "execution_count": 35,
   "metadata": {},
   "outputs": [],
   "source": [
    "def fetch_full_day_options_data(\n",
    "    day: datetime,\n",
    "    longs: list[Option], \n",
    "    shorts: list[Option], \n",
    ") -> pd.DataFrame:\n",
    "    tickers = [opt.ticker for opt in longs + shorts]\n",
    "    full_day_opts_df = options_client.get_option_bars(OptionBarsRequest(\n",
    "        symbol_or_symbols=tickers,\n",
    "        timeframe=TimeFrame.Minute,  # type: ignore\n",
    "        start=day,\n",
    "    )).df  # type: ignore\n",
    "    full_day_opts_nomissing_df = full_day_opts_df\\\n",
    "        .reindex(pd.MultiIndex.from_product([\n",
    "            tickers, \n",
    "            full_day_opts_df.index.get_level_values(\"timestamp\").unique()\n",
    "        ], names=[\"symbol\", \"timestamp\"]))\n",
    "    full_day_opts_nomissing_df[[\"volume\", \"vwap\"]] = full_day_opts_nomissing_df[[\"volume\", \"vwap\"]].fillna(0)\n",
    "    full_day_opts_nomissing_df = full_day_opts_nomissing_df.fillna(0.01)\n",
    "    return full_day_opts_nomissing_df"
   ]
  },
  {
   "cell_type": "code",
   "execution_count": 36,
   "metadata": {},
   "outputs": [],
   "source": [
    "def pick_iron_condor_options(\n",
    "    day: datetime,\n",
    "    asset_ticker: str,\n",
    "    df_assets: pd.DataFrame,\n",
    "    *,\n",
    "    dte: int,\n",
    "    wingspan_ratio: float,\n",
    ") -> tuple[list[Option], list[Option]]:\n",
    "    \"\"\"Return two lists of options: first longs, then shorts.\"\"\"\n",
    "    df_asset = df_assets.loc[df_assets.index.get_level_values(\"symbol\") == asset_ticker]\n",
    "\n",
    "    curr_price = df_asset[df_asset.index.get_level_values(\"timestamp\") >= day.strftime(\"%Y-%m-%d\")].sort_index().iloc[0][\"open\"]\n",
    "    lower_strike, higher_strike = curr_price * (1 - wingspan_ratio), curr_price * (1 + wingspan_ratio)\n",
    "    high, low, middle = round(higher_strike), round(lower_strike), round(curr_price)\n",
    "\n",
    "    expiry_date = day + timedelta(days=dte)\n",
    "    iron_condor_longs = [\n",
    "        Option(OptionType.CALL, asset_ticker, expiry_date, high),\n",
    "        Option(OptionType.PUT, asset_ticker, expiry_date, low),\n",
    "    ]\n",
    "    iron_condor_shorts = [\n",
    "        Option(OptionType.CALL, asset_ticker, expiry_date, middle),\n",
    "        Option(OptionType.PUT, asset_ticker, expiry_date, middle),\n",
    "    ]\n",
    "    return iron_condor_longs, iron_condor_shorts\n"
   ]
  },
  {
   "cell_type": "code",
   "execution_count": 37,
   "metadata": {},
   "outputs": [],
   "source": [
    "from typing import Callable\n",
    "from tqdm import tqdm\n",
    "\n",
    "def do_simulation(\n",
    "    starting_money: float,\n",
    "    n_contracts: int,\n",
    "    df_asset: pd.DataFrame,\n",
    "    dte: int,\n",
    "    wingspan_ratio: float,\n",
    "    closing_strategy: Callable[[NDArray], float],\n",
    ") -> pd.DataFrame:\n",
    "    \"\"\"Perform a simulation of the given strategy.\n",
    "    Return the value of the portfolio at the end of each day.\"\"\"\n",
    "\n",
    "    money = starting_money\n",
    "    results = []\n",
    "\n",
    "    for timestamp in tqdm(df_asset.index.get_level_values(\"timestamp\").unique()):\n",
    "        day = timestamp.to_pydatetime()\n",
    "        longs, shorts = pick_iron_condor_options(day, asset, df_asset, dte=dte, wingspan_ratio=wingspan_ratio)\n",
    "        df_day = fetch_full_day_options_data(day, longs, shorts)\n",
    "        values = positions_value_during_day(longs, shorts, df_day)\n",
    "        closing_value = closing_strategy(values)\n",
    "        money += closing_value * n_contracts\n",
    "        results.append(money)\n",
    "    \n",
    "    return pd.DataFrame(results, index=df_asset.index.get_level_values(\"timestamp\").unique(), columns=[\"value\"])"
   ]
  },
  {
   "cell_type": "code",
   "execution_count": 38,
   "metadata": {},
   "outputs": [],
   "source": [
    "def closing_strategy_last(values: NDArray) -> float:\n",
    "    return values[-1]\n",
    "\n",
    "def closing_strategy_max(values: NDArray) -> float:\n",
    "    return values.max()\n",
    "\n",
    "def closing_strategy_middle(values: NDArray) -> float:\n",
    "    return values[len(values) // 2]\n",
    "\n",
    "def closing_strategy_limit(limit_value: float) -> Callable[[NDArray], float]:\n",
    "    def strategy(values: NDArray) -> float:\n",
    "        for value in values:\n",
    "            if value >= limit_value:\n",
    "                return value\n",
    "        return values[-1]\n",
    "    return strategy\n",
    "\n",
    "def closing_strategy_limit_stoploss(limit_value: float, stoploss_value: float) -> Callable[[NDArray], float]:\n",
    "    def strategy(values: NDArray) -> float:\n",
    "        for value in values:\n",
    "            if value >= limit_value:\n",
    "                return value\n",
    "            if value <= stoploss_value:\n",
    "                return value\n",
    "        return values[-1]\n",
    "    return strategy\n",
    "\n",
    "def closing_strategy_last15(values: NDArray) -> float:\n",
    "    return values[-15]\n"
   ]
  },
  {
   "cell_type": "code",
   "execution_count": 39,
   "metadata": {},
   "outputs": [
    {
     "name": "stdout",
     "output_type": "stream",
     "text": [
      "<class 'pandas.core.frame.DataFrame'>\n",
      "MultiIndex: 194 entries, ('SPY', Timestamp('2024-02-05 05:00:00+0000', tz='UTC')) to ('SPY', Timestamp('2024-11-08 05:00:00+0000', tz='UTC'))\n",
      "Data columns (total 7 columns):\n",
      " #   Column       Non-Null Count  Dtype  \n",
      "---  ------       --------------  -----  \n",
      " 0   open         194 non-null    float64\n",
      " 1   high         194 non-null    float64\n",
      " 2   low          194 non-null    float64\n",
      " 3   close        194 non-null    float64\n",
      " 4   volume       194 non-null    float64\n",
      " 5   trade_count  194 non-null    float64\n",
      " 6   vwap         194 non-null    float64\n",
      "dtypes: float64(7)\n",
      "memory usage: 17.0+ KB\n"
     ]
    }
   ],
   "source": [
    "df_asset.info()  # just a sanity check that after everything above it is still here and okay"
   ]
  },
  {
   "cell_type": "code",
   "execution_count": 42,
   "metadata": {},
   "outputs": [
    {
     "name": "stderr",
     "output_type": "stream",
     "text": [
      "100%|██████████| 194/194 [01:14<00:00,  2.62it/s]\n"
     ]
    }
   ],
   "source": [
    "# df_period = df_asset[df_asset.index.get_level_values(\"timestamp\") >= start_day.strftime(\"%Y-%m-%d\")]\n",
    "\n",
    "portfolio_df = do_simulation(\n",
    "    starting_money=20_000,\n",
    "    n_contracts=1,\n",
    "    df_asset=df_asset,\n",
    "    dte=0,\n",
    "    wingspan_ratio=0.015,\n",
    "    closing_strategy=closing_strategy_last15,\n",
    ")"
   ]
  },
  {
   "cell_type": "code",
   "execution_count": 43,
   "metadata": {},
   "outputs": [
    {
     "data": {
      "text/plain": [
       "[<matplotlib.lines.Line2D at 0x2065d397350>]"
      ]
     },
     "execution_count": 43,
     "metadata": {},
     "output_type": "execute_result"
    },
    {
     "data": {
      "image/png": "[encoded data removed]",
      "text/plain": [
       "<Figure size 640x480 with 1 Axes>"
      ]
     },
     "metadata": {},
     "output_type": "display_data"
    }
   ],
   "source": [
    "plt.plot(portfolio_df)"
   ]
  },
  {
   "cell_type": "code",
   "execution_count": null,
   "metadata": {},
   "outputs": [],
   "source": []
  }
 ],
 "metadata": {
  "kernelspec": {
   "display_name": "venv",
   "language": "python",
   "name": "python3"
  },
  "language_info": {
   "codemirror_mode": {
    "name": "ipython",
    "version": 3
   },
   "file_extension": ".py",
   "mimetype": "text/x-python",
   "name": "python",
   "nbconvert_exporter": "python",
   "pygments_lexer": "ipython3",
   "version": "3.11.9"
  }
 },
 "nbformat": 4,
 "nbformat_minor": 2
}
